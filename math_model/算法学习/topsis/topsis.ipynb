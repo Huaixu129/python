{
 "cells": [
  {
   "cell_type": "code",
   "execution_count": 1,
   "outputs": [],
   "source": [
    "import numpy as np"
   ],
   "metadata": {
    "collapsed": false,
    "ExecuteTime": {
     "end_time": "2024-02-28T13:25:42.390252Z",
     "start_time": "2024-02-28T13:25:42.214808700Z"
    }
   },
   "id": "c6c64ae329bdf2eb"
  },
  {
   "cell_type": "code",
   "execution_count": 2,
   "outputs": [
    {
     "name": "stdout",
     "output_type": "stream",
     "text": [
      "[0.22337069 0.19818175 0.1626775  0.18908219 0.04941305 0.0465146\n",
      " 0.13076021]\n"
     ]
    }
   ],
   "source": [
    "\n",
    "#定义转换函数：\n",
    "def f_1(A):#极小型->极大型\n",
    "    x = np.max(A)\n",
    "    for i in range(0,A.shape[0]):\n",
    "        A[i] = x-A[i]\n",
    "    return A\n",
    "\n",
    "def f_2(A,a):#中间型->极大型\n",
    "    x = np.max(np.abs(A-a))\n",
    "    for i in range(0,A.shape[0]):\n",
    "        A[i] = 1-np.abs(A[i]-a)/x\n",
    "    return A\n",
    "\n",
    "def f_3(A,a,b):#区间型->极大型\n",
    "    u = a-np.min(A)\n",
    "    v = np.max(A)-b\n",
    "    M = v\n",
    "    if u>=v:\n",
    "        M=u\n",
    "    for i in range(0,A.shape[0]):\n",
    "        if A[i]<=a:\n",
    "            A[i] = 1-(a-A[i])/M\n",
    "        elif A[i]>=b:\n",
    "            A[i] = 1-(A[i]-b)/M\n",
    "        else:\n",
    "            A[i] = 1\n",
    "    return A\n",
    "\n",
    "#定义标准化函数：\n",
    "def standardize(A):\n",
    "    for j in range(0,A.shape[1]):\n",
    "        sum = 0\n",
    "        for i in range(0,A.shape[0]):\n",
    "            sum = sum+A[i][j]**2\n",
    "        for i in range(0,A.shape[0]):\n",
    "            A[i][j] = A[i][j]/np.sqrt(sum)\n",
    "    return A\n",
    "\n",
    "#定义打分函数：\n",
    "def score(Z):\n",
    "    Z = np.transpose(Z)\n",
    "    Z_max = []\n",
    "    Z_min = []\n",
    "    for j in range(0,Z.shape[0]):\n",
    "        Z_max.append(np.max(Z[j]))\n",
    "        Z_min.append(np.min(Z[j]))\n",
    "    S = []\n",
    "    for i in range(0,Z.shape[1]):\n",
    "        sum1 = 0\n",
    "        for j in range(0,Z.shape[0]):\n",
    "            sum1 = sum1+(Z[j][i]-Z_max[j])**2\n",
    "        D1 = np.sqrt(sum1)\n",
    "        sum2 = 0\n",
    "        for j in range(0,Z.shape[0]):\n",
    "            sum2 = sum2+(Z[j][i]-Z_min[j])**2\n",
    "        D2 = np.sqrt(sum2)\n",
    "        S.append(D2/(D1+D2))\n",
    "    return S\n",
    "\n",
    "#归一化函数：\n",
    "def g(S):\n",
    "    S = np.array(S)\n",
    "    sum = 0\n",
    "    for i in range(0,S.shape[0]):\n",
    "        sum = sum+S[i]\n",
    "    for i in range(0,S.shape[0]):\n",
    "        S[i] = S[i]/sum\n",
    "    return S\n",
    "\n",
    "def main():\n",
    "    A = np.array([[28,19,3,5,3,3,8],\n",
    "                  [1806,3180,3080,2560,3551,3309,3139],\n",
    "                  [11.2,7.98,8.12,5.29,4.3,5.68,6.58],\n",
    "                  [0.67,0.71,0.75,0.76,0.874,0.92,0.708],\n",
    "                  [17413,11770,9081,11566,8295,9143,9556],\n",
    "                  [0.823,0.741,0.804,0.7947,0.851,0.754,0.8676],\n",
    "                  [0.112,0.111,0.1,0.091,0.071,0.058,0.067]])\n",
    "    A[1] = f_2(A[1],2500)\n",
    "    A[3] = f_2(A[3],0.74)\n",
    "    A[6] = f_2(A[6],0.105)\n",
    "    B = np.transpose(A)\n",
    "    Z = standardize(B)\n",
    "    S = score(Z)\n",
    "    S1 = g(S)\n",
    "    print(S1)\n",
    "\n",
    "main()\n",
    "\n"
   ],
   "metadata": {
    "collapsed": false,
    "ExecuteTime": {
     "end_time": "2024-02-28T13:25:42.442158700Z",
     "start_time": "2024-02-28T13:25:42.397441600Z"
    }
   },
   "id": "ffce12c601ad7"
  }
 ],
 "metadata": {
  "kernelspec": {
   "display_name": "Python 3",
   "language": "python",
   "name": "python3"
  },
  "language_info": {
   "codemirror_mode": {
    "name": "ipython",
    "version": 2
   },
   "file_extension": ".py",
   "mimetype": "text/x-python",
   "name": "python",
   "nbconvert_exporter": "python",
   "pygments_lexer": "ipython2",
   "version": "2.7.6"
  }
 },
 "nbformat": 4,
 "nbformat_minor": 5
}
