{
 "cells": [
  {
   "cell_type": "code",
   "execution_count": 11,
   "id": "initial_id",
   "metadata": {
    "collapsed": true,
    "ExecuteTime": {
     "end_time": "2024-02-08T04:57:45.876587700Z",
     "start_time": "2024-02-08T04:57:45.859482700Z"
    }
   },
   "outputs": [],
   "source": [
    "import numpy as np"
   ]
  },
  {
   "cell_type": "code",
   "execution_count": 12,
   "outputs": [],
   "source": [
    "t1 = np.array(range(1,21))"
   ],
   "metadata": {
    "collapsed": false,
    "ExecuteTime": {
     "end_time": "2024-02-08T04:57:45.878592900Z",
     "start_time": "2024-02-08T04:57:45.863401900Z"
    }
   },
   "id": "1a92eebfdefc6224"
  },
  {
   "cell_type": "code",
   "execution_count": 13,
   "outputs": [
    {
     "data": {
      "text/plain": "array([ 1,  2,  3,  4,  5,  6,  7,  8,  9, 10, 11, 12, 13, 14, 15, 16, 17,\n       18, 19, 20])"
     },
     "execution_count": 13,
     "metadata": {},
     "output_type": "execute_result"
    }
   ],
   "source": [
    "t1"
   ],
   "metadata": {
    "collapsed": false,
    "ExecuteTime": {
     "end_time": "2024-02-08T04:57:45.915518100Z",
     "start_time": "2024-02-08T04:57:45.878592900Z"
    }
   },
   "id": "fbad1bf254d3ecf4"
  },
  {
   "cell_type": "code",
   "execution_count": 14,
   "outputs": [],
   "source": [
    "t2 = t1.reshape(4,5)"
   ],
   "metadata": {
    "collapsed": false,
    "ExecuteTime": {
     "end_time": "2024-02-08T04:57:45.920236400Z",
     "start_time": "2024-02-08T04:57:45.884686200Z"
    }
   },
   "id": "cf36bd46d925c9a0"
  },
  {
   "cell_type": "code",
   "execution_count": 15,
   "outputs": [
    {
     "data": {
      "text/plain": "array([[ 1,  2,  3,  4,  5],\n       [ 6,  7,  8,  9, 10],\n       [11, 12, 13, 14, 15],\n       [16, 17, 18, 19, 20]])"
     },
     "execution_count": 15,
     "metadata": {},
     "output_type": "execute_result"
    }
   ],
   "source": [
    "t2"
   ],
   "metadata": {
    "collapsed": false,
    "ExecuteTime": {
     "end_time": "2024-02-08T04:57:45.920236400Z",
     "start_time": "2024-02-08T04:57:45.890193800Z"
    }
   },
   "id": "eea9e3e6ddd397d8"
  },
  {
   "cell_type": "code",
   "execution_count": 16,
   "outputs": [
    {
     "data": {
      "text/plain": "array([[ 2,  3,  4,  5,  6],\n       [ 7,  8,  9, 10, 11],\n       [12, 13, 14, 15, 16],\n       [17, 18, 19, 20, 21]])"
     },
     "execution_count": 16,
     "metadata": {},
     "output_type": "execute_result"
    }
   ],
   "source": [
    "t2 + 1"
   ],
   "metadata": {
    "collapsed": false,
    "ExecuteTime": {
     "end_time": "2024-02-08T04:57:45.920236400Z",
     "start_time": "2024-02-08T04:57:45.895843700Z"
    }
   },
   "id": "4bb830a3a49a1c61"
  },
  {
   "cell_type": "code",
   "execution_count": 18,
   "outputs": [
    {
     "data": {
      "text/plain": "array([[ 2,  4,  6,  8, 10],\n       [12, 14, 16, 18, 20],\n       [22, 24, 26, 28, 30],\n       [32, 34, 36, 38, 40]])"
     },
     "execution_count": 18,
     "metadata": {},
     "output_type": "execute_result"
    }
   ],
   "source": [
    "t2 * 2"
   ],
   "metadata": {
    "collapsed": false,
    "ExecuteTime": {
     "end_time": "2024-02-08T04:57:59.399136900Z",
     "start_time": "2024-02-08T04:57:59.388134Z"
    }
   },
   "id": "52bd28af453056ae"
  },
  {
   "cell_type": "code",
   "execution_count": 19,
   "outputs": [
    {
     "data": {
      "text/plain": "array([[ 0.5,  1. ,  1.5,  2. ,  2.5],\n       [ 3. ,  3.5,  4. ,  4.5,  5. ],\n       [ 5.5,  6. ,  6.5,  7. ,  7.5],\n       [ 8. ,  8.5,  9. ,  9.5, 10. ]])"
     },
     "execution_count": 19,
     "metadata": {},
     "output_type": "execute_result"
    }
   ],
   "source": [
    "t2 / 2"
   ],
   "metadata": {
    "collapsed": false,
    "ExecuteTime": {
     "end_time": "2024-02-08T04:59:32.301956600Z",
     "start_time": "2024-02-08T04:59:32.289435600Z"
    }
   },
   "id": "9ad4f9385ac311a0"
  },
  {
   "cell_type": "code",
   "execution_count": 20,
   "outputs": [],
   "source": [
    "t3 = np.array(range(20))"
   ],
   "metadata": {
    "collapsed": false,
    "ExecuteTime": {
     "end_time": "2024-02-08T05:01:28.303964800Z",
     "start_time": "2024-02-08T05:01:28.297632900Z"
    }
   },
   "id": "f381aa8fb7264ca6"
  },
  {
   "cell_type": "code",
   "execution_count": 27,
   "outputs": [],
   "source": [
    "t3 = t3.reshape(4,5)"
   ],
   "metadata": {
    "collapsed": false,
    "ExecuteTime": {
     "end_time": "2024-02-08T05:02:50.192135800Z",
     "start_time": "2024-02-08T05:02:50.177898500Z"
    }
   },
   "id": "d4249b631b8b5444"
  },
  {
   "cell_type": "code",
   "execution_count": 28,
   "outputs": [
    {
     "data": {
      "text/plain": "array([[ 0,  1,  2,  3,  4],\n       [ 5,  6,  7,  8,  9],\n       [10, 11, 12, 13, 14],\n       [15, 16, 17, 18, 19]])"
     },
     "execution_count": 28,
     "metadata": {},
     "output_type": "execute_result"
    }
   ],
   "source": [
    "t3"
   ],
   "metadata": {
    "collapsed": false,
    "ExecuteTime": {
     "end_time": "2024-02-08T05:02:51.066001600Z",
     "start_time": "2024-02-08T05:02:51.053924500Z"
    }
   },
   "id": "e1562251c5c5322e"
  },
  {
   "cell_type": "code",
   "execution_count": 29,
   "outputs": [],
   "source": [
    "t4 = t2*t3"
   ],
   "metadata": {
    "collapsed": false,
    "ExecuteTime": {
     "end_time": "2024-02-08T05:02:51.913432200Z",
     "start_time": "2024-02-08T05:02:51.904295500Z"
    }
   },
   "id": "2f81a028e29172f5"
  },
  {
   "cell_type": "code",
   "execution_count": 30,
   "outputs": [
    {
     "data": {
      "text/plain": "array([[  0,   2,   6,  12,  20],\n       [ 30,  42,  56,  72,  90],\n       [110, 132, 156, 182, 210],\n       [240, 272, 306, 342, 380]])"
     },
     "execution_count": 30,
     "metadata": {},
     "output_type": "execute_result"
    }
   ],
   "source": [
    "t4"
   ],
   "metadata": {
    "collapsed": false,
    "ExecuteTime": {
     "end_time": "2024-02-08T05:02:55.111813Z",
     "start_time": "2024-02-08T05:02:55.103315500Z"
    }
   },
   "id": "6cedd271a2c8afd7"
  },
  {
   "cell_type": "code",
   "execution_count": 31,
   "outputs": [
    {
     "data": {
      "text/plain": "array([[ 1,  2,  3,  4,  5],\n       [ 6,  7,  8,  9, 10],\n       [11, 12, 13, 14, 15],\n       [16, 17, 18, 19, 20]])"
     },
     "execution_count": 31,
     "metadata": {},
     "output_type": "execute_result"
    }
   ],
   "source": [
    "t2"
   ],
   "metadata": {
    "collapsed": false,
    "ExecuteTime": {
     "end_time": "2024-02-08T05:05:09.041006500Z",
     "start_time": "2024-02-08T05:05:09.031258900Z"
    }
   },
   "id": "68bc52df4ac8c76f"
  },
  {
   "cell_type": "code",
   "execution_count": 35,
   "outputs": [],
   "source": [
    "t5 = np.arange(4).reshape(4,1)"
   ],
   "metadata": {
    "collapsed": false,
    "ExecuteTime": {
     "end_time": "2024-02-08T05:06:41.176761200Z",
     "start_time": "2024-02-08T05:06:41.161219300Z"
    }
   },
   "id": "b07ef5b2916c35ad"
  },
  {
   "cell_type": "code",
   "execution_count": 36,
   "outputs": [
    {
     "data": {
      "text/plain": "array([[0],\n       [1],\n       [2],\n       [3]])"
     },
     "execution_count": 36,
     "metadata": {},
     "output_type": "execute_result"
    }
   ],
   "source": [
    "t5"
   ],
   "metadata": {
    "collapsed": false,
    "ExecuteTime": {
     "end_time": "2024-02-08T05:06:41.812038Z",
     "start_time": "2024-02-08T05:06:41.807295600Z"
    }
   },
   "id": "dfc9dd03033154a4"
  },
  {
   "cell_type": "code",
   "execution_count": 37,
   "outputs": [
    {
     "data": {
      "text/plain": "array([[ 0,  0,  0,  0,  0],\n       [ 6,  7,  8,  9, 10],\n       [22, 24, 26, 28, 30],\n       [48, 51, 54, 57, 60]])"
     },
     "execution_count": 37,
     "metadata": {},
     "output_type": "execute_result"
    }
   ],
   "source": [
    "t2 * t5"
   ],
   "metadata": {
    "collapsed": false,
    "ExecuteTime": {
     "end_time": "2024-02-08T05:06:43.359429400Z",
     "start_time": "2024-02-08T05:06:43.349156700Z"
    }
   },
   "id": "4345e71e417a2ec1"
  },
  {
   "cell_type": "code",
   "execution_count": 38,
   "outputs": [
    {
     "data": {
      "text/plain": "array([[ 1,  2,  3,  4,  5],\n       [ 5,  6,  7,  8,  9],\n       [ 9, 10, 11, 12, 13],\n       [13, 14, 15, 16, 17]])"
     },
     "execution_count": 38,
     "metadata": {},
     "output_type": "execute_result"
    }
   ],
   "source": [
    "t2 - t5"
   ],
   "metadata": {
    "collapsed": false,
    "ExecuteTime": {
     "end_time": "2024-02-08T05:07:24.176899400Z",
     "start_time": "2024-02-08T05:07:24.168422800Z"
    }
   },
   "id": "e6f0f1d493db0e85"
  },
  {
   "cell_type": "code",
   "execution_count": 39,
   "outputs": [],
   "source": [
    "t6 = np.arange(5).reshape(1,5)"
   ],
   "metadata": {
    "collapsed": false,
    "ExecuteTime": {
     "end_time": "2024-02-08T05:08:38.052652700Z",
     "start_time": "2024-02-08T05:08:38.023997100Z"
    }
   },
   "id": "b0eae779eff970e"
  },
  {
   "cell_type": "code",
   "execution_count": 40,
   "outputs": [
    {
     "data": {
      "text/plain": "array([[0, 1, 2, 3, 4]])"
     },
     "execution_count": 40,
     "metadata": {},
     "output_type": "execute_result"
    }
   ],
   "source": [
    "t6"
   ],
   "metadata": {
    "collapsed": false,
    "ExecuteTime": {
     "end_time": "2024-02-08T05:08:41.462774300Z",
     "start_time": "2024-02-08T05:08:41.454331100Z"
    }
   },
   "id": "5b94238390297fa3"
  },
  {
   "cell_type": "code",
   "execution_count": 41,
   "outputs": [
    {
     "data": {
      "text/plain": "array([[ 1,  1,  1,  1,  1],\n       [ 6,  6,  6,  6,  6],\n       [11, 11, 11, 11, 11],\n       [16, 16, 16, 16, 16]])"
     },
     "execution_count": 41,
     "metadata": {},
     "output_type": "execute_result"
    }
   ],
   "source": [
    "t2 - t6"
   ],
   "metadata": {
    "collapsed": false,
    "ExecuteTime": {
     "end_time": "2024-02-08T05:08:58.918858900Z",
     "start_time": "2024-02-08T05:08:58.911287300Z"
    }
   },
   "id": "725bb0d7f3b166a4"
  },
  {
   "cell_type": "code",
   "execution_count": null,
   "outputs": [],
   "source": [],
   "metadata": {
    "collapsed": false
   },
   "id": "d1cdfe7ede307343"
  }
 ],
 "metadata": {
  "kernelspec": {
   "display_name": "Python 3",
   "language": "python",
   "name": "python3"
  },
  "language_info": {
   "codemirror_mode": {
    "name": "ipython",
    "version": 2
   },
   "file_extension": ".py",
   "mimetype": "text/x-python",
   "name": "python",
   "nbconvert_exporter": "python",
   "pygments_lexer": "ipython2",
   "version": "2.7.6"
  }
 },
 "nbformat": 4,
 "nbformat_minor": 5
}
