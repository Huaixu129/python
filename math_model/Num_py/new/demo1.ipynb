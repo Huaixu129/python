{
 "cells": [
  {
   "cell_type": "code",
   "execution_count": 2,
   "id": "initial_id",
   "metadata": {
    "collapsed": true,
    "ExecuteTime": {
     "end_time": "2024-03-08T06:22:43.259913200Z",
     "start_time": "2024-03-08T06:22:37.232478500Z"
    }
   },
   "outputs": [],
   "source": [
    "import numpy as np"
   ]
  },
  {
   "cell_type": "code",
   "execution_count": 3,
   "outputs": [],
   "source": [
    "my_arr = np.array(1000000)"
   ],
   "metadata": {
    "collapsed": false,
    "ExecuteTime": {
     "end_time": "2024-03-08T06:22:43.259913200Z",
     "start_time": "2024-03-08T06:22:37.238556100Z"
    }
   },
   "id": "252528df06de5b3d"
  },
  {
   "cell_type": "code",
   "execution_count": 4,
   "outputs": [],
   "source": [
    "my_list = list(range(1000000))"
   ],
   "metadata": {
    "collapsed": false,
    "ExecuteTime": {
     "end_time": "2024-03-08T06:22:43.259913200Z",
     "start_time": "2024-03-08T06:22:37.277685300Z"
    }
   },
   "id": "916e8d3b4f5c95e5"
  },
  {
   "cell_type": "code",
   "execution_count": 5,
   "outputs": [
    {
     "data": {
      "text/plain": "array(1000000)"
     },
     "execution_count": 5,
     "metadata": {},
     "output_type": "execute_result"
    }
   ],
   "source": [
    "my_arr"
   ],
   "metadata": {
    "collapsed": false,
    "ExecuteTime": {
     "end_time": "2024-03-08T06:22:43.266406200Z",
     "start_time": "2024-03-08T06:22:37.303607Z"
    }
   },
   "id": "aea6dcdd8dbdf1d6"
  },
  {
   "cell_type": "code",
   "execution_count": 6,
   "outputs": [
    {
     "data": {
      "text/plain": "[0,\n 1,\n 2,\n 3,\n 4,\n 5,\n 6,\n 7,\n 8,\n 9,\n 10,\n 11,\n 12,\n 13,\n 14,\n 15,\n 16,\n 17,\n 18,\n 19,\n 20,\n 21,\n 22,\n 23,\n 24,\n 25,\n 26,\n 27,\n 28,\n 29,\n 30,\n 31,\n 32,\n 33,\n 34,\n 35,\n 36,\n 37,\n 38,\n 39,\n 40,\n 41,\n 42,\n 43,\n 44,\n 45,\n 46,\n 47,\n 48,\n 49,\n 50,\n 51,\n 52,\n 53,\n 54,\n 55,\n 56,\n 57,\n 58,\n 59,\n 60,\n 61,\n 62,\n 63,\n 64,\n 65,\n 66,\n 67,\n 68,\n 69,\n 70,\n 71,\n 72,\n 73,\n 74,\n 75,\n 76,\n 77,\n 78,\n 79,\n 80,\n 81,\n 82,\n 83,\n 84,\n 85,\n 86,\n 87,\n 88,\n 89,\n 90,\n 91,\n 92,\n 93,\n 94,\n 95,\n 96,\n 97,\n 98,\n 99,\n 100,\n 101,\n 102,\n 103,\n 104,\n 105,\n 106,\n 107,\n 108,\n 109,\n 110,\n 111,\n 112,\n 113,\n 114,\n 115,\n 116,\n 117,\n 118,\n 119,\n 120,\n 121,\n 122,\n 123,\n 124,\n 125,\n 126,\n 127,\n 128,\n 129,\n 130,\n 131,\n 132,\n 133,\n 134,\n 135,\n 136,\n 137,\n 138,\n 139,\n 140,\n 141,\n 142,\n 143,\n 144,\n 145,\n 146,\n 147,\n 148,\n 149,\n 150,\n 151,\n 152,\n 153,\n 154,\n 155,\n 156,\n 157,\n 158,\n 159,\n 160,\n 161,\n 162,\n 163,\n 164,\n 165,\n 166,\n 167,\n 168,\n 169,\n 170,\n 171,\n 172,\n 173,\n 174,\n 175,\n 176,\n 177,\n 178,\n 179,\n 180,\n 181,\n 182,\n 183,\n 184,\n 185,\n 186,\n 187,\n 188,\n 189,\n 190,\n 191,\n 192,\n 193,\n 194,\n 195,\n 196,\n 197,\n 198,\n 199,\n 200,\n 201,\n 202,\n 203,\n 204,\n 205,\n 206,\n 207,\n 208,\n 209,\n 210,\n 211,\n 212,\n 213,\n 214,\n 215,\n 216,\n 217,\n 218,\n 219,\n 220,\n 221,\n 222,\n 223,\n 224,\n 225,\n 226,\n 227,\n 228,\n 229,\n 230,\n 231,\n 232,\n 233,\n 234,\n 235,\n 236,\n 237,\n 238,\n 239,\n 240,\n 241,\n 242,\n 243,\n 244,\n 245,\n 246,\n 247,\n 248,\n 249,\n 250,\n 251,\n 252,\n 253,\n 254,\n 255,\n 256,\n 257,\n 258,\n 259,\n 260,\n 261,\n 262,\n 263,\n 264,\n 265,\n 266,\n 267,\n 268,\n 269,\n 270,\n 271,\n 272,\n 273,\n 274,\n 275,\n 276,\n 277,\n 278,\n 279,\n 280,\n 281,\n 282,\n 283,\n 284,\n 285,\n 286,\n 287,\n 288,\n 289,\n 290,\n 291,\n 292,\n 293,\n 294,\n 295,\n 296,\n 297,\n 298,\n 299,\n 300,\n 301,\n 302,\n 303,\n 304,\n 305,\n 306,\n 307,\n 308,\n 309,\n 310,\n 311,\n 312,\n 313,\n 314,\n 315,\n 316,\n 317,\n 318,\n 319,\n 320,\n 321,\n 322,\n 323,\n 324,\n 325,\n 326,\n 327,\n 328,\n 329,\n 330,\n 331,\n 332,\n 333,\n 334,\n 335,\n 336,\n 337,\n 338,\n 339,\n 340,\n 341,\n 342,\n 343,\n 344,\n 345,\n 346,\n 347,\n 348,\n 349,\n 350,\n 351,\n 352,\n 353,\n 354,\n 355,\n 356,\n 357,\n 358,\n 359,\n 360,\n 361,\n 362,\n 363,\n 364,\n 365,\n 366,\n 367,\n 368,\n 369,\n 370,\n 371,\n 372,\n 373,\n 374,\n 375,\n 376,\n 377,\n 378,\n 379,\n 380,\n 381,\n 382,\n 383,\n 384,\n 385,\n 386,\n 387,\n 388,\n 389,\n 390,\n 391,\n 392,\n 393,\n 394,\n 395,\n 396,\n 397,\n 398,\n 399,\n 400,\n 401,\n 402,\n 403,\n 404,\n 405,\n 406,\n 407,\n 408,\n 409,\n 410,\n 411,\n 412,\n 413,\n 414,\n 415,\n 416,\n 417,\n 418,\n 419,\n 420,\n 421,\n 422,\n 423,\n 424,\n 425,\n 426,\n 427,\n 428,\n 429,\n 430,\n 431,\n 432,\n 433,\n 434,\n 435,\n 436,\n 437,\n 438,\n 439,\n 440,\n 441,\n 442,\n 443,\n 444,\n 445,\n 446,\n 447,\n 448,\n 449,\n 450,\n 451,\n 452,\n 453,\n 454,\n 455,\n 456,\n 457,\n 458,\n 459,\n 460,\n 461,\n 462,\n 463,\n 464,\n 465,\n 466,\n 467,\n 468,\n 469,\n 470,\n 471,\n 472,\n 473,\n 474,\n 475,\n 476,\n 477,\n 478,\n 479,\n 480,\n 481,\n 482,\n 483,\n 484,\n 485,\n 486,\n 487,\n 488,\n 489,\n 490,\n 491,\n 492,\n 493,\n 494,\n 495,\n 496,\n 497,\n 498,\n 499,\n 500,\n 501,\n 502,\n 503,\n 504,\n 505,\n 506,\n 507,\n 508,\n 509,\n 510,\n 511,\n 512,\n 513,\n 514,\n 515,\n 516,\n 517,\n 518,\n 519,\n 520,\n 521,\n 522,\n 523,\n 524,\n 525,\n 526,\n 527,\n 528,\n 529,\n 530,\n 531,\n 532,\n 533,\n 534,\n 535,\n 536,\n 537,\n 538,\n 539,\n 540,\n 541,\n 542,\n 543,\n 544,\n 545,\n 546,\n 547,\n 548,\n 549,\n 550,\n 551,\n 552,\n 553,\n 554,\n 555,\n 556,\n 557,\n 558,\n 559,\n 560,\n 561,\n 562,\n 563,\n 564,\n 565,\n 566,\n 567,\n 568,\n 569,\n 570,\n 571,\n 572,\n 573,\n 574,\n 575,\n 576,\n 577,\n 578,\n 579,\n 580,\n 581,\n 582,\n 583,\n 584,\n 585,\n 586,\n 587,\n 588,\n 589,\n 590,\n 591,\n 592,\n 593,\n 594,\n 595,\n 596,\n 597,\n 598,\n 599,\n 600,\n 601,\n 602,\n 603,\n 604,\n 605,\n 606,\n 607,\n 608,\n 609,\n 610,\n 611,\n 612,\n 613,\n 614,\n 615,\n 616,\n 617,\n 618,\n 619,\n 620,\n 621,\n 622,\n 623,\n 624,\n 625,\n 626,\n 627,\n 628,\n 629,\n 630,\n 631,\n 632,\n 633,\n 634,\n 635,\n 636,\n 637,\n 638,\n 639,\n 640,\n 641,\n 642,\n 643,\n 644,\n 645,\n 646,\n 647,\n 648,\n 649,\n 650,\n 651,\n 652,\n 653,\n 654,\n 655,\n 656,\n 657,\n 658,\n 659,\n 660,\n 661,\n 662,\n 663,\n 664,\n 665,\n 666,\n 667,\n 668,\n 669,\n 670,\n 671,\n 672,\n 673,\n 674,\n 675,\n 676,\n 677,\n 678,\n 679,\n 680,\n 681,\n 682,\n 683,\n 684,\n 685,\n 686,\n 687,\n 688,\n 689,\n 690,\n 691,\n 692,\n 693,\n 694,\n 695,\n 696,\n 697,\n 698,\n 699,\n 700,\n 701,\n 702,\n 703,\n 704,\n 705,\n 706,\n 707,\n 708,\n 709,\n 710,\n 711,\n 712,\n 713,\n 714,\n 715,\n 716,\n 717,\n 718,\n 719,\n 720,\n 721,\n 722,\n 723,\n 724,\n 725,\n 726,\n 727,\n 728,\n 729,\n 730,\n 731,\n 732,\n 733,\n 734,\n 735,\n 736,\n 737,\n 738,\n 739,\n 740,\n 741,\n 742,\n 743,\n 744,\n 745,\n 746,\n 747,\n 748,\n 749,\n 750,\n 751,\n 752,\n 753,\n 754,\n 755,\n 756,\n 757,\n 758,\n 759,\n 760,\n 761,\n 762,\n 763,\n 764,\n 765,\n 766,\n 767,\n 768,\n 769,\n 770,\n 771,\n 772,\n 773,\n 774,\n 775,\n 776,\n 777,\n 778,\n 779,\n 780,\n 781,\n 782,\n 783,\n 784,\n 785,\n 786,\n 787,\n 788,\n 789,\n 790,\n 791,\n 792,\n 793,\n 794,\n 795,\n 796,\n 797,\n 798,\n 799,\n 800,\n 801,\n 802,\n 803,\n 804,\n 805,\n 806,\n 807,\n 808,\n 809,\n 810,\n 811,\n 812,\n 813,\n 814,\n 815,\n 816,\n 817,\n 818,\n 819,\n 820,\n 821,\n 822,\n 823,\n 824,\n 825,\n 826,\n 827,\n 828,\n 829,\n 830,\n 831,\n 832,\n 833,\n 834,\n 835,\n 836,\n 837,\n 838,\n 839,\n 840,\n 841,\n 842,\n 843,\n 844,\n 845,\n 846,\n 847,\n 848,\n 849,\n 850,\n 851,\n 852,\n 853,\n 854,\n 855,\n 856,\n 857,\n 858,\n 859,\n 860,\n 861,\n 862,\n 863,\n 864,\n 865,\n 866,\n 867,\n 868,\n 869,\n 870,\n 871,\n 872,\n 873,\n 874,\n 875,\n 876,\n 877,\n 878,\n 879,\n 880,\n 881,\n 882,\n 883,\n 884,\n 885,\n 886,\n 887,\n 888,\n 889,\n 890,\n 891,\n 892,\n 893,\n 894,\n 895,\n 896,\n 897,\n 898,\n 899,\n 900,\n 901,\n 902,\n 903,\n 904,\n 905,\n 906,\n 907,\n 908,\n 909,\n 910,\n 911,\n 912,\n 913,\n 914,\n 915,\n 916,\n 917,\n 918,\n 919,\n 920,\n 921,\n 922,\n 923,\n 924,\n 925,\n 926,\n 927,\n 928,\n 929,\n 930,\n 931,\n 932,\n 933,\n 934,\n 935,\n 936,\n 937,\n 938,\n 939,\n 940,\n 941,\n 942,\n 943,\n 944,\n 945,\n 946,\n 947,\n 948,\n 949,\n 950,\n 951,\n 952,\n 953,\n 954,\n 955,\n 956,\n 957,\n 958,\n 959,\n 960,\n 961,\n 962,\n 963,\n 964,\n 965,\n 966,\n 967,\n 968,\n 969,\n 970,\n 971,\n 972,\n 973,\n 974,\n 975,\n 976,\n 977,\n 978,\n 979,\n 980,\n 981,\n 982,\n 983,\n 984,\n 985,\n 986,\n 987,\n 988,\n 989,\n 990,\n 991,\n 992,\n 993,\n 994,\n 995,\n 996,\n 997,\n 998,\n 999,\n ...]"
     },
     "execution_count": 6,
     "metadata": {},
     "output_type": "execute_result"
    }
   ],
   "source": [
    "my_list"
   ],
   "metadata": {
    "collapsed": false,
    "ExecuteTime": {
     "end_time": "2024-03-08T06:22:43.267659600Z",
     "start_time": "2024-03-08T06:22:37.320540400Z"
    }
   },
   "id": "f6794f3254c79fc8"
  },
  {
   "cell_type": "code",
   "execution_count": 7,
   "outputs": [
    {
     "name": "stdout",
     "output_type": "stream",
     "text": [
      "CPU times: total: 0 ns\n",
      "Wall time: 0 ns\n"
     ]
    }
   ],
   "source": [
    "%time for _ in range(10): my_arr2 = my_arr * 2 "
   ],
   "metadata": {
    "collapsed": false,
    "ExecuteTime": {
     "end_time": "2024-03-08T06:22:43.269155100Z",
     "start_time": "2024-03-08T06:22:37.339488900Z"
    }
   },
   "id": "487463a6d42b6029"
  },
  {
   "cell_type": "code",
   "execution_count": 8,
   "outputs": [
    {
     "name": "stdout",
     "output_type": "stream",
     "text": [
      "CPU times: total: 562 ms\n",
      "Wall time: 642 ms\n"
     ]
    }
   ],
   "source": [
    "%time for _ in range(10): my_list2 = [x * 2 for x in my_list]"
   ],
   "metadata": {
    "collapsed": false,
    "ExecuteTime": {
     "end_time": "2024-03-08T06:22:43.270458900Z",
     "start_time": "2024-03-08T06:22:37.349101600Z"
    }
   },
   "id": "25aa5a2446632392"
  },
  {
   "cell_type": "markdown",
   "source": [
    "可以看出numpy的效率之高"
   ],
   "metadata": {
    "collapsed": false
   },
   "id": "d1449f89f0c67e18"
  },
  {
   "cell_type": "code",
   "execution_count": 9,
   "outputs": [],
   "source": [
    "data = np.random.randn(2,3)"
   ],
   "metadata": {
    "collapsed": false,
    "ExecuteTime": {
     "end_time": "2024-03-08T06:22:43.270458900Z",
     "start_time": "2024-03-08T06:22:37.998644100Z"
    }
   },
   "id": "cdd85a57389812d4"
  },
  {
   "cell_type": "code",
   "execution_count": 10,
   "outputs": [
    {
     "data": {
      "text/plain": "array([[ 0.26142977, -0.29343765, -0.318885  ],\n       [-1.25235208, -1.77598404,  0.29039118]])"
     },
     "execution_count": 10,
     "metadata": {},
     "output_type": "execute_result"
    }
   ],
   "source": [
    "data"
   ],
   "metadata": {
    "collapsed": false,
    "ExecuteTime": {
     "end_time": "2024-03-08T06:22:43.271449300Z",
     "start_time": "2024-03-08T06:22:38.042008700Z"
    }
   },
   "id": "64074f449b5aec41"
  },
  {
   "cell_type": "code",
   "execution_count": 11,
   "outputs": [
    {
     "data": {
      "text/plain": "array([[  2.61429775,  -2.9343765 ,  -3.18885004],\n       [-12.52352083, -17.75984037,   2.90391181]])"
     },
     "execution_count": 11,
     "metadata": {},
     "output_type": "execute_result"
    }
   ],
   "source": [
    "data*10"
   ],
   "metadata": {
    "collapsed": false,
    "ExecuteTime": {
     "end_time": "2024-03-08T06:22:43.281781300Z",
     "start_time": "2024-03-08T06:22:38.051309600Z"
    }
   },
   "id": "4ecb04052dee1f69"
  },
  {
   "cell_type": "code",
   "execution_count": 12,
   "outputs": [
    {
     "data": {
      "text/plain": "array([[ 0.52285955, -0.5868753 , -0.63777001],\n       [-2.50470417, -3.55196807,  0.58078236]])"
     },
     "execution_count": 12,
     "metadata": {},
     "output_type": "execute_result"
    }
   ],
   "source": [
    "data+data"
   ],
   "metadata": {
    "collapsed": false,
    "ExecuteTime": {
     "end_time": "2024-03-08T06:22:43.281781300Z",
     "start_time": "2024-03-08T06:22:38.059118600Z"
    }
   },
   "id": "f26e30d8d996c320"
  },
  {
   "cell_type": "markdown",
   "source": [
    "在NumPy中，np.random.randn函数生成标准正态分布（均值为0，标准差为1）的随机数。因此，生成的随机数的范围在理论上是负无穷到正无穷，但通常情况下，绝大多数随机数会落在-3到3之间，而极少数会落在更远的范围内"
   ],
   "metadata": {
    "collapsed": false
   },
   "id": "5a46ab54e599960c"
  },
  {
   "cell_type": "code",
   "execution_count": 13,
   "outputs": [
    {
     "data": {
      "text/plain": "(2, 3)"
     },
     "execution_count": 13,
     "metadata": {},
     "output_type": "execute_result"
    }
   ],
   "source": [
    "data.shape"
   ],
   "metadata": {
    "collapsed": false,
    "ExecuteTime": {
     "end_time": "2024-03-08T06:22:43.283179800Z",
     "start_time": "2024-03-08T06:22:38.065473Z"
    }
   },
   "id": "a4509b5fc61205fb"
  },
  {
   "cell_type": "code",
   "execution_count": 14,
   "outputs": [
    {
     "data": {
      "text/plain": "dtype('float64')"
     },
     "execution_count": 14,
     "metadata": {},
     "output_type": "execute_result"
    }
   ],
   "source": [
    "data.dtype"
   ],
   "metadata": {
    "collapsed": false,
    "ExecuteTime": {
     "end_time": "2024-03-08T06:22:43.283179800Z",
     "start_time": "2024-03-08T06:22:38.086186900Z"
    }
   },
   "id": "b32e4973c49df732"
  },
  {
   "cell_type": "code",
   "execution_count": 15,
   "outputs": [],
   "source": [
    "data1 = [6, 7.5, 8, 0, 1]"
   ],
   "metadata": {
    "collapsed": false,
    "ExecuteTime": {
     "end_time": "2024-03-08T06:22:43.284453800Z",
     "start_time": "2024-03-08T06:22:38.092239600Z"
    }
   },
   "id": "6b6226c4f1da1b68"
  },
  {
   "cell_type": "code",
   "execution_count": 16,
   "outputs": [],
   "source": [
    "arr1 = np.array(data1)"
   ],
   "metadata": {
    "collapsed": false,
    "ExecuteTime": {
     "end_time": "2024-03-08T06:22:43.284453800Z",
     "start_time": "2024-03-08T06:22:38.097200600Z"
    }
   },
   "id": "8cb1ad6214b8e7ce"
  },
  {
   "cell_type": "code",
   "execution_count": 17,
   "outputs": [
    {
     "data": {
      "text/plain": "array([6. , 7.5, 8. , 0. , 1. ])"
     },
     "execution_count": 17,
     "metadata": {},
     "output_type": "execute_result"
    }
   ],
   "source": [
    "arr1"
   ],
   "metadata": {
    "collapsed": false,
    "ExecuteTime": {
     "end_time": "2024-03-08T06:22:43.285457Z",
     "start_time": "2024-03-08T06:22:38.104431600Z"
    }
   },
   "id": "f3be09027c809370"
  },
  {
   "cell_type": "code",
   "execution_count": 18,
   "outputs": [
    {
     "data": {
      "text/plain": "(5,)"
     },
     "execution_count": 18,
     "metadata": {},
     "output_type": "execute_result"
    }
   ],
   "source": [
    "arr1.shape"
   ],
   "metadata": {
    "collapsed": false,
    "ExecuteTime": {
     "end_time": "2024-03-08T06:22:43.286446900Z",
     "start_time": "2024-03-08T06:22:38.112605500Z"
    }
   },
   "id": "bde0b1f1ebac20f4"
  },
  {
   "cell_type": "code",
   "execution_count": 19,
   "outputs": [],
   "source": [
    "data2 = [[1, 2, 3, 4], [5, 6, 7, 8]]"
   ],
   "metadata": {
    "collapsed": false,
    "ExecuteTime": {
     "end_time": "2024-03-08T06:22:43.286446900Z",
     "start_time": "2024-03-08T06:22:38.118691800Z"
    }
   },
   "id": "c681ec8fa8f60d4b"
  },
  {
   "cell_type": "code",
   "execution_count": 20,
   "outputs": [
    {
     "data": {
      "text/plain": "array([[1, 2, 3, 4],\n       [5, 6, 7, 8]])"
     },
     "execution_count": 20,
     "metadata": {},
     "output_type": "execute_result"
    }
   ],
   "source": [
    "np.array(data2)"
   ],
   "metadata": {
    "collapsed": false,
    "ExecuteTime": {
     "end_time": "2024-03-08T06:22:43.287447600Z",
     "start_time": "2024-03-08T06:22:38.125027900Z"
    }
   },
   "id": "8dd446101d56c4f"
  },
  {
   "cell_type": "code",
   "execution_count": 21,
   "outputs": [
    {
     "data": {
      "text/plain": "array([0., 0., 0., 0., 0., 0., 0., 0., 0., 0.])"
     },
     "execution_count": 21,
     "metadata": {},
     "output_type": "execute_result"
    }
   ],
   "source": [
    "np.zeros(10)"
   ],
   "metadata": {
    "collapsed": false,
    "ExecuteTime": {
     "end_time": "2024-03-08T06:22:43.287447600Z",
     "start_time": "2024-03-08T06:22:38.131311100Z"
    }
   },
   "id": "98b26ff8dd81e604"
  },
  {
   "cell_type": "code",
   "execution_count": 22,
   "outputs": [
    {
     "data": {
      "text/plain": "array([[0., 0., 0., 0., 0., 0.],\n       [0., 0., 0., 0., 0., 0.],\n       [0., 0., 0., 0., 0., 0.]])"
     },
     "execution_count": 22,
     "metadata": {},
     "output_type": "execute_result"
    }
   ],
   "source": [
    "np.zeros((3,6))"
   ],
   "metadata": {
    "collapsed": false,
    "ExecuteTime": {
     "end_time": "2024-03-08T06:22:43.288698400Z",
     "start_time": "2024-03-08T06:22:38.136825900Z"
    }
   },
   "id": "5b737aa1a709da95"
  },
  {
   "cell_type": "code",
   "execution_count": 23,
   "outputs": [
    {
     "data": {
      "text/plain": "array([[[1.37767483e-311, 3.16202013e-322],\n        [0.00000000e+000, 0.00000000e+000],\n        [4.00766127e+175, 6.38707344e-067]],\n\n       [[1.73229983e+185, 3.34577337e-061],\n        [2.54624899e-052, 2.57394647e-056],\n        [1.12181926e-047, 3.92599408e-061]]])"
     },
     "execution_count": 23,
     "metadata": {},
     "output_type": "execute_result"
    }
   ],
   "source": [
    "np.empty((2,3,2))"
   ],
   "metadata": {
    "collapsed": false,
    "ExecuteTime": {
     "end_time": "2024-03-08T06:22:43.289712900Z",
     "start_time": "2024-03-08T06:22:38.144657900Z"
    }
   },
   "id": "834b9ea619ecfc02"
  },
  {
   "cell_type": "markdown",
   "source": [
    "认为np.empty会返回全0数组的想法是不安全的。很多情况下（如前所示），它返回的都是一些未初始化的垃圾值"
   ],
   "metadata": {
    "collapsed": false
   },
   "id": "8e7d1460cac409ca"
  },
  {
   "cell_type": "code",
   "execution_count": 24,
   "outputs": [
    {
     "data": {
      "text/plain": "array([ 0,  1,  2,  3,  4,  5,  6,  7,  8,  9, 10, 11, 12, 13, 14])"
     },
     "execution_count": 24,
     "metadata": {},
     "output_type": "execute_result"
    }
   ],
   "source": [
    "np.arange(15)"
   ],
   "metadata": {
    "collapsed": false,
    "ExecuteTime": {
     "end_time": "2024-03-08T06:22:43.290001300Z",
     "start_time": "2024-03-08T06:22:38.152958500Z"
    }
   },
   "id": "7aa72bff838d291c"
  },
  {
   "cell_type": "code",
   "execution_count": 25,
   "outputs": [
    {
     "data": {
      "text/plain": "array([1., 1., 1., 1., 1.])"
     },
     "execution_count": 25,
     "metadata": {},
     "output_type": "execute_result"
    }
   ],
   "source": [
    "np.ones(5)"
   ],
   "metadata": {
    "collapsed": false,
    "ExecuteTime": {
     "end_time": "2024-03-08T06:22:43.291000600Z",
     "start_time": "2024-03-08T06:22:38.160408900Z"
    }
   },
   "id": "fdc7c8e38dede88"
  },
  {
   "cell_type": "code",
   "execution_count": 26,
   "outputs": [],
   "source": [
    "arr1 = np.array([1, 2, 3], dtype=np.float64)"
   ],
   "metadata": {
    "collapsed": false,
    "ExecuteTime": {
     "end_time": "2024-03-08T06:22:43.291463100Z",
     "start_time": "2024-03-08T06:22:38.166243Z"
    }
   },
   "id": "7432858209b7910b"
  },
  {
   "cell_type": "code",
   "execution_count": 27,
   "outputs": [
    {
     "data": {
      "text/plain": "dtype('float64')"
     },
     "execution_count": 27,
     "metadata": {},
     "output_type": "execute_result"
    }
   ],
   "source": [
    "arr1.dtype"
   ],
   "metadata": {
    "collapsed": false,
    "ExecuteTime": {
     "end_time": "2024-03-08T06:22:43.291463100Z",
     "start_time": "2024-03-08T06:22:38.171432400Z"
    }
   },
   "id": "57299bb7efac02b"
  },
  {
   "cell_type": "code",
   "execution_count": 28,
   "outputs": [
    {
     "data": {
      "text/plain": "dtype('int32')"
     },
     "execution_count": 28,
     "metadata": {},
     "output_type": "execute_result"
    }
   ],
   "source": [
    "arr2 = np.array([1, 2, 3], dtype=np.int32)\n",
    "arr2.dtype"
   ],
   "metadata": {
    "collapsed": false,
    "ExecuteTime": {
     "end_time": "2024-03-08T06:22:43.292677200Z",
     "start_time": "2024-03-08T06:22:38.180444900Z"
    }
   },
   "id": "bc45ad9abdba2a47"
  },
  {
   "cell_type": "code",
   "execution_count": 29,
   "outputs": [],
   "source": [
    "arr = np.array([1, 2, 3, 4, 5])"
   ],
   "metadata": {
    "collapsed": false,
    "ExecuteTime": {
     "end_time": "2024-03-08T06:22:43.292677200Z",
     "start_time": "2024-03-08T06:22:38.187881300Z"
    }
   },
   "id": "83c6676d0718de0c"
  },
  {
   "cell_type": "code",
   "execution_count": 30,
   "outputs": [
    {
     "data": {
      "text/plain": "dtype('int32')"
     },
     "execution_count": 30,
     "metadata": {},
     "output_type": "execute_result"
    }
   ],
   "source": [
    "arr.dtype"
   ],
   "metadata": {
    "collapsed": false,
    "ExecuteTime": {
     "end_time": "2024-03-08T06:22:43.292677200Z",
     "start_time": "2024-03-08T06:22:38.194735900Z"
    }
   },
   "id": "e85496be25b80178"
  },
  {
   "cell_type": "code",
   "execution_count": 31,
   "outputs": [],
   "source": [
    "float_arr = arr.astype(np.float64)"
   ],
   "metadata": {
    "collapsed": false,
    "ExecuteTime": {
     "end_time": "2024-03-08T06:22:43.293678600Z",
     "start_time": "2024-03-08T06:22:38.202169400Z"
    }
   },
   "id": "12fd6fcd0867734b"
  },
  {
   "cell_type": "code",
   "execution_count": 32,
   "outputs": [
    {
     "data": {
      "text/plain": "dtype('float64')"
     },
     "execution_count": 32,
     "metadata": {},
     "output_type": "execute_result"
    }
   ],
   "source": [
    "float_arr.dtype"
   ],
   "metadata": {
    "collapsed": false,
    "ExecuteTime": {
     "end_time": "2024-03-08T06:22:43.293678600Z",
     "start_time": "2024-03-08T06:22:38.206339500Z"
    }
   },
   "id": "e319004ffdb5ffd"
  },
  {
   "cell_type": "code",
   "execution_count": 33,
   "outputs": [],
   "source": [
    "arr = np.array([3.7, -1.2, -2.6, 0.5, 12.9, 10.1])"
   ],
   "metadata": {
    "collapsed": false,
    "ExecuteTime": {
     "end_time": "2024-03-08T06:22:43.293678600Z",
     "start_time": "2024-03-08T06:22:38.214653300Z"
    }
   },
   "id": "dc3072d236536272"
  },
  {
   "cell_type": "code",
   "execution_count": 34,
   "outputs": [
    {
     "data": {
      "text/plain": "array([ 3, -1, -2,  0, 12, 10])"
     },
     "execution_count": 34,
     "metadata": {},
     "output_type": "execute_result"
    }
   ],
   "source": [
    "arr.astype(np.int32)"
   ],
   "metadata": {
    "collapsed": false,
    "ExecuteTime": {
     "end_time": "2024-03-08T06:22:43.293678600Z",
     "start_time": "2024-03-08T06:22:38.219118Z"
    }
   },
   "id": "193649053413dc66"
  },
  {
   "cell_type": "markdown",
   "source": [
    "按不足近似保留"
   ],
   "metadata": {
    "collapsed": false
   },
   "id": "48d87d17a906cd08"
  },
  {
   "cell_type": "code",
   "execution_count": 35,
   "outputs": [],
   "source": [
    "numeric_strings = np.array(['1.25', '-9.6', '42'], dtype=np.string_)"
   ],
   "metadata": {
    "collapsed": false,
    "ExecuteTime": {
     "end_time": "2024-03-08T06:22:43.293678600Z",
     "start_time": "2024-03-08T06:22:38.225766900Z"
    }
   },
   "id": "1ce001e30c5b45aa"
  },
  {
   "cell_type": "code",
   "execution_count": 36,
   "outputs": [
    {
     "data": {
      "text/plain": "array([b'1.25', b'-9.6', b'42'], dtype='|S4')"
     },
     "execution_count": 36,
     "metadata": {},
     "output_type": "execute_result"
    }
   ],
   "source": [
    "numeric_strings"
   ],
   "metadata": {
    "collapsed": false,
    "ExecuteTime": {
     "end_time": "2024-03-08T06:22:43.293678600Z",
     "start_time": "2024-03-08T06:22:38.230839800Z"
    }
   },
   "id": "fe2821a1e94dd691"
  },
  {
   "cell_type": "code",
   "execution_count": 37,
   "outputs": [
    {
     "data": {
      "text/plain": "dtype('S4')"
     },
     "execution_count": 37,
     "metadata": {},
     "output_type": "execute_result"
    }
   ],
   "source": [
    "numeric_strings.dtype"
   ],
   "metadata": {
    "collapsed": false,
    "ExecuteTime": {
     "end_time": "2024-03-08T06:22:43.293678600Z",
     "start_time": "2024-03-08T06:22:38.240020800Z"
    }
   },
   "id": "5f03a221e3e74a21"
  },
  {
   "cell_type": "code",
   "execution_count": 38,
   "outputs": [
    {
     "data": {
      "text/plain": "array([ 1.25, -9.6 , 42.  ])"
     },
     "execution_count": 38,
     "metadata": {},
     "output_type": "execute_result"
    }
   ],
   "source": [
    "numeric_strings.astype(float)"
   ],
   "metadata": {
    "collapsed": false,
    "ExecuteTime": {
     "end_time": "2024-03-08T06:22:43.297035400Z",
     "start_time": "2024-03-08T06:22:38.246542700Z"
    }
   },
   "id": "b0dd86b0bf364bb9"
  },
  {
   "cell_type": "code",
   "execution_count": 39,
   "outputs": [],
   "source": [
    "int_array = np.arange(10)"
   ],
   "metadata": {
    "collapsed": false,
    "ExecuteTime": {
     "end_time": "2024-03-08T06:22:43.297035400Z",
     "start_time": "2024-03-08T06:22:38.253503300Z"
    }
   },
   "id": "756016873589ac01"
  },
  {
   "cell_type": "code",
   "execution_count": 40,
   "outputs": [],
   "source": [
    "calibers = np.array([.22, .270, .357, .380, .44, .50], dtype=np.float64)"
   ],
   "metadata": {
    "collapsed": false,
    "ExecuteTime": {
     "end_time": "2024-03-08T06:22:43.297035400Z",
     "start_time": "2024-03-08T06:22:38.258937200Z"
    }
   },
   "id": "505970016cbc6d66"
  },
  {
   "cell_type": "code",
   "execution_count": 41,
   "outputs": [
    {
     "data": {
      "text/plain": "array([0., 1., 2., 3., 4., 5., 6., 7., 8., 9.])"
     },
     "execution_count": 41,
     "metadata": {},
     "output_type": "execute_result"
    }
   ],
   "source": [
    "int_array.astype(calibers.dtype)"
   ],
   "metadata": {
    "collapsed": false,
    "ExecuteTime": {
     "end_time": "2024-03-08T06:22:43.298352100Z",
     "start_time": "2024-03-08T06:22:38.271834800Z"
    }
   },
   "id": "5630edb3b9d22d83"
  },
  {
   "cell_type": "code",
   "execution_count": 42,
   "outputs": [],
   "source": [
    "empty_uint32 = np.empty(8, dtype='u4')"
   ],
   "metadata": {
    "collapsed": false,
    "ExecuteTime": {
     "end_time": "2024-03-08T06:22:43.298352100Z",
     "start_time": "2024-03-08T06:22:38.279374Z"
    }
   },
   "id": "24d2380a681db840"
  },
  {
   "cell_type": "code",
   "execution_count": 43,
   "outputs": [
    {
     "data": {
      "text/plain": "array([         0, 1075314688,          0, 1075707904,          0,\n       1075838976,          0, 1072693248], dtype=uint32)"
     },
     "execution_count": 43,
     "metadata": {},
     "output_type": "execute_result"
    }
   ],
   "source": [
    "empty_uint32"
   ],
   "metadata": {
    "collapsed": false,
    "ExecuteTime": {
     "end_time": "2024-03-08T06:22:43.299354600Z",
     "start_time": "2024-03-08T06:22:38.284542900Z"
    }
   },
   "id": "ac653e664ee8622"
  },
  {
   "cell_type": "code",
   "execution_count": 44,
   "outputs": [],
   "source": [
    "arr = np.array([[1., 2., 3.], [4., 5., 6.]])"
   ],
   "metadata": {
    "collapsed": false,
    "ExecuteTime": {
     "end_time": "2024-03-08T06:22:43.299354600Z",
     "start_time": "2024-03-08T06:22:38.292287400Z"
    }
   },
   "id": "c4521b44bfcbcc"
  },
  {
   "cell_type": "code",
   "execution_count": 45,
   "outputs": [
    {
     "data": {
      "text/plain": "array([[1.        , 0.5       , 0.33333333],\n       [0.25      , 0.2       , 0.16666667]])"
     },
     "execution_count": 45,
     "metadata": {},
     "output_type": "execute_result"
    }
   ],
   "source": [
    "1 / arr"
   ],
   "metadata": {
    "collapsed": false,
    "ExecuteTime": {
     "end_time": "2024-03-08T06:22:43.299354600Z",
     "start_time": "2024-03-08T06:22:38.296701300Z"
    }
   },
   "id": "1d9c9ae244ff54ee"
  },
  {
   "cell_type": "code",
   "execution_count": 46,
   "outputs": [
    {
     "data": {
      "text/plain": "array([[ 0.,  4.,  1.],\n       [ 7.,  2., 12.]])"
     },
     "execution_count": 46,
     "metadata": {},
     "output_type": "execute_result"
    }
   ],
   "source": [
    "arr2 = np.array([[0., 4., 1.], [7., 2., 12.]])\n",
    "arr2"
   ],
   "metadata": {
    "collapsed": false,
    "ExecuteTime": {
     "end_time": "2024-03-08T06:22:43.300655300Z",
     "start_time": "2024-03-08T06:22:38.304720800Z"
    }
   },
   "id": "5231ff54b20f9d72"
  },
  {
   "cell_type": "code",
   "execution_count": 47,
   "outputs": [
    {
     "data": {
      "text/plain": "array([[False,  True, False],\n       [ True, False,  True]])"
     },
     "execution_count": 47,
     "metadata": {},
     "output_type": "execute_result"
    }
   ],
   "source": [
    "arr2>arr"
   ],
   "metadata": {
    "collapsed": false,
    "ExecuteTime": {
     "end_time": "2024-03-08T06:22:43.300655300Z",
     "start_time": "2024-03-08T06:22:38.311215500Z"
    }
   },
   "id": "75e8ade6c40e43c"
  },
  {
   "cell_type": "markdown",
   "source": [
    "以上实例表示运算和对比都是一一对应"
   ],
   "metadata": {
    "collapsed": false
   },
   "id": "132068474adbd183"
  },
  {
   "cell_type": "code",
   "execution_count": 48,
   "outputs": [],
   "source": [
    "arr = np.arange(10)"
   ],
   "metadata": {
    "collapsed": false,
    "ExecuteTime": {
     "end_time": "2024-03-08T06:22:43.301685900Z",
     "start_time": "2024-03-08T06:22:38.318070300Z"
    }
   },
   "id": "ceae7a863b8ca383"
  },
  {
   "cell_type": "code",
   "execution_count": 49,
   "outputs": [
    {
     "data": {
      "text/plain": "5"
     },
     "execution_count": 49,
     "metadata": {},
     "output_type": "execute_result"
    }
   ],
   "source": [
    "arr[5]"
   ],
   "metadata": {
    "collapsed": false,
    "ExecuteTime": {
     "end_time": "2024-03-08T06:22:43.301685900Z",
     "start_time": "2024-03-08T06:22:38.323176800Z"
    }
   },
   "id": "41c526ce42ad2075"
  },
  {
   "cell_type": "code",
   "execution_count": 50,
   "outputs": [
    {
     "data": {
      "text/plain": "array([5, 6, 7])"
     },
     "execution_count": 50,
     "metadata": {},
     "output_type": "execute_result"
    }
   ],
   "source": [
    "arr[5:8]"
   ],
   "metadata": {
    "collapsed": false,
    "ExecuteTime": {
     "end_time": "2024-03-08T06:22:43.301685900Z",
     "start_time": "2024-03-08T06:22:38.330803100Z"
    }
   },
   "id": "e987fe979727406e"
  },
  {
   "cell_type": "code",
   "execution_count": 51,
   "outputs": [
    {
     "data": {
      "text/plain": "array([0, 1, 2, 3, 4, 5, 6, 7, 8, 9])"
     },
     "execution_count": 51,
     "metadata": {},
     "output_type": "execute_result"
    }
   ],
   "source": [
    "arr"
   ],
   "metadata": {
    "collapsed": false,
    "ExecuteTime": {
     "end_time": "2024-03-08T06:22:43.301685900Z",
     "start_time": "2024-03-08T06:22:38.338713200Z"
    }
   },
   "id": "11849a9640ff3bd"
  },
  {
   "cell_type": "code",
   "execution_count": 52,
   "outputs": [],
   "source": [
    "arr_slice = arr[5:8]"
   ],
   "metadata": {
    "collapsed": false,
    "ExecuteTime": {
     "end_time": "2024-03-08T06:22:43.301685900Z",
     "start_time": "2024-03-08T06:22:38.344764600Z"
    }
   },
   "id": "5681701ffac43d75"
  },
  {
   "cell_type": "code",
   "execution_count": 53,
   "outputs": [
    {
     "data": {
      "text/plain": "array([5, 6, 7])"
     },
     "execution_count": 53,
     "metadata": {},
     "output_type": "execute_result"
    }
   ],
   "source": [
    "arr_slice"
   ],
   "metadata": {
    "collapsed": false,
    "ExecuteTime": {
     "end_time": "2024-03-08T06:22:43.301685900Z",
     "start_time": "2024-03-08T06:22:38.350905400Z"
    }
   },
   "id": "ef4d4c0fb1b1baf8"
  },
  {
   "cell_type": "code",
   "execution_count": 54,
   "outputs": [],
   "source": [
    "arr_slice[1] = 12345"
   ],
   "metadata": {
    "collapsed": false,
    "ExecuteTime": {
     "end_time": "2024-03-08T06:22:43.301685900Z",
     "start_time": "2024-03-08T06:22:38.357804300Z"
    }
   },
   "id": "80a7aad30b573146"
  },
  {
   "cell_type": "code",
   "execution_count": 55,
   "outputs": [
    {
     "data": {
      "text/plain": "array([    5, 12345,     7])"
     },
     "execution_count": 55,
     "metadata": {},
     "output_type": "execute_result"
    }
   ],
   "source": [
    "arr_slice"
   ],
   "metadata": {
    "collapsed": false,
    "ExecuteTime": {
     "end_time": "2024-03-08T06:22:43.301685900Z",
     "start_time": "2024-03-08T06:22:38.363334600Z"
    }
   },
   "id": "add80a17becf58ba"
  },
  {
   "cell_type": "code",
   "execution_count": 56,
   "outputs": [],
   "source": [
    "arr_slice[:] = 64"
   ],
   "metadata": {
    "collapsed": false,
    "ExecuteTime": {
     "end_time": "2024-03-08T06:22:43.301685900Z",
     "start_time": "2024-03-08T06:22:38.370787800Z"
    }
   },
   "id": "1cd29acdb867bb47"
  },
  {
   "cell_type": "markdown",
   "source": [
    "深拷贝，相当于引用传递"
   ],
   "metadata": {
    "collapsed": false
   },
   "id": "1414e1a4f4b9c45f"
  },
  {
   "cell_type": "code",
   "execution_count": 57,
   "outputs": [
    {
     "data": {
      "text/plain": "array([ 0,  1,  2,  3,  4, 64, 64, 64,  8,  9])"
     },
     "execution_count": 57,
     "metadata": {},
     "output_type": "execute_result"
    }
   ],
   "source": [
    "arr"
   ],
   "metadata": {
    "collapsed": false,
    "ExecuteTime": {
     "end_time": "2024-03-08T06:22:43.301685900Z",
     "start_time": "2024-03-08T06:22:38.376758400Z"
    }
   },
   "id": "220d3736ca21135d"
  },
  {
   "cell_type": "code",
   "execution_count": 58,
   "outputs": [
    {
     "data": {
      "text/plain": "array([64, 64, 64])"
     },
     "execution_count": 58,
     "metadata": {},
     "output_type": "execute_result"
    }
   ],
   "source": [
    "arr_slice"
   ],
   "metadata": {
    "collapsed": false,
    "ExecuteTime": {
     "end_time": "2024-03-08T06:22:43.306426200Z",
     "start_time": "2024-03-08T06:22:38.383671800Z"
    }
   },
   "id": "d74c6ec33855c2ae"
  },
  {
   "cell_type": "code",
   "execution_count": 59,
   "outputs": [],
   "source": [
    "arr3d = np.array([[[1, 2, 3], [4, 5, 6]], [[7, 8, 9], [10, 11, 12]]])"
   ],
   "metadata": {
    "collapsed": false,
    "ExecuteTime": {
     "end_time": "2024-03-08T06:22:43.306559Z",
     "start_time": "2024-03-08T06:22:38.389691Z"
    }
   },
   "id": "8c6d52390d8c9e9b"
  },
  {
   "cell_type": "code",
   "execution_count": 60,
   "outputs": [
    {
     "data": {
      "text/plain": "array([[[ 1,  2,  3],\n        [ 4,  5,  6]],\n\n       [[ 7,  8,  9],\n        [10, 11, 12]]])"
     },
     "execution_count": 60,
     "metadata": {},
     "output_type": "execute_result"
    }
   ],
   "source": [
    "arr3d"
   ],
   "metadata": {
    "collapsed": false,
    "ExecuteTime": {
     "end_time": "2024-03-08T06:22:43.306559Z",
     "start_time": "2024-03-08T06:22:38.394968300Z"
    }
   },
   "id": "71fc7ac7c64aa93e"
  },
  {
   "cell_type": "code",
   "execution_count": 61,
   "outputs": [
    {
     "data": {
      "text/plain": "(2, 2, 3)"
     },
     "execution_count": 61,
     "metadata": {},
     "output_type": "execute_result"
    }
   ],
   "source": [
    "arr3d.shape"
   ],
   "metadata": {
    "collapsed": false,
    "ExecuteTime": {
     "end_time": "2024-03-08T06:22:43.307653500Z",
     "start_time": "2024-03-08T06:22:38.401060300Z"
    }
   },
   "id": "ad758e7111b43798"
  },
  {
   "cell_type": "code",
   "execution_count": 62,
   "outputs": [
    {
     "data": {
      "text/plain": "array([[1, 2, 3],\n       [4, 5, 6]])"
     },
     "execution_count": 62,
     "metadata": {},
     "output_type": "execute_result"
    }
   ],
   "source": [
    "arr3d[0]"
   ],
   "metadata": {
    "collapsed": false,
    "ExecuteTime": {
     "end_time": "2024-03-08T06:22:43.307653500Z",
     "start_time": "2024-03-08T06:22:38.407445200Z"
    }
   },
   "id": "e203e356232fba3b"
  },
  {
   "cell_type": "code",
   "execution_count": 63,
   "outputs": [
    {
     "data": {
      "text/plain": "(2, 3)"
     },
     "execution_count": 63,
     "metadata": {},
     "output_type": "execute_result"
    }
   ],
   "source": [
    "arr3d[0].shape"
   ],
   "metadata": {
    "collapsed": false,
    "ExecuteTime": {
     "end_time": "2024-03-08T06:22:43.308656800Z",
     "start_time": "2024-03-08T06:22:38.415597200Z"
    }
   },
   "id": "2da1db58d811e415"
  },
  {
   "cell_type": "code",
   "execution_count": 64,
   "outputs": [],
   "source": [
    "old_values = arr3d[0].copy()"
   ],
   "metadata": {
    "collapsed": false,
    "ExecuteTime": {
     "end_time": "2024-03-08T06:22:43.308656800Z",
     "start_time": "2024-03-08T06:22:38.423770400Z"
    }
   },
   "id": "5f8db486d0b22d4b"
  },
  {
   "cell_type": "code",
   "execution_count": 65,
   "outputs": [
    {
     "data": {
      "text/plain": "array([[1, 2, 3],\n       [4, 5, 6]])"
     },
     "execution_count": 65,
     "metadata": {},
     "output_type": "execute_result"
    }
   ],
   "source": [
    "old_values"
   ],
   "metadata": {
    "collapsed": false,
    "ExecuteTime": {
     "end_time": "2024-03-08T06:22:43.309656300Z",
     "start_time": "2024-03-08T06:22:38.428295400Z"
    }
   },
   "id": "ee7ee17ebd3a5228"
  },
  {
   "cell_type": "code",
   "execution_count": 66,
   "outputs": [],
   "source": [
    "arr3d[0]=42"
   ],
   "metadata": {
    "collapsed": false,
    "ExecuteTime": {
     "end_time": "2024-03-08T06:22:43.309656300Z",
     "start_time": "2024-03-08T06:22:38.435351800Z"
    }
   },
   "id": "10c6fc55b083986f"
  },
  {
   "cell_type": "code",
   "execution_count": 67,
   "outputs": [
    {
     "data": {
      "text/plain": "array([[42, 42, 42],\n       [42, 42, 42]])"
     },
     "execution_count": 67,
     "metadata": {},
     "output_type": "execute_result"
    }
   ],
   "source": [
    "arr3d[0]"
   ],
   "metadata": {
    "collapsed": false,
    "ExecuteTime": {
     "end_time": "2024-03-08T06:22:43.309656300Z",
     "start_time": "2024-03-08T06:22:38.439439200Z"
    }
   },
   "id": "c79faa0d88b0bcd0"
  },
  {
   "cell_type": "code",
   "execution_count": 68,
   "outputs": [],
   "source": [
    "arr3d[0]=old_values"
   ],
   "metadata": {
    "collapsed": false,
    "ExecuteTime": {
     "end_time": "2024-03-08T06:22:43.309656300Z",
     "start_time": "2024-03-08T06:22:38.446088700Z"
    }
   },
   "id": "5a1353a72d6f024d"
  },
  {
   "cell_type": "code",
   "execution_count": 69,
   "outputs": [
    {
     "data": {
      "text/plain": "array([[1, 2, 3],\n       [4, 5, 6]])"
     },
     "execution_count": 69,
     "metadata": {},
     "output_type": "execute_result"
    }
   ],
   "source": [
    "arr3d[0]"
   ],
   "metadata": {
    "collapsed": false,
    "ExecuteTime": {
     "end_time": "2024-03-08T06:22:43.309656300Z",
     "start_time": "2024-03-08T06:22:38.450537100Z"
    }
   },
   "id": "edd5d2cc06bed0b9"
  },
  {
   "cell_type": "code",
   "execution_count": 70,
   "outputs": [
    {
     "data": {
      "text/plain": "array([[[ 1,  2,  3],\n        [ 4,  5,  6]],\n\n       [[ 7,  8,  9],\n        [10, 11, 12]]])"
     },
     "execution_count": 70,
     "metadata": {},
     "output_type": "execute_result"
    }
   ],
   "source": [
    "arr3d"
   ],
   "metadata": {
    "collapsed": false,
    "ExecuteTime": {
     "end_time": "2024-03-08T06:22:43.309656300Z",
     "start_time": "2024-03-08T06:22:38.459947600Z"
    }
   },
   "id": "5b9494296ad24280"
  },
  {
   "cell_type": "code",
   "execution_count": 71,
   "outputs": [
    {
     "data": {
      "text/plain": "array([7, 8, 9])"
     },
     "execution_count": 71,
     "metadata": {},
     "output_type": "execute_result"
    }
   ],
   "source": [
    "arr3d[1, 0]"
   ],
   "metadata": {
    "collapsed": false,
    "ExecuteTime": {
     "end_time": "2024-03-08T06:22:43.309656300Z",
     "start_time": "2024-03-08T06:22:38.465068400Z"
    }
   },
   "id": "12b9f46ec3fef8e"
  },
  {
   "cell_type": "markdown",
   "source": [
    "牛逼，这样访问低维数组"
   ],
   "metadata": {
    "collapsed": false
   },
   "id": "6eaafeb49c5ee83f"
  },
  {
   "cell_type": "code",
   "execution_count": 72,
   "outputs": [],
   "source": [
    "x = arr3d[1]"
   ],
   "metadata": {
    "collapsed": false,
    "ExecuteTime": {
     "end_time": "2024-03-08T06:22:43.309656300Z",
     "start_time": "2024-03-08T06:22:38.472253400Z"
    }
   },
   "id": "8bdc7002bcf5825"
  },
  {
   "cell_type": "code",
   "execution_count": 73,
   "outputs": [
    {
     "data": {
      "text/plain": "array([[ 7,  8,  9],\n       [10, 11, 12]])"
     },
     "execution_count": 73,
     "metadata": {},
     "output_type": "execute_result"
    }
   ],
   "source": [
    "x"
   ],
   "metadata": {
    "collapsed": false,
    "ExecuteTime": {
     "end_time": "2024-03-08T06:22:43.313449400Z",
     "start_time": "2024-03-08T06:22:38.477070200Z"
    }
   },
   "id": "3a0b8ee79f744700"
  },
  {
   "cell_type": "code",
   "execution_count": 74,
   "outputs": [
    {
     "data": {
      "text/plain": "array([ 0,  1,  2,  3,  4, 64, 64, 64,  8,  9])"
     },
     "execution_count": 74,
     "metadata": {},
     "output_type": "execute_result"
    }
   ],
   "source": [
    "arr"
   ],
   "metadata": {
    "collapsed": false,
    "ExecuteTime": {
     "end_time": "2024-03-08T06:22:43.313449400Z",
     "start_time": "2024-03-08T06:22:38.483390400Z"
    }
   },
   "id": "3eadb8b50cda61da"
  },
  {
   "cell_type": "code",
   "execution_count": 75,
   "outputs": [
    {
     "data": {
      "text/plain": "array([ 1,  2,  3,  4, 64])"
     },
     "execution_count": 75,
     "metadata": {},
     "output_type": "execute_result"
    }
   ],
   "source": [
    "arr[1:6]"
   ],
   "metadata": {
    "collapsed": false,
    "ExecuteTime": {
     "end_time": "2024-03-08T06:22:43.314451400Z",
     "start_time": "2024-03-08T06:22:38.490643Z"
    }
   },
   "id": "690369c2438ac47e"
  },
  {
   "cell_type": "markdown",
   "source": [
    "前关闭，后打开"
   ],
   "metadata": {
    "collapsed": false
   },
   "id": "5338b6bda2fc2fc0"
  },
  {
   "cell_type": "code",
   "execution_count": 76,
   "outputs": [],
   "source": [
    "arr2d = np.arange(9).reshape(3,3)"
   ],
   "metadata": {
    "collapsed": false,
    "ExecuteTime": {
     "end_time": "2024-03-08T06:22:43.314451400Z",
     "start_time": "2024-03-08T06:22:38.497952700Z"
    }
   },
   "id": "7f9b8ef208d9cb2f"
  },
  {
   "cell_type": "code",
   "execution_count": 77,
   "outputs": [
    {
     "data": {
      "text/plain": "array([[0, 1, 2],\n       [3, 4, 5],\n       [6, 7, 8]])"
     },
     "execution_count": 77,
     "metadata": {},
     "output_type": "execute_result"
    }
   ],
   "source": [
    "arr2d"
   ],
   "metadata": {
    "collapsed": false,
    "ExecuteTime": {
     "end_time": "2024-03-08T06:22:43.315451600Z",
     "start_time": "2024-03-08T06:22:38.508173900Z"
    }
   },
   "id": "9a74af1c9a3e0d84"
  },
  {
   "cell_type": "code",
   "execution_count": 78,
   "outputs": [
    {
     "data": {
      "text/plain": "array([[0, 1, 2],\n       [3, 4, 5]])"
     },
     "execution_count": 78,
     "metadata": {},
     "output_type": "execute_result"
    }
   ],
   "source": [
    "arr2d[0:2]"
   ],
   "metadata": {
    "collapsed": false,
    "ExecuteTime": {
     "end_time": "2024-03-08T06:22:43.316226300Z",
     "start_time": "2024-03-08T06:22:38.513844400Z"
    }
   },
   "id": "fec57a9f213ea7a7"
  },
  {
   "cell_type": "code",
   "execution_count": 79,
   "outputs": [
    {
     "data": {
      "text/plain": "array([[1, 2],\n       [4, 5]])"
     },
     "execution_count": 79,
     "metadata": {},
     "output_type": "execute_result"
    }
   ],
   "source": [
    "arr2d[:2, 1:]"
   ],
   "metadata": {
    "collapsed": false,
    "ExecuteTime": {
     "end_time": "2024-03-08T06:22:43.316226300Z",
     "start_time": "2024-03-08T06:22:38.520661400Z"
    }
   },
   "id": "219d80de35e163f1"
  },
  {
   "cell_type": "code",
   "execution_count": 80,
   "outputs": [
    {
     "data": {
      "text/plain": "array([3, 4])"
     },
     "execution_count": 80,
     "metadata": {},
     "output_type": "execute_result"
    }
   ],
   "source": [
    "arr2d[1, :2]"
   ],
   "metadata": {
    "collapsed": false,
    "ExecuteTime": {
     "end_time": "2024-03-08T06:22:43.317653Z",
     "start_time": "2024-03-08T06:22:38.527938700Z"
    }
   },
   "id": "185dbc57e15a403c"
  },
  {
   "cell_type": "code",
   "execution_count": 81,
   "outputs": [
    {
     "data": {
      "text/plain": "array([[0],\n       [3],\n       [6]])"
     },
     "execution_count": 81,
     "metadata": {},
     "output_type": "execute_result"
    }
   ],
   "source": [
    "arr2d[:, :1]"
   ],
   "metadata": {
    "collapsed": false,
    "ExecuteTime": {
     "end_time": "2024-03-08T06:22:43.317653Z",
     "start_time": "2024-03-08T06:22:38.534512900Z"
    }
   },
   "id": "1cb2de230ea81e37"
  },
  {
   "cell_type": "code",
   "execution_count": 82,
   "outputs": [],
   "source": [
    "arr2d[:2, 1:] = 0"
   ],
   "metadata": {
    "collapsed": false,
    "ExecuteTime": {
     "end_time": "2024-03-08T06:22:43.318655Z",
     "start_time": "2024-03-08T06:22:38.540827Z"
    }
   },
   "id": "a2715fd58d994f43"
  },
  {
   "cell_type": "code",
   "execution_count": 83,
   "outputs": [
    {
     "data": {
      "text/plain": "array([[0, 0, 0],\n       [3, 0, 0],\n       [6, 7, 8]])"
     },
     "execution_count": 83,
     "metadata": {},
     "output_type": "execute_result"
    }
   ],
   "source": [
    "arr2d"
   ],
   "metadata": {
    "collapsed": false,
    "ExecuteTime": {
     "end_time": "2024-03-08T06:22:43.318886800Z",
     "start_time": "2024-03-08T06:22:38.546753600Z"
    }
   },
   "id": "494b721d24504f51"
  },
  {
   "cell_type": "code",
   "execution_count": 84,
   "outputs": [],
   "source": [
    "names = np.array(['Bob', 'Joe', 'Will', 'Bob', 'Will', 'Joe', 'Joe'])"
   ],
   "metadata": {
    "collapsed": false,
    "ExecuteTime": {
     "end_time": "2024-03-08T06:22:43.318886800Z",
     "start_time": "2024-03-08T06:22:38.554647600Z"
    }
   },
   "id": "9ed09d0e3a50c9d9"
  },
  {
   "cell_type": "code",
   "execution_count": 85,
   "outputs": [
    {
     "data": {
      "text/plain": "array(['Bob', 'Joe', 'Will', 'Bob', 'Will', 'Joe', 'Joe'], dtype='<U4')"
     },
     "execution_count": 85,
     "metadata": {},
     "output_type": "execute_result"
    }
   ],
   "source": [
    "names"
   ],
   "metadata": {
    "collapsed": false,
    "ExecuteTime": {
     "end_time": "2024-03-08T06:22:43.320114900Z",
     "start_time": "2024-03-08T06:22:38.560504800Z"
    }
   },
   "id": "6dcf02163be274c0"
  },
  {
   "cell_type": "code",
   "execution_count": 86,
   "outputs": [],
   "source": [
    "data=np.random.randn(7,4)\n",
    "                     "
   ],
   "metadata": {
    "collapsed": false,
    "ExecuteTime": {
     "end_time": "2024-03-08T06:22:43.320114900Z",
     "start_time": "2024-03-08T06:22:38.567190700Z"
    }
   },
   "id": "6a2546b7db431148"
  },
  {
   "cell_type": "code",
   "execution_count": 87,
   "outputs": [
    {
     "data": {
      "text/plain": "array([[-1.51958173,  0.93600638, -0.57624878, -0.738529  ],\n       [-0.33773068,  0.83766707,  0.86746602, -1.09015121],\n       [ 2.06161904,  2.35863103,  0.49480879, -2.14695778],\n       [-0.39874844, -0.21044189,  0.9602738 ,  0.04631866],\n       [ 0.17431977, -0.20115674, -1.19656525,  0.00905763],\n       [-1.9175766 , -0.07812906, -0.54881821, -1.04227614],\n       [-2.15782394, -0.52489319, -0.79210137, -2.43948297]])"
     },
     "execution_count": 87,
     "metadata": {},
     "output_type": "execute_result"
    }
   ],
   "source": [
    "data"
   ],
   "metadata": {
    "collapsed": false,
    "ExecuteTime": {
     "end_time": "2024-03-08T06:22:43.320114900Z",
     "start_time": "2024-03-08T06:22:38.572342100Z"
    }
   },
   "id": "18c2a95fdc92db37"
  },
  {
   "cell_type": "code",
   "execution_count": 88,
   "outputs": [
    {
     "data": {
      "text/plain": "array([ True, False, False,  True, False, False, False])"
     },
     "execution_count": 88,
     "metadata": {},
     "output_type": "execute_result"
    }
   ],
   "source": [
    "names == 'Bob'"
   ],
   "metadata": {
    "collapsed": false,
    "ExecuteTime": {
     "end_time": "2024-03-08T06:22:43.321177Z",
     "start_time": "2024-03-08T06:22:38.579819300Z"
    }
   },
   "id": "e50c123203db95c3"
  },
  {
   "cell_type": "code",
   "execution_count": 89,
   "outputs": [
    {
     "data": {
      "text/plain": "array([[-1.51958173,  0.93600638, -0.57624878, -0.738529  ],\n       [-0.39874844, -0.21044189,  0.9602738 ,  0.04631866]])"
     },
     "execution_count": 89,
     "metadata": {},
     "output_type": "execute_result"
    }
   ],
   "source": [
    "data[names == 'Bob']"
   ],
   "metadata": {
    "collapsed": false,
    "ExecuteTime": {
     "end_time": "2024-03-08T06:22:43.322179600Z",
     "start_time": "2024-03-08T06:22:38.588452900Z"
    }
   },
   "id": "30548e418e07915"
  },
  {
   "cell_type": "markdown",
   "source": [
    "返还值为true的行"
   ],
   "metadata": {
    "collapsed": false
   },
   "id": "85db55e998c54225"
  },
  {
   "cell_type": "code",
   "execution_count": 90,
   "outputs": [
    {
     "data": {
      "text/plain": "array([[-0.57624878, -0.738529  ],\n       [ 0.9602738 ,  0.04631866]])"
     },
     "execution_count": 90,
     "metadata": {},
     "output_type": "execute_result"
    }
   ],
   "source": [
    "data[names == 'Bob', 2:]"
   ],
   "metadata": {
    "collapsed": false,
    "ExecuteTime": {
     "end_time": "2024-03-08T06:22:43.322900700Z",
     "start_time": "2024-03-08T06:22:38.594206200Z"
    }
   },
   "id": "afb508312b4270a6"
  },
  {
   "cell_type": "code",
   "execution_count": 91,
   "outputs": [
    {
     "data": {
      "text/plain": "array([False,  True,  True, False,  True,  True,  True])"
     },
     "execution_count": 91,
     "metadata": {},
     "output_type": "execute_result"
    }
   ],
   "source": [
    "names != 'Bob'"
   ],
   "metadata": {
    "collapsed": false,
    "ExecuteTime": {
     "end_time": "2024-03-08T06:22:43.323903400Z",
     "start_time": "2024-03-08T06:22:38.600370500Z"
    }
   },
   "id": "8b9f29d353ca6e5f"
  },
  {
   "cell_type": "code",
   "execution_count": 92,
   "outputs": [
    {
     "data": {
      "text/plain": "array([[-0.33773068,  0.83766707,  0.86746602, -1.09015121],\n       [ 2.06161904,  2.35863103,  0.49480879, -2.14695778],\n       [ 0.17431977, -0.20115674, -1.19656525,  0.00905763],\n       [-1.9175766 , -0.07812906, -0.54881821, -1.04227614],\n       [-2.15782394, -0.52489319, -0.79210137, -2.43948297]])"
     },
     "execution_count": 92,
     "metadata": {},
     "output_type": "execute_result"
    }
   ],
   "source": [
    "data[~(names == 'Bob')]"
   ],
   "metadata": {
    "collapsed": false,
    "ExecuteTime": {
     "end_time": "2024-03-08T06:22:43.323903400Z",
     "start_time": "2024-03-08T06:22:38.607962300Z"
    }
   },
   "id": "320a6b8c9388d9db"
  },
  {
   "cell_type": "code",
   "execution_count": 93,
   "outputs": [],
   "source": [
    "cond = names == 'Bob'"
   ],
   "metadata": {
    "collapsed": false,
    "ExecuteTime": {
     "end_time": "2024-03-08T06:22:43.323903400Z",
     "start_time": "2024-03-08T06:22:38.616756500Z"
    }
   },
   "id": "b57cf1093fb7da9e"
  },
  {
   "cell_type": "code",
   "execution_count": 94,
   "outputs": [
    {
     "data": {
      "text/plain": "array([[-0.33773068,  0.83766707,  0.86746602, -1.09015121],\n       [ 2.06161904,  2.35863103,  0.49480879, -2.14695778],\n       [ 0.17431977, -0.20115674, -1.19656525,  0.00905763],\n       [-1.9175766 , -0.07812906, -0.54881821, -1.04227614],\n       [-2.15782394, -0.52489319, -0.79210137, -2.43948297]])"
     },
     "execution_count": 94,
     "metadata": {},
     "output_type": "execute_result"
    }
   ],
   "source": [
    "data[~cond]"
   ],
   "metadata": {
    "collapsed": false,
    "ExecuteTime": {
     "end_time": "2024-03-08T06:22:43.323903400Z",
     "start_time": "2024-03-08T06:22:38.621161400Z"
    }
   },
   "id": "40f1515d3e964b36"
  },
  {
   "cell_type": "code",
   "execution_count": 95,
   "outputs": [],
   "source": [
    "mask = (names == 'Bob') | (names == 'Will')"
   ],
   "metadata": {
    "collapsed": false,
    "ExecuteTime": {
     "end_time": "2024-03-08T06:22:43.323903400Z",
     "start_time": "2024-03-08T06:22:38.628717100Z"
    }
   },
   "id": "1db3f0661d7dba47"
  },
  {
   "cell_type": "code",
   "execution_count": 96,
   "outputs": [
    {
     "data": {
      "text/plain": "array([ True, False,  True,  True,  True, False, False])"
     },
     "execution_count": 96,
     "metadata": {},
     "output_type": "execute_result"
    }
   ],
   "source": [
    "mask"
   ],
   "metadata": {
    "collapsed": false,
    "ExecuteTime": {
     "end_time": "2024-03-08T06:22:43.323903400Z",
     "start_time": "2024-03-08T06:22:38.633959900Z"
    }
   },
   "id": "bbcd2980a6bc663b"
  },
  {
   "cell_type": "code",
   "execution_count": 97,
   "outputs": [
    {
     "data": {
      "text/plain": "array([[-1.51958173,  0.93600638, -0.57624878, -0.738529  ],\n       [ 2.06161904,  2.35863103,  0.49480879, -2.14695778],\n       [-0.39874844, -0.21044189,  0.9602738 ,  0.04631866],\n       [ 0.17431977, -0.20115674, -1.19656525,  0.00905763]])"
     },
     "execution_count": 97,
     "metadata": {},
     "output_type": "execute_result"
    }
   ],
   "source": [
    "data[mask]"
   ],
   "metadata": {
    "collapsed": false,
    "ExecuteTime": {
     "end_time": "2024-03-08T06:22:43.323903400Z",
     "start_time": "2024-03-08T06:22:38.640805900Z"
    }
   },
   "id": "5aa17df9b693762e"
  },
  {
   "cell_type": "code",
   "execution_count": 98,
   "outputs": [],
   "source": [
    "data[data < 0] = 0"
   ],
   "metadata": {
    "collapsed": false,
    "ExecuteTime": {
     "end_time": "2024-03-08T06:22:43.323903400Z",
     "start_time": "2024-03-08T06:22:38.648130600Z"
    }
   },
   "id": "af6c577f71b2608b"
  },
  {
   "cell_type": "code",
   "execution_count": 99,
   "outputs": [
    {
     "data": {
      "text/plain": "array([[0.        , 0.93600638, 0.        , 0.        ],\n       [0.        , 0.83766707, 0.86746602, 0.        ],\n       [2.06161904, 2.35863103, 0.49480879, 0.        ],\n       [0.        , 0.        , 0.9602738 , 0.04631866],\n       [0.17431977, 0.        , 0.        , 0.00905763],\n       [0.        , 0.        , 0.        , 0.        ],\n       [0.        , 0.        , 0.        , 0.        ]])"
     },
     "execution_count": 99,
     "metadata": {},
     "output_type": "execute_result"
    }
   ],
   "source": [
    "data"
   ],
   "metadata": {
    "collapsed": false,
    "ExecuteTime": {
     "end_time": "2024-03-08T06:22:43.327895500Z",
     "start_time": "2024-03-08T06:22:38.653514600Z"
    }
   },
   "id": "a10c03f5fe070f5b"
  },
  {
   "cell_type": "code",
   "execution_count": 100,
   "outputs": [],
   "source": [
    "data[names != 'Joe'] = 7"
   ],
   "metadata": {
    "collapsed": false,
    "ExecuteTime": {
     "end_time": "2024-03-08T06:22:43.327895500Z",
     "start_time": "2024-03-08T06:22:38.662335400Z"
    }
   },
   "id": "a6c601981242a891"
  },
  {
   "cell_type": "code",
   "execution_count": 101,
   "outputs": [
    {
     "data": {
      "text/plain": "array([[7.        , 7.        , 7.        , 7.        ],\n       [0.        , 0.83766707, 0.86746602, 0.        ],\n       [7.        , 7.        , 7.        , 7.        ],\n       [7.        , 7.        , 7.        , 7.        ],\n       [7.        , 7.        , 7.        , 7.        ],\n       [0.        , 0.        , 0.        , 0.        ],\n       [0.        , 0.        , 0.        , 0.        ]])"
     },
     "execution_count": 101,
     "metadata": {},
     "output_type": "execute_result"
    }
   ],
   "source": [
    "data"
   ],
   "metadata": {
    "collapsed": false,
    "ExecuteTime": {
     "end_time": "2024-03-08T06:22:43.327895500Z",
     "start_time": "2024-03-08T06:22:38.667007400Z"
    }
   },
   "id": "d3b297ae1821b366"
  },
  {
   "cell_type": "code",
   "execution_count": 102,
   "outputs": [],
   "source": [
    "arr = np.empty((8, 4))"
   ],
   "metadata": {
    "collapsed": false,
    "ExecuteTime": {
     "end_time": "2024-03-08T06:22:43.328896300Z",
     "start_time": "2024-03-08T06:22:38.674524100Z"
    }
   },
   "id": "716558d76183bd0b"
  },
  {
   "cell_type": "code",
   "execution_count": 103,
   "outputs": [],
   "source": [
    "for i in range(8):\n",
    "    arr[i] = i"
   ],
   "metadata": {
    "collapsed": false,
    "ExecuteTime": {
     "end_time": "2024-03-08T06:22:43.328896300Z",
     "start_time": "2024-03-08T06:22:38.680787100Z"
    }
   },
   "id": "8ec4a0dbb35c2e1d"
  },
  {
   "cell_type": "code",
   "execution_count": 104,
   "outputs": [
    {
     "data": {
      "text/plain": "array([[0., 0., 0., 0.],\n       [1., 1., 1., 1.],\n       [2., 2., 2., 2.],\n       [3., 3., 3., 3.],\n       [4., 4., 4., 4.],\n       [5., 5., 5., 5.],\n       [6., 6., 6., 6.],\n       [7., 7., 7., 7.]])"
     },
     "execution_count": 104,
     "metadata": {},
     "output_type": "execute_result"
    }
   ],
   "source": [
    "arr"
   ],
   "metadata": {
    "collapsed": false,
    "ExecuteTime": {
     "end_time": "2024-03-08T06:22:43.328896300Z",
     "start_time": "2024-03-08T06:22:38.686454800Z"
    }
   },
   "id": "2ef0bcbefc1212f3"
  },
  {
   "cell_type": "code",
   "execution_count": 105,
   "outputs": [
    {
     "data": {
      "text/plain": "array([[4., 4., 4., 4.],\n       [3., 3., 3., 3.],\n       [0., 0., 0., 0.],\n       [6., 6., 6., 6.]])"
     },
     "execution_count": 105,
     "metadata": {},
     "output_type": "execute_result"
    }
   ],
   "source": [
    "arr[[4, 3, 0, 6]]"
   ],
   "metadata": {
    "collapsed": false,
    "ExecuteTime": {
     "end_time": "2024-03-08T06:22:43.328896300Z",
     "start_time": "2024-03-08T06:22:38.694707500Z"
    }
   },
   "id": "9e5c018cadc8b713"
  },
  {
   "cell_type": "markdown",
   "source": [
    "为了以特定顺序选取行子集，只需传入一个用于指定顺序的整数列表或ndarray即可"
   ],
   "metadata": {
    "collapsed": false
   },
   "id": "9a06b9080eaac739"
  },
  {
   "cell_type": "code",
   "execution_count": 106,
   "outputs": [
    {
     "data": {
      "text/plain": "array([[5., 5., 5., 5.],\n       [3., 3., 3., 3.],\n       [1., 1., 1., 1.]])"
     },
     "execution_count": 106,
     "metadata": {},
     "output_type": "execute_result"
    }
   ],
   "source": [
    "arr[[-3, -5, -7]]"
   ],
   "metadata": {
    "collapsed": false,
    "ExecuteTime": {
     "end_time": "2024-03-08T06:22:43.328896300Z",
     "start_time": "2024-03-08T06:22:38.702030500Z"
    }
   },
   "id": "50f87b4b275389ed"
  },
  {
   "cell_type": "markdown",
   "source": [
    "使用负数索引将会从末尾开始选取行"
   ],
   "metadata": {
    "collapsed": false
   },
   "id": "abf00f86f178f6ed"
  },
  {
   "cell_type": "code",
   "execution_count": 107,
   "outputs": [],
   "source": [
    "arr = np.arange(32).reshape((8, 4))"
   ],
   "metadata": {
    "collapsed": false,
    "ExecuteTime": {
     "end_time": "2024-03-08T06:22:43.328896300Z",
     "start_time": "2024-03-08T06:22:38.708378600Z"
    }
   },
   "id": "45c2c79a85c61c0f"
  },
  {
   "cell_type": "code",
   "execution_count": 108,
   "outputs": [
    {
     "data": {
      "text/plain": "array([[ 0,  1,  2,  3],\n       [ 4,  5,  6,  7],\n       [ 8,  9, 10, 11],\n       [12, 13, 14, 15],\n       [16, 17, 18, 19],\n       [20, 21, 22, 23],\n       [24, 25, 26, 27],\n       [28, 29, 30, 31]])"
     },
     "execution_count": 108,
     "metadata": {},
     "output_type": "execute_result"
    }
   ],
   "source": [
    "arr"
   ],
   "metadata": {
    "collapsed": false,
    "ExecuteTime": {
     "end_time": "2024-03-08T06:22:43.328896300Z",
     "start_time": "2024-03-08T06:22:38.713759Z"
    }
   },
   "id": "154bef3767ab6dfc"
  },
  {
   "cell_type": "code",
   "execution_count": 109,
   "outputs": [
    {
     "data": {
      "text/plain": "array([ 4, 23, 29, 10])"
     },
     "execution_count": 109,
     "metadata": {},
     "output_type": "execute_result"
    }
   ],
   "source": [
    "arr[[1, 5, 7, 2], [0, 3, 1, 2]]"
   ],
   "metadata": {
    "collapsed": false,
    "ExecuteTime": {
     "end_time": "2024-03-08T06:22:43.328896300Z",
     "start_time": "2024-03-08T06:22:38.719563900Z"
    }
   },
   "id": "1c4e92a1fd16aa91"
  },
  {
   "cell_type": "code",
   "execution_count": 110,
   "outputs": [],
   "source": [
    "arr = np.arange(15).reshape((3, 5))"
   ],
   "metadata": {
    "collapsed": false,
    "ExecuteTime": {
     "end_time": "2024-03-08T06:22:43.328896300Z",
     "start_time": "2024-03-08T06:22:38.744362Z"
    }
   },
   "id": "5cf9bb9e060cae33"
  },
  {
   "cell_type": "code",
   "execution_count": 111,
   "outputs": [
    {
     "data": {
      "text/plain": "array([[ 0,  1,  2,  3,  4],\n       [ 5,  6,  7,  8,  9],\n       [10, 11, 12, 13, 14]])"
     },
     "execution_count": 111,
     "metadata": {},
     "output_type": "execute_result"
    }
   ],
   "source": [
    "arr"
   ],
   "metadata": {
    "collapsed": false,
    "ExecuteTime": {
     "end_time": "2024-03-08T06:22:43.328896300Z",
     "start_time": "2024-03-08T06:22:38.750299200Z"
    }
   },
   "id": "6502fe358450e861"
  },
  {
   "cell_type": "code",
   "execution_count": 112,
   "outputs": [
    {
     "data": {
      "text/plain": "array([[ 0,  5, 10],\n       [ 1,  6, 11],\n       [ 2,  7, 12],\n       [ 3,  8, 13],\n       [ 4,  9, 14]])"
     },
     "execution_count": 112,
     "metadata": {},
     "output_type": "execute_result"
    }
   ],
   "source": [
    "arr.T"
   ],
   "metadata": {
    "collapsed": false,
    "ExecuteTime": {
     "end_time": "2024-03-08T06:22:43.328896300Z",
     "start_time": "2024-03-08T06:22:38.757398Z"
    }
   },
   "id": "42197c10643e745"
  },
  {
   "cell_type": "markdown",
   "source": [
    "矩阵转秩"
   ],
   "metadata": {
    "collapsed": false
   },
   "id": "a57fa8e9d48cf4bf"
  },
  {
   "cell_type": "code",
   "execution_count": 113,
   "outputs": [],
   "source": [
    "d = np.arange(10).reshape(2,5)"
   ],
   "metadata": {
    "collapsed": false,
    "ExecuteTime": {
     "end_time": "2024-03-08T06:22:43.328896300Z",
     "start_time": "2024-03-08T06:22:38.766325100Z"
    }
   },
   "id": "e7b886505e25fe87"
  },
  {
   "cell_type": "code",
   "execution_count": 114,
   "outputs": [
    {
     "data": {
      "text/plain": "array([[0, 1, 2, 3, 4],\n       [5, 6, 7, 8, 9]])"
     },
     "execution_count": 114,
     "metadata": {},
     "output_type": "execute_result"
    }
   ],
   "source": [
    "d"
   ],
   "metadata": {
    "collapsed": false,
    "ExecuteTime": {
     "end_time": "2024-03-08T06:22:43.328896300Z",
     "start_time": "2024-03-08T06:22:38.771126800Z"
    }
   },
   "id": "f0acc20b5e43b270"
  },
  {
   "cell_type": "code",
   "execution_count": 115,
   "outputs": [
    {
     "data": {
      "text/plain": "array([[ 30,  80],\n       [ 80, 255]])"
     },
     "execution_count": 115,
     "metadata": {},
     "output_type": "execute_result"
    }
   ],
   "source": [
    "np.dot(d,d.T)"
   ],
   "metadata": {
    "collapsed": false,
    "ExecuteTime": {
     "end_time": "2024-03-08T06:22:43.335747900Z",
     "start_time": "2024-03-08T06:22:38.778150600Z"
    }
   },
   "id": "acb851fd97414b02"
  },
  {
   "cell_type": "markdown",
   "source": [
    "计算矩阵内积 在NumPy中，可以使用 numpy.dot 函数或者 @ 符号来计算矩阵的内积"
   ],
   "metadata": {
    "collapsed": false
   },
   "id": "7418849f8c34ff6d"
  },
  {
   "cell_type": "code",
   "execution_count": 116,
   "outputs": [],
   "source": [
    "arr = np.arange(16).reshape((2, 2, 4))"
   ],
   "metadata": {
    "collapsed": false,
    "ExecuteTime": {
     "end_time": "2024-03-08T06:22:43.335747900Z",
     "start_time": "2024-03-08T06:22:38.785930200Z"
    }
   },
   "id": "ed34f273ea495dbd"
  },
  {
   "cell_type": "code",
   "execution_count": 117,
   "outputs": [
    {
     "data": {
      "text/plain": "array([[[ 0,  1,  2,  3],\n        [ 4,  5,  6,  7]],\n\n       [[ 8,  9, 10, 11],\n        [12, 13, 14, 15]]])"
     },
     "execution_count": 117,
     "metadata": {},
     "output_type": "execute_result"
    }
   ],
   "source": [
    "arr"
   ],
   "metadata": {
    "collapsed": false,
    "ExecuteTime": {
     "end_time": "2024-03-08T06:22:43.336749800Z",
     "start_time": "2024-03-08T06:22:38.791428800Z"
    }
   },
   "id": "8fca2522be293624"
  },
  {
   "cell_type": "code",
   "execution_count": 118,
   "outputs": [
    {
     "data": {
      "text/plain": "array([[[ 0,  1,  2,  3],\n        [ 8,  9, 10, 11]],\n\n       [[ 4,  5,  6,  7],\n        [12, 13, 14, 15]]])"
     },
     "execution_count": 118,
     "metadata": {},
     "output_type": "execute_result"
    }
   ],
   "source": [
    "arr.transpose((1, 0, 2)) # 原数组副本"
   ],
   "metadata": {
    "collapsed": false,
    "ExecuteTime": {
     "end_time": "2024-03-08T06:22:43.337598800Z",
     "start_time": "2024-03-08T06:22:38.799378900Z"
    }
   },
   "id": "9f5290b7ca806fff"
  },
  {
   "cell_type": "markdown",
   "source": [
    "对于高维数组，transpose需要得到一个由轴编号组成的元组才能对这些轴进行转置（比较费脑子）"
   ],
   "metadata": {
    "collapsed": false
   },
   "id": "561117c2126092ac"
  },
  {
   "cell_type": "code",
   "execution_count": 119,
   "outputs": [
    {
     "data": {
      "text/plain": "array([[[ 0,  1,  2,  3],\n        [ 4,  5,  6,  7]],\n\n       [[ 8,  9, 10, 11],\n        [12, 13, 14, 15]]])"
     },
     "execution_count": 119,
     "metadata": {},
     "output_type": "execute_result"
    }
   ],
   "source": [
    "arr"
   ],
   "metadata": {
    "collapsed": false,
    "ExecuteTime": {
     "end_time": "2024-03-08T06:22:43.337868900Z",
     "start_time": "2024-03-08T06:22:38.807627300Z"
    }
   },
   "id": "f055c0479a596582"
  },
  {
   "cell_type": "code",
   "execution_count": 120,
   "outputs": [
    {
     "data": {
      "text/plain": "array([[[ 0,  4],\n        [ 1,  5],\n        [ 2,  6],\n        [ 3,  7]],\n\n       [[ 8, 12],\n        [ 9, 13],\n        [10, 14],\n        [11, 15]]])"
     },
     "execution_count": 120,
     "metadata": {},
     "output_type": "execute_result"
    }
   ],
   "source": [
    "arr.swapaxes(1, 2)"
   ],
   "metadata": {
    "collapsed": false,
    "ExecuteTime": {
     "end_time": "2024-03-08T06:22:43.337868900Z",
     "start_time": "2024-03-08T06:22:38.813478400Z"
    }
   },
   "id": "a22d7a403d00e8a5"
  },
  {
   "cell_type": "markdown",
   "source": [
    "swapaxes也是返回源数据的视图（不会进行任何复制操作）"
   ],
   "metadata": {
    "collapsed": false
   },
   "id": "3fca2897acb49872"
  },
  {
   "cell_type": "code",
   "execution_count": 121,
   "outputs": [],
   "source": [
    "arr=np.arange(10)"
   ],
   "metadata": {
    "collapsed": false,
    "ExecuteTime": {
     "end_time": "2024-03-08T06:22:43.337868900Z",
     "start_time": "2024-03-08T06:22:38.821688700Z"
    }
   },
   "id": "c0bc2b9dafcf9567"
  },
  {
   "cell_type": "code",
   "execution_count": 122,
   "outputs": [
    {
     "data": {
      "text/plain": "array([0, 1, 2, 3, 4, 5, 6, 7, 8, 9])"
     },
     "execution_count": 122,
     "metadata": {},
     "output_type": "execute_result"
    }
   ],
   "source": [
    "arr"
   ],
   "metadata": {
    "collapsed": false,
    "ExecuteTime": {
     "end_time": "2024-03-08T06:22:43.338870200Z",
     "start_time": "2024-03-08T06:22:38.839253Z"
    }
   },
   "id": "3a20ed832484e01b"
  },
  {
   "cell_type": "code",
   "execution_count": 123,
   "outputs": [
    {
     "data": {
      "text/plain": "array([0.        , 1.        , 1.41421356, 1.73205081, 2.        ,\n       2.23606798, 2.44948974, 2.64575131, 2.82842712, 3.        ])"
     },
     "execution_count": 123,
     "metadata": {},
     "output_type": "execute_result"
    }
   ],
   "source": [
    "np.sqrt(arr)"
   ],
   "metadata": {
    "collapsed": false,
    "ExecuteTime": {
     "end_time": "2024-03-08T06:22:43.339821900Z",
     "start_time": "2024-03-08T06:22:38.845882Z"
    }
   },
   "id": "b0bcd826b98c0b75"
  },
  {
   "cell_type": "markdown",
   "source": [
    "副本，非直接操作"
   ],
   "metadata": {
    "collapsed": false
   },
   "id": "2d19559b1e37a949"
  },
  {
   "cell_type": "code",
   "execution_count": 124,
   "outputs": [
    {
     "data": {
      "text/plain": "array([1.00000000e+00, 2.71828183e+00, 7.38905610e+00, 2.00855369e+01,\n       5.45981500e+01, 1.48413159e+02, 4.03428793e+02, 1.09663316e+03,\n       2.98095799e+03, 8.10308393e+03])"
     },
     "execution_count": 124,
     "metadata": {},
     "output_type": "execute_result"
    }
   ],
   "source": [
    "np.exp(arr)    "
   ],
   "metadata": {
    "collapsed": false,
    "ExecuteTime": {
     "end_time": "2024-03-08T06:22:43.339821900Z",
     "start_time": "2024-03-08T06:22:38.852364Z"
    }
   },
   "id": "ed1d7f4476e0e056"
  },
  {
   "cell_type": "markdown",
   "source": [
    "np.exe()输出对应的e的x次幂"
   ],
   "metadata": {
    "collapsed": false
   },
   "id": "974831639d86f14d"
  },
  {
   "cell_type": "code",
   "execution_count": 125,
   "outputs": [
    {
     "data": {
      "text/plain": "array([  1.,   2.,   4.,   8.,  16.,  32.,  64., 128., 256., 512.])"
     },
     "execution_count": 125,
     "metadata": {},
     "output_type": "execute_result"
    }
   ],
   "source": [
    "np.exp2(arr)"
   ],
   "metadata": {
    "collapsed": false,
    "ExecuteTime": {
     "end_time": "2024-03-08T06:22:43.340824300Z",
     "start_time": "2024-03-08T06:22:38.860461300Z"
    }
   },
   "id": "555b95ba6cb26728"
  },
  {
   "cell_type": "markdown",
   "source": [
    "np.exp2(arr)输出对应的2的x次幂"
   ],
   "metadata": {
    "collapsed": false
   },
   "id": "ce25c7f0bc4abdce"
  },
  {
   "cell_type": "code",
   "execution_count": 126,
   "outputs": [],
   "source": [
    "x=np.random.randn(8)\n",
    "y=np.random.randn(8)"
   ],
   "metadata": {
    "collapsed": false,
    "ExecuteTime": {
     "end_time": "2024-03-08T06:22:43.340824300Z",
     "start_time": "2024-03-08T06:22:38.867932800Z"
    }
   },
   "id": "529b55a1022f603f"
  },
  {
   "cell_type": "code",
   "execution_count": 127,
   "outputs": [
    {
     "data": {
      "text/plain": "array([ 0.51035597,  0.61521148, -0.52324835, -0.68564574, -0.47811184,\n       -0.1169384 , -1.25085057, -0.00249322])"
     },
     "execution_count": 127,
     "metadata": {},
     "output_type": "execute_result"
    }
   ],
   "source": [
    "x"
   ],
   "metadata": {
    "collapsed": false,
    "ExecuteTime": {
     "end_time": "2024-03-08T06:22:43.340824300Z",
     "start_time": "2024-03-08T06:22:38.873704900Z"
    }
   },
   "id": "ef5b1352d43f408d"
  },
  {
   "cell_type": "code",
   "execution_count": 128,
   "outputs": [
    {
     "data": {
      "text/plain": "array([-0.4366188 ,  0.18436641, -1.22382101,  1.97267651, -0.33569848,\n       -0.03201736,  0.14496526,  0.14852657])"
     },
     "execution_count": 128,
     "metadata": {},
     "output_type": "execute_result"
    }
   ],
   "source": [
    "y"
   ],
   "metadata": {
    "collapsed": false,
    "ExecuteTime": {
     "end_time": "2024-03-08T06:22:43.342226Z",
     "start_time": "2024-03-08T06:22:38.880909200Z"
    }
   },
   "id": "5e8d5eca20b56c57"
  },
  {
   "cell_type": "code",
   "execution_count": 129,
   "outputs": [
    {
     "data": {
      "text/plain": "array([ 0.51035597,  0.61521148, -0.52324835,  1.97267651, -0.33569848,\n       -0.03201736,  0.14496526,  0.14852657])"
     },
     "execution_count": 129,
     "metadata": {},
     "output_type": "execute_result"
    }
   ],
   "source": [
    "np.maximum(x,y)"
   ],
   "metadata": {
    "collapsed": false,
    "ExecuteTime": {
     "end_time": "2024-03-08T06:22:43.342226Z",
     "start_time": "2024-03-08T06:22:38.888045200Z"
    }
   },
   "id": "b2e83f741fe85dd0"
  },
  {
   "cell_type": "code",
   "execution_count": 130,
   "outputs": [],
   "source": [
    "arr = np.random.randn(7) * 5"
   ],
   "metadata": {
    "collapsed": false,
    "ExecuteTime": {
     "end_time": "2024-03-08T06:22:43.342226Z",
     "start_time": "2024-03-08T06:22:38.895657500Z"
    }
   },
   "id": "fd7d1e618038ae3c"
  },
  {
   "cell_type": "code",
   "execution_count": 131,
   "outputs": [
    {
     "data": {
      "text/plain": "array([-9.32984317, -0.6203098 , -0.42632634,  3.78422784,  5.82583871,\n        1.25727979, -2.6007338 ])"
     },
     "execution_count": 131,
     "metadata": {},
     "output_type": "execute_result"
    }
   ],
   "source": [
    "arr"
   ],
   "metadata": {
    "collapsed": false,
    "ExecuteTime": {
     "end_time": "2024-03-08T06:22:43.342226Z",
     "start_time": "2024-03-08T06:22:38.900768800Z"
    }
   },
   "id": "3ad35dc256c203be"
  },
  {
   "cell_type": "code",
   "execution_count": 132,
   "outputs": [],
   "source": [
    "remainder, whole_part = np.modf(arr)"
   ],
   "metadata": {
    "collapsed": false,
    "ExecuteTime": {
     "end_time": "2024-03-08T06:22:43.343227800Z",
     "start_time": "2024-03-08T06:22:38.908840500Z"
    }
   },
   "id": "135d7704ce802115"
  },
  {
   "cell_type": "markdown",
   "source": [
    "把浮点数的整数和小数部分拆开"
   ],
   "metadata": {
    "collapsed": false
   },
   "id": "13d97a4fa41f6756"
  },
  {
   "cell_type": "code",
   "execution_count": 133,
   "outputs": [
    {
     "data": {
      "text/plain": "array([-0.32984317, -0.6203098 , -0.42632634,  0.78422784,  0.82583871,\n        0.25727979, -0.6007338 ])"
     },
     "execution_count": 133,
     "metadata": {},
     "output_type": "execute_result"
    }
   ],
   "source": [
    "remainder"
   ],
   "metadata": {
    "collapsed": false,
    "ExecuteTime": {
     "end_time": "2024-03-08T06:22:43.343768100Z",
     "start_time": "2024-03-08T06:22:38.914695Z"
    }
   },
   "id": "482594c21116afe6"
  },
  {
   "cell_type": "code",
   "execution_count": 134,
   "outputs": [
    {
     "data": {
      "text/plain": "array([-9., -0., -0.,  3.,  5.,  1., -2.])"
     },
     "execution_count": 134,
     "metadata": {},
     "output_type": "execute_result"
    }
   ],
   "source": [
    "whole_part"
   ],
   "metadata": {
    "collapsed": false,
    "ExecuteTime": {
     "end_time": "2024-03-08T06:22:43.344769Z",
     "start_time": "2024-03-08T06:22:38.920143600Z"
    }
   },
   "id": "64017c2463206b3e"
  },
  {
   "cell_type": "code",
   "execution_count": 135,
   "outputs": [
    {
     "data": {
      "text/plain": "array([-9.32984317, -0.6203098 , -0.42632634,  3.78422784,  5.82583871,\n        1.25727979, -2.6007338 ])"
     },
     "execution_count": 135,
     "metadata": {},
     "output_type": "execute_result"
    }
   ],
   "source": [
    "arr"
   ],
   "metadata": {
    "collapsed": false,
    "ExecuteTime": {
     "end_time": "2024-03-08T06:22:43.344769Z",
     "start_time": "2024-03-08T06:22:38.926984400Z"
    }
   },
   "id": "b79ea3ffb7f8f3a1"
  },
  {
   "cell_type": "code",
   "execution_count": 136,
   "outputs": [
    {
     "name": "stderr",
     "output_type": "stream",
     "text": [
      "C:\\Users\\Huaixu\\AppData\\Local\\Temp\\ipykernel_2884\\1450069282.py:1: RuntimeWarning: invalid value encountered in sqrt\n",
      "  np.sqrt(arr)\n"
     ]
    },
    {
     "data": {
      "text/plain": "array([       nan,        nan,        nan, 1.94530919, 2.41367742,\n       1.12128488,        nan])"
     },
     "execution_count": 136,
     "metadata": {},
     "output_type": "execute_result"
    }
   ],
   "source": [
    "np.sqrt(arr)"
   ],
   "metadata": {
    "collapsed": false,
    "ExecuteTime": {
     "end_time": "2024-03-08T06:22:43.344769Z",
     "start_time": "2024-03-08T06:22:38.933211400Z"
    }
   },
   "id": "1e26e48fb610c674"
  },
  {
   "cell_type": "code",
   "execution_count": 137,
   "outputs": [
    {
     "name": "stderr",
     "output_type": "stream",
     "text": [
      "C:\\Users\\Huaixu\\AppData\\Local\\Temp\\ipykernel_2884\\4134693705.py:1: RuntimeWarning: invalid value encountered in sqrt\n",
      "  np.sqrt(arr, arr)\n"
     ]
    },
    {
     "data": {
      "text/plain": "array([       nan,        nan,        nan, 1.94530919, 2.41367742,\n       1.12128488,        nan])"
     },
     "execution_count": 137,
     "metadata": {},
     "output_type": "execute_result"
    }
   ],
   "source": [
    "np.sqrt(arr, arr)\n",
    "arr"
   ],
   "metadata": {
    "collapsed": false,
    "ExecuteTime": {
     "end_time": "2024-03-08T06:22:43.344769Z",
     "start_time": "2024-03-08T06:22:38.941425300Z"
    }
   },
   "id": "8f25d24585da8c00"
  },
  {
   "cell_type": "markdown",
   "source": [],
   "metadata": {
    "collapsed": false
   },
   "id": "c55ea5390119a47f"
  },
  {
   "cell_type": "code",
   "execution_count": 138,
   "outputs": [],
   "source": [
    "points = np.arange(-5, 5, 0.01)"
   ],
   "metadata": {
    "collapsed": false,
    "ExecuteTime": {
     "end_time": "2024-03-08T06:22:43.344769Z",
     "start_time": "2024-03-08T06:22:38.949702300Z"
    }
   },
   "id": "eb042c851918b302"
  },
  {
   "cell_type": "code",
   "execution_count": 139,
   "outputs": [
    {
     "data": {
      "text/plain": "array([-5.0000000e+00, -4.9900000e+00, -4.9800000e+00, -4.9700000e+00,\n       -4.9600000e+00, -4.9500000e+00, -4.9400000e+00, -4.9300000e+00,\n       -4.9200000e+00, -4.9100000e+00, -4.9000000e+00, -4.8900000e+00,\n       -4.8800000e+00, -4.8700000e+00, -4.8600000e+00, -4.8500000e+00,\n       -4.8400000e+00, -4.8300000e+00, -4.8200000e+00, -4.8100000e+00,\n       -4.8000000e+00, -4.7900000e+00, -4.7800000e+00, -4.7700000e+00,\n       -4.7600000e+00, -4.7500000e+00, -4.7400000e+00, -4.7300000e+00,\n       -4.7200000e+00, -4.7100000e+00, -4.7000000e+00, -4.6900000e+00,\n       -4.6800000e+00, -4.6700000e+00, -4.6600000e+00, -4.6500000e+00,\n       -4.6400000e+00, -4.6300000e+00, -4.6200000e+00, -4.6100000e+00,\n       -4.6000000e+00, -4.5900000e+00, -4.5800000e+00, -4.5700000e+00,\n       -4.5600000e+00, -4.5500000e+00, -4.5400000e+00, -4.5300000e+00,\n       -4.5200000e+00, -4.5100000e+00, -4.5000000e+00, -4.4900000e+00,\n       -4.4800000e+00, -4.4700000e+00, -4.4600000e+00, -4.4500000e+00,\n       -4.4400000e+00, -4.4300000e+00, -4.4200000e+00, -4.4100000e+00,\n       -4.4000000e+00, -4.3900000e+00, -4.3800000e+00, -4.3700000e+00,\n       -4.3600000e+00, -4.3500000e+00, -4.3400000e+00, -4.3300000e+00,\n       -4.3200000e+00, -4.3100000e+00, -4.3000000e+00, -4.2900000e+00,\n       -4.2800000e+00, -4.2700000e+00, -4.2600000e+00, -4.2500000e+00,\n       -4.2400000e+00, -4.2300000e+00, -4.2200000e+00, -4.2100000e+00,\n       -4.2000000e+00, -4.1900000e+00, -4.1800000e+00, -4.1700000e+00,\n       -4.1600000e+00, -4.1500000e+00, -4.1400000e+00, -4.1300000e+00,\n       -4.1200000e+00, -4.1100000e+00, -4.1000000e+00, -4.0900000e+00,\n       -4.0800000e+00, -4.0700000e+00, -4.0600000e+00, -4.0500000e+00,\n       -4.0400000e+00, -4.0300000e+00, -4.0200000e+00, -4.0100000e+00,\n       -4.0000000e+00, -3.9900000e+00, -3.9800000e+00, -3.9700000e+00,\n       -3.9600000e+00, -3.9500000e+00, -3.9400000e+00, -3.9300000e+00,\n       -3.9200000e+00, -3.9100000e+00, -3.9000000e+00, -3.8900000e+00,\n       -3.8800000e+00, -3.8700000e+00, -3.8600000e+00, -3.8500000e+00,\n       -3.8400000e+00, -3.8300000e+00, -3.8200000e+00, -3.8100000e+00,\n       -3.8000000e+00, -3.7900000e+00, -3.7800000e+00, -3.7700000e+00,\n       -3.7600000e+00, -3.7500000e+00, -3.7400000e+00, -3.7300000e+00,\n       -3.7200000e+00, -3.7100000e+00, -3.7000000e+00, -3.6900000e+00,\n       -3.6800000e+00, -3.6700000e+00, -3.6600000e+00, -3.6500000e+00,\n       -3.6400000e+00, -3.6300000e+00, -3.6200000e+00, -3.6100000e+00,\n       -3.6000000e+00, -3.5900000e+00, -3.5800000e+00, -3.5700000e+00,\n       -3.5600000e+00, -3.5500000e+00, -3.5400000e+00, -3.5300000e+00,\n       -3.5200000e+00, -3.5100000e+00, -3.5000000e+00, -3.4900000e+00,\n       -3.4800000e+00, -3.4700000e+00, -3.4600000e+00, -3.4500000e+00,\n       -3.4400000e+00, -3.4300000e+00, -3.4200000e+00, -3.4100000e+00,\n       -3.4000000e+00, -3.3900000e+00, -3.3800000e+00, -3.3700000e+00,\n       -3.3600000e+00, -3.3500000e+00, -3.3400000e+00, -3.3300000e+00,\n       -3.3200000e+00, -3.3100000e+00, -3.3000000e+00, -3.2900000e+00,\n       -3.2800000e+00, -3.2700000e+00, -3.2600000e+00, -3.2500000e+00,\n       -3.2400000e+00, -3.2300000e+00, -3.2200000e+00, -3.2100000e+00,\n       -3.2000000e+00, -3.1900000e+00, -3.1800000e+00, -3.1700000e+00,\n       -3.1600000e+00, -3.1500000e+00, -3.1400000e+00, -3.1300000e+00,\n       -3.1200000e+00, -3.1100000e+00, -3.1000000e+00, -3.0900000e+00,\n       -3.0800000e+00, -3.0700000e+00, -3.0600000e+00, -3.0500000e+00,\n       -3.0400000e+00, -3.0300000e+00, -3.0200000e+00, -3.0100000e+00,\n       -3.0000000e+00, -2.9900000e+00, -2.9800000e+00, -2.9700000e+00,\n       -2.9600000e+00, -2.9500000e+00, -2.9400000e+00, -2.9300000e+00,\n       -2.9200000e+00, -2.9100000e+00, -2.9000000e+00, -2.8900000e+00,\n       -2.8800000e+00, -2.8700000e+00, -2.8600000e+00, -2.8500000e+00,\n       -2.8400000e+00, -2.8300000e+00, -2.8200000e+00, -2.8100000e+00,\n       -2.8000000e+00, -2.7900000e+00, -2.7800000e+00, -2.7700000e+00,\n       -2.7600000e+00, -2.7500000e+00, -2.7400000e+00, -2.7300000e+00,\n       -2.7200000e+00, -2.7100000e+00, -2.7000000e+00, -2.6900000e+00,\n       -2.6800000e+00, -2.6700000e+00, -2.6600000e+00, -2.6500000e+00,\n       -2.6400000e+00, -2.6300000e+00, -2.6200000e+00, -2.6100000e+00,\n       -2.6000000e+00, -2.5900000e+00, -2.5800000e+00, -2.5700000e+00,\n       -2.5600000e+00, -2.5500000e+00, -2.5400000e+00, -2.5300000e+00,\n       -2.5200000e+00, -2.5100000e+00, -2.5000000e+00, -2.4900000e+00,\n       -2.4800000e+00, -2.4700000e+00, -2.4600000e+00, -2.4500000e+00,\n       -2.4400000e+00, -2.4300000e+00, -2.4200000e+00, -2.4100000e+00,\n       -2.4000000e+00, -2.3900000e+00, -2.3800000e+00, -2.3700000e+00,\n       -2.3600000e+00, -2.3500000e+00, -2.3400000e+00, -2.3300000e+00,\n       -2.3200000e+00, -2.3100000e+00, -2.3000000e+00, -2.2900000e+00,\n       -2.2800000e+00, -2.2700000e+00, -2.2600000e+00, -2.2500000e+00,\n       -2.2400000e+00, -2.2300000e+00, -2.2200000e+00, -2.2100000e+00,\n       -2.2000000e+00, -2.1900000e+00, -2.1800000e+00, -2.1700000e+00,\n       -2.1600000e+00, -2.1500000e+00, -2.1400000e+00, -2.1300000e+00,\n       -2.1200000e+00, -2.1100000e+00, -2.1000000e+00, -2.0900000e+00,\n       -2.0800000e+00, -2.0700000e+00, -2.0600000e+00, -2.0500000e+00,\n       -2.0400000e+00, -2.0300000e+00, -2.0200000e+00, -2.0100000e+00,\n       -2.0000000e+00, -1.9900000e+00, -1.9800000e+00, -1.9700000e+00,\n       -1.9600000e+00, -1.9500000e+00, -1.9400000e+00, -1.9300000e+00,\n       -1.9200000e+00, -1.9100000e+00, -1.9000000e+00, -1.8900000e+00,\n       -1.8800000e+00, -1.8700000e+00, -1.8600000e+00, -1.8500000e+00,\n       -1.8400000e+00, -1.8300000e+00, -1.8200000e+00, -1.8100000e+00,\n       -1.8000000e+00, -1.7900000e+00, -1.7800000e+00, -1.7700000e+00,\n       -1.7600000e+00, -1.7500000e+00, -1.7400000e+00, -1.7300000e+00,\n       -1.7200000e+00, -1.7100000e+00, -1.7000000e+00, -1.6900000e+00,\n       -1.6800000e+00, -1.6700000e+00, -1.6600000e+00, -1.6500000e+00,\n       -1.6400000e+00, -1.6300000e+00, -1.6200000e+00, -1.6100000e+00,\n       -1.6000000e+00, -1.5900000e+00, -1.5800000e+00, -1.5700000e+00,\n       -1.5600000e+00, -1.5500000e+00, -1.5400000e+00, -1.5300000e+00,\n       -1.5200000e+00, -1.5100000e+00, -1.5000000e+00, -1.4900000e+00,\n       -1.4800000e+00, -1.4700000e+00, -1.4600000e+00, -1.4500000e+00,\n       -1.4400000e+00, -1.4300000e+00, -1.4200000e+00, -1.4100000e+00,\n       -1.4000000e+00, -1.3900000e+00, -1.3800000e+00, -1.3700000e+00,\n       -1.3600000e+00, -1.3500000e+00, -1.3400000e+00, -1.3300000e+00,\n       -1.3200000e+00, -1.3100000e+00, -1.3000000e+00, -1.2900000e+00,\n       -1.2800000e+00, -1.2700000e+00, -1.2600000e+00, -1.2500000e+00,\n       -1.2400000e+00, -1.2300000e+00, -1.2200000e+00, -1.2100000e+00,\n       -1.2000000e+00, -1.1900000e+00, -1.1800000e+00, -1.1700000e+00,\n       -1.1600000e+00, -1.1500000e+00, -1.1400000e+00, -1.1300000e+00,\n       -1.1200000e+00, -1.1100000e+00, -1.1000000e+00, -1.0900000e+00,\n       -1.0800000e+00, -1.0700000e+00, -1.0600000e+00, -1.0500000e+00,\n       -1.0400000e+00, -1.0300000e+00, -1.0200000e+00, -1.0100000e+00,\n       -1.0000000e+00, -9.9000000e-01, -9.8000000e-01, -9.7000000e-01,\n       -9.6000000e-01, -9.5000000e-01, -9.4000000e-01, -9.3000000e-01,\n       -9.2000000e-01, -9.1000000e-01, -9.0000000e-01, -8.9000000e-01,\n       -8.8000000e-01, -8.7000000e-01, -8.6000000e-01, -8.5000000e-01,\n       -8.4000000e-01, -8.3000000e-01, -8.2000000e-01, -8.1000000e-01,\n       -8.0000000e-01, -7.9000000e-01, -7.8000000e-01, -7.7000000e-01,\n       -7.6000000e-01, -7.5000000e-01, -7.4000000e-01, -7.3000000e-01,\n       -7.2000000e-01, -7.1000000e-01, -7.0000000e-01, -6.9000000e-01,\n       -6.8000000e-01, -6.7000000e-01, -6.6000000e-01, -6.5000000e-01,\n       -6.4000000e-01, -6.3000000e-01, -6.2000000e-01, -6.1000000e-01,\n       -6.0000000e-01, -5.9000000e-01, -5.8000000e-01, -5.7000000e-01,\n       -5.6000000e-01, -5.5000000e-01, -5.4000000e-01, -5.3000000e-01,\n       -5.2000000e-01, -5.1000000e-01, -5.0000000e-01, -4.9000000e-01,\n       -4.8000000e-01, -4.7000000e-01, -4.6000000e-01, -4.5000000e-01,\n       -4.4000000e-01, -4.3000000e-01, -4.2000000e-01, -4.1000000e-01,\n       -4.0000000e-01, -3.9000000e-01, -3.8000000e-01, -3.7000000e-01,\n       -3.6000000e-01, -3.5000000e-01, -3.4000000e-01, -3.3000000e-01,\n       -3.2000000e-01, -3.1000000e-01, -3.0000000e-01, -2.9000000e-01,\n       -2.8000000e-01, -2.7000000e-01, -2.6000000e-01, -2.5000000e-01,\n       -2.4000000e-01, -2.3000000e-01, -2.2000000e-01, -2.1000000e-01,\n       -2.0000000e-01, -1.9000000e-01, -1.8000000e-01, -1.7000000e-01,\n       -1.6000000e-01, -1.5000000e-01, -1.4000000e-01, -1.3000000e-01,\n       -1.2000000e-01, -1.1000000e-01, -1.0000000e-01, -9.0000000e-02,\n       -8.0000000e-02, -7.0000000e-02, -6.0000000e-02, -5.0000000e-02,\n       -4.0000000e-02, -3.0000000e-02, -2.0000000e-02, -1.0000000e-02,\n       -1.0658141e-13,  1.0000000e-02,  2.0000000e-02,  3.0000000e-02,\n        4.0000000e-02,  5.0000000e-02,  6.0000000e-02,  7.0000000e-02,\n        8.0000000e-02,  9.0000000e-02,  1.0000000e-01,  1.1000000e-01,\n        1.2000000e-01,  1.3000000e-01,  1.4000000e-01,  1.5000000e-01,\n        1.6000000e-01,  1.7000000e-01,  1.8000000e-01,  1.9000000e-01,\n        2.0000000e-01,  2.1000000e-01,  2.2000000e-01,  2.3000000e-01,\n        2.4000000e-01,  2.5000000e-01,  2.6000000e-01,  2.7000000e-01,\n        2.8000000e-01,  2.9000000e-01,  3.0000000e-01,  3.1000000e-01,\n        3.2000000e-01,  3.3000000e-01,  3.4000000e-01,  3.5000000e-01,\n        3.6000000e-01,  3.7000000e-01,  3.8000000e-01,  3.9000000e-01,\n        4.0000000e-01,  4.1000000e-01,  4.2000000e-01,  4.3000000e-01,\n        4.4000000e-01,  4.5000000e-01,  4.6000000e-01,  4.7000000e-01,\n        4.8000000e-01,  4.9000000e-01,  5.0000000e-01,  5.1000000e-01,\n        5.2000000e-01,  5.3000000e-01,  5.4000000e-01,  5.5000000e-01,\n        5.6000000e-01,  5.7000000e-01,  5.8000000e-01,  5.9000000e-01,\n        6.0000000e-01,  6.1000000e-01,  6.2000000e-01,  6.3000000e-01,\n        6.4000000e-01,  6.5000000e-01,  6.6000000e-01,  6.7000000e-01,\n        6.8000000e-01,  6.9000000e-01,  7.0000000e-01,  7.1000000e-01,\n        7.2000000e-01,  7.3000000e-01,  7.4000000e-01,  7.5000000e-01,\n        7.6000000e-01,  7.7000000e-01,  7.8000000e-01,  7.9000000e-01,\n        8.0000000e-01,  8.1000000e-01,  8.2000000e-01,  8.3000000e-01,\n        8.4000000e-01,  8.5000000e-01,  8.6000000e-01,  8.7000000e-01,\n        8.8000000e-01,  8.9000000e-01,  9.0000000e-01,  9.1000000e-01,\n        9.2000000e-01,  9.3000000e-01,  9.4000000e-01,  9.5000000e-01,\n        9.6000000e-01,  9.7000000e-01,  9.8000000e-01,  9.9000000e-01,\n        1.0000000e+00,  1.0100000e+00,  1.0200000e+00,  1.0300000e+00,\n        1.0400000e+00,  1.0500000e+00,  1.0600000e+00,  1.0700000e+00,\n        1.0800000e+00,  1.0900000e+00,  1.1000000e+00,  1.1100000e+00,\n        1.1200000e+00,  1.1300000e+00,  1.1400000e+00,  1.1500000e+00,\n        1.1600000e+00,  1.1700000e+00,  1.1800000e+00,  1.1900000e+00,\n        1.2000000e+00,  1.2100000e+00,  1.2200000e+00,  1.2300000e+00,\n        1.2400000e+00,  1.2500000e+00,  1.2600000e+00,  1.2700000e+00,\n        1.2800000e+00,  1.2900000e+00,  1.3000000e+00,  1.3100000e+00,\n        1.3200000e+00,  1.3300000e+00,  1.3400000e+00,  1.3500000e+00,\n        1.3600000e+00,  1.3700000e+00,  1.3800000e+00,  1.3900000e+00,\n        1.4000000e+00,  1.4100000e+00,  1.4200000e+00,  1.4300000e+00,\n        1.4400000e+00,  1.4500000e+00,  1.4600000e+00,  1.4700000e+00,\n        1.4800000e+00,  1.4900000e+00,  1.5000000e+00,  1.5100000e+00,\n        1.5200000e+00,  1.5300000e+00,  1.5400000e+00,  1.5500000e+00,\n        1.5600000e+00,  1.5700000e+00,  1.5800000e+00,  1.5900000e+00,\n        1.6000000e+00,  1.6100000e+00,  1.6200000e+00,  1.6300000e+00,\n        1.6400000e+00,  1.6500000e+00,  1.6600000e+00,  1.6700000e+00,\n        1.6800000e+00,  1.6900000e+00,  1.7000000e+00,  1.7100000e+00,\n        1.7200000e+00,  1.7300000e+00,  1.7400000e+00,  1.7500000e+00,\n        1.7600000e+00,  1.7700000e+00,  1.7800000e+00,  1.7900000e+00,\n        1.8000000e+00,  1.8100000e+00,  1.8200000e+00,  1.8300000e+00,\n        1.8400000e+00,  1.8500000e+00,  1.8600000e+00,  1.8700000e+00,\n        1.8800000e+00,  1.8900000e+00,  1.9000000e+00,  1.9100000e+00,\n        1.9200000e+00,  1.9300000e+00,  1.9400000e+00,  1.9500000e+00,\n        1.9600000e+00,  1.9700000e+00,  1.9800000e+00,  1.9900000e+00,\n        2.0000000e+00,  2.0100000e+00,  2.0200000e+00,  2.0300000e+00,\n        2.0400000e+00,  2.0500000e+00,  2.0600000e+00,  2.0700000e+00,\n        2.0800000e+00,  2.0900000e+00,  2.1000000e+00,  2.1100000e+00,\n        2.1200000e+00,  2.1300000e+00,  2.1400000e+00,  2.1500000e+00,\n        2.1600000e+00,  2.1700000e+00,  2.1800000e+00,  2.1900000e+00,\n        2.2000000e+00,  2.2100000e+00,  2.2200000e+00,  2.2300000e+00,\n        2.2400000e+00,  2.2500000e+00,  2.2600000e+00,  2.2700000e+00,\n        2.2800000e+00,  2.2900000e+00,  2.3000000e+00,  2.3100000e+00,\n        2.3200000e+00,  2.3300000e+00,  2.3400000e+00,  2.3500000e+00,\n        2.3600000e+00,  2.3700000e+00,  2.3800000e+00,  2.3900000e+00,\n        2.4000000e+00,  2.4100000e+00,  2.4200000e+00,  2.4300000e+00,\n        2.4400000e+00,  2.4500000e+00,  2.4600000e+00,  2.4700000e+00,\n        2.4800000e+00,  2.4900000e+00,  2.5000000e+00,  2.5100000e+00,\n        2.5200000e+00,  2.5300000e+00,  2.5400000e+00,  2.5500000e+00,\n        2.5600000e+00,  2.5700000e+00,  2.5800000e+00,  2.5900000e+00,\n        2.6000000e+00,  2.6100000e+00,  2.6200000e+00,  2.6300000e+00,\n        2.6400000e+00,  2.6500000e+00,  2.6600000e+00,  2.6700000e+00,\n        2.6800000e+00,  2.6900000e+00,  2.7000000e+00,  2.7100000e+00,\n        2.7200000e+00,  2.7300000e+00,  2.7400000e+00,  2.7500000e+00,\n        2.7600000e+00,  2.7700000e+00,  2.7800000e+00,  2.7900000e+00,\n        2.8000000e+00,  2.8100000e+00,  2.8200000e+00,  2.8300000e+00,\n        2.8400000e+00,  2.8500000e+00,  2.8600000e+00,  2.8700000e+00,\n        2.8800000e+00,  2.8900000e+00,  2.9000000e+00,  2.9100000e+00,\n        2.9200000e+00,  2.9300000e+00,  2.9400000e+00,  2.9500000e+00,\n        2.9600000e+00,  2.9700000e+00,  2.9800000e+00,  2.9900000e+00,\n        3.0000000e+00,  3.0100000e+00,  3.0200000e+00,  3.0300000e+00,\n        3.0400000e+00,  3.0500000e+00,  3.0600000e+00,  3.0700000e+00,\n        3.0800000e+00,  3.0900000e+00,  3.1000000e+00,  3.1100000e+00,\n        3.1200000e+00,  3.1300000e+00,  3.1400000e+00,  3.1500000e+00,\n        3.1600000e+00,  3.1700000e+00,  3.1800000e+00,  3.1900000e+00,\n        3.2000000e+00,  3.2100000e+00,  3.2200000e+00,  3.2300000e+00,\n        3.2400000e+00,  3.2500000e+00,  3.2600000e+00,  3.2700000e+00,\n        3.2800000e+00,  3.2900000e+00,  3.3000000e+00,  3.3100000e+00,\n        3.3200000e+00,  3.3300000e+00,  3.3400000e+00,  3.3500000e+00,\n        3.3600000e+00,  3.3700000e+00,  3.3800000e+00,  3.3900000e+00,\n        3.4000000e+00,  3.4100000e+00,  3.4200000e+00,  3.4300000e+00,\n        3.4400000e+00,  3.4500000e+00,  3.4600000e+00,  3.4700000e+00,\n        3.4800000e+00,  3.4900000e+00,  3.5000000e+00,  3.5100000e+00,\n        3.5200000e+00,  3.5300000e+00,  3.5400000e+00,  3.5500000e+00,\n        3.5600000e+00,  3.5700000e+00,  3.5800000e+00,  3.5900000e+00,\n        3.6000000e+00,  3.6100000e+00,  3.6200000e+00,  3.6300000e+00,\n        3.6400000e+00,  3.6500000e+00,  3.6600000e+00,  3.6700000e+00,\n        3.6800000e+00,  3.6900000e+00,  3.7000000e+00,  3.7100000e+00,\n        3.7200000e+00,  3.7300000e+00,  3.7400000e+00,  3.7500000e+00,\n        3.7600000e+00,  3.7700000e+00,  3.7800000e+00,  3.7900000e+00,\n        3.8000000e+00,  3.8100000e+00,  3.8200000e+00,  3.8300000e+00,\n        3.8400000e+00,  3.8500000e+00,  3.8600000e+00,  3.8700000e+00,\n        3.8800000e+00,  3.8900000e+00,  3.9000000e+00,  3.9100000e+00,\n        3.9200000e+00,  3.9300000e+00,  3.9400000e+00,  3.9500000e+00,\n        3.9600000e+00,  3.9700000e+00,  3.9800000e+00,  3.9900000e+00,\n        4.0000000e+00,  4.0100000e+00,  4.0200000e+00,  4.0300000e+00,\n        4.0400000e+00,  4.0500000e+00,  4.0600000e+00,  4.0700000e+00,\n        4.0800000e+00,  4.0900000e+00,  4.1000000e+00,  4.1100000e+00,\n        4.1200000e+00,  4.1300000e+00,  4.1400000e+00,  4.1500000e+00,\n        4.1600000e+00,  4.1700000e+00,  4.1800000e+00,  4.1900000e+00,\n        4.2000000e+00,  4.2100000e+00,  4.2200000e+00,  4.2300000e+00,\n        4.2400000e+00,  4.2500000e+00,  4.2600000e+00,  4.2700000e+00,\n        4.2800000e+00,  4.2900000e+00,  4.3000000e+00,  4.3100000e+00,\n        4.3200000e+00,  4.3300000e+00,  4.3400000e+00,  4.3500000e+00,\n        4.3600000e+00,  4.3700000e+00,  4.3800000e+00,  4.3900000e+00,\n        4.4000000e+00,  4.4100000e+00,  4.4200000e+00,  4.4300000e+00,\n        4.4400000e+00,  4.4500000e+00,  4.4600000e+00,  4.4700000e+00,\n        4.4800000e+00,  4.4900000e+00,  4.5000000e+00,  4.5100000e+00,\n        4.5200000e+00,  4.5300000e+00,  4.5400000e+00,  4.5500000e+00,\n        4.5600000e+00,  4.5700000e+00,  4.5800000e+00,  4.5900000e+00,\n        4.6000000e+00,  4.6100000e+00,  4.6200000e+00,  4.6300000e+00,\n        4.6400000e+00,  4.6500000e+00,  4.6600000e+00,  4.6700000e+00,\n        4.6800000e+00,  4.6900000e+00,  4.7000000e+00,  4.7100000e+00,\n        4.7200000e+00,  4.7300000e+00,  4.7400000e+00,  4.7500000e+00,\n        4.7600000e+00,  4.7700000e+00,  4.7800000e+00,  4.7900000e+00,\n        4.8000000e+00,  4.8100000e+00,  4.8200000e+00,  4.8300000e+00,\n        4.8400000e+00,  4.8500000e+00,  4.8600000e+00,  4.8700000e+00,\n        4.8800000e+00,  4.8900000e+00,  4.9000000e+00,  4.9100000e+00,\n        4.9200000e+00,  4.9300000e+00,  4.9400000e+00,  4.9500000e+00,\n        4.9600000e+00,  4.9700000e+00,  4.9800000e+00,  4.9900000e+00])"
     },
     "execution_count": 139,
     "metadata": {},
     "output_type": "execute_result"
    }
   ],
   "source": [
    "points"
   ],
   "metadata": {
    "collapsed": false,
    "ExecuteTime": {
     "end_time": "2024-03-08T06:22:43.349068800Z",
     "start_time": "2024-03-08T06:22:38.955363800Z"
    }
   },
   "id": "c5e04197f2f0f32f"
  },
  {
   "cell_type": "code",
   "execution_count": 140,
   "outputs": [],
   "source": [
    "xs, ys = np.meshgrid(points, points)"
   ],
   "metadata": {
    "collapsed": false,
    "ExecuteTime": {
     "end_time": "2024-03-08T06:22:43.350067500Z",
     "start_time": "2024-03-08T06:22:38.971232700Z"
    }
   },
   "id": "a89becf711ba4569"
  },
  {
   "cell_type": "code",
   "execution_count": 141,
   "outputs": [
    {
     "data": {
      "text/plain": "array([[-5.  , -4.99, -4.98, ...,  4.97,  4.98,  4.99],\n       [-5.  , -4.99, -4.98, ...,  4.97,  4.98,  4.99],\n       [-5.  , -4.99, -4.98, ...,  4.97,  4.98,  4.99],\n       ...,\n       [-5.  , -4.99, -4.98, ...,  4.97,  4.98,  4.99],\n       [-5.  , -4.99, -4.98, ...,  4.97,  4.98,  4.99],\n       [-5.  , -4.99, -4.98, ...,  4.97,  4.98,  4.99]])"
     },
     "execution_count": 141,
     "metadata": {},
     "output_type": "execute_result"
    }
   ],
   "source": [
    "xs"
   ],
   "metadata": {
    "collapsed": false,
    "ExecuteTime": {
     "end_time": "2024-03-08T06:22:43.350824400Z",
     "start_time": "2024-03-08T06:22:38.980852200Z"
    }
   },
   "id": "3b9a313711dbad78"
  },
  {
   "cell_type": "code",
   "execution_count": 142,
   "outputs": [
    {
     "data": {
      "text/plain": "array([[-5.  , -5.  , -5.  , ..., -5.  , -5.  , -5.  ],\n       [-4.99, -4.99, -4.99, ..., -4.99, -4.99, -4.99],\n       [-4.98, -4.98, -4.98, ..., -4.98, -4.98, -4.98],\n       ...,\n       [ 4.97,  4.97,  4.97, ...,  4.97,  4.97,  4.97],\n       [ 4.98,  4.98,  4.98, ...,  4.98,  4.98,  4.98],\n       [ 4.99,  4.99,  4.99, ...,  4.99,  4.99,  4.99]])"
     },
     "execution_count": 142,
     "metadata": {},
     "output_type": "execute_result"
    }
   ],
   "source": [
    "ys"
   ],
   "metadata": {
    "collapsed": false,
    "ExecuteTime": {
     "end_time": "2024-03-08T06:22:43.350824400Z",
     "start_time": "2024-03-08T06:22:38.986938100Z"
    }
   },
   "id": "5afbb97949da2aff"
  },
  {
   "cell_type": "code",
   "execution_count": 143,
   "outputs": [],
   "source": [
    "z = np.sqrt(xs ** 2 + ys ** 2)"
   ],
   "metadata": {
    "collapsed": false,
    "ExecuteTime": {
     "end_time": "2024-03-08T06:22:43.351825800Z",
     "start_time": "2024-03-08T06:22:38.993717700Z"
    }
   },
   "id": "8b73da875b44a982"
  },
  {
   "cell_type": "code",
   "execution_count": 144,
   "outputs": [
    {
     "data": {
      "text/plain": "array([[7.07106781, 7.06400028, 7.05693985, ..., 7.04988652, 7.05693985,\n        7.06400028],\n       [7.06400028, 7.05692568, 7.04985815, ..., 7.04279774, 7.04985815,\n        7.05692568],\n       [7.05693985, 7.04985815, 7.04278354, ..., 7.03571603, 7.04278354,\n        7.04985815],\n       ...,\n       [7.04988652, 7.04279774, 7.03571603, ..., 7.0286414 , 7.03571603,\n        7.04279774],\n       [7.05693985, 7.04985815, 7.04278354, ..., 7.03571603, 7.04278354,\n        7.04985815],\n       [7.06400028, 7.05692568, 7.04985815, ..., 7.04279774, 7.04985815,\n        7.05692568]])"
     },
     "execution_count": 144,
     "metadata": {},
     "output_type": "execute_result"
    }
   ],
   "source": [
    "z"
   ],
   "metadata": {
    "collapsed": false,
    "ExecuteTime": {
     "end_time": "2024-03-08T06:22:43.351825800Z",
     "start_time": "2024-03-08T06:22:39.007665300Z"
    }
   },
   "id": "c569a7a46823b2cd"
  },
  {
   "cell_type": "code",
   "execution_count": 145,
   "outputs": [
    {
     "data": {
      "text/plain": "Text(0.5, 1.0, 'Image plot of $\\\\sqrt{x^2 + y^2}$ for a grid of values')"
     },
     "execution_count": 145,
     "metadata": {},
     "output_type": "execute_result"
    },
    {
     "data": {
      "text/plain": "<Figure size 640x480 with 2 Axes>",
      "image/png": "[encoded data removed]"
     },
     "metadata": {},
     "output_type": "display_data"
    }
   ],
   "source": [
    "import matplotlib.pyplot as plt\n",
    "plt.imshow(z, cmap=plt.cm.gray)\n",
    "plt.colorbar()\n",
    "plt.title(\"Image plot of $\\sqrt{x^2 + y^2}$ for a grid of values\")"
   ],
   "metadata": {
    "collapsed": false,
    "ExecuteTime": {
     "end_time": "2024-03-08T06:22:43.351825800Z",
     "start_time": "2024-03-08T06:22:39.015438700Z"
    }
   },
   "id": "ffba1cd0573c193"
  },
  {
   "cell_type": "code",
   "execution_count": 146,
   "outputs": [],
   "source": [
    "xarr = np.array([1.1, 1.2, 1.3, 1.4, 1.5])\n",
    "yarr = np.array([2.1, 2.2, 2.3, 2.4, 2.5])\n",
    "cond = np.array([True, False, True, True, False])"
   ],
   "metadata": {
    "collapsed": false,
    "ExecuteTime": {
     "end_time": "2024-03-08T06:22:43.358860100Z",
     "start_time": "2024-03-08T06:22:40.298212700Z"
    }
   },
   "id": "43a75fd8210d8ea4"
  },
  {
   "cell_type": "code",
   "execution_count": 147,
   "outputs": [],
   "source": [
    "result = [(x if c else y) for x, y, c in zip(xarr, yarr, cond)]"
   ],
   "metadata": {
    "collapsed": false,
    "ExecuteTime": {
     "end_time": "2024-03-08T06:22:43.359861800Z",
     "start_time": "2024-03-08T06:22:40.309560800Z"
    }
   },
   "id": "3e026bd7cf92c2f"
  },
  {
   "cell_type": "markdown",
   "source": [
    "这个是有趣的 但是这有几个问题。第一，它对大数组的处理速度不是很快（因为所有工作都是由纯Python完成的）。第二，无法用于多维数组。若使用np.where，则可以将该功能写得非常简洁"
   ],
   "metadata": {
    "collapsed": false
   },
   "id": "2c55224469832f19"
  },
  {
   "cell_type": "code",
   "execution_count": 148,
   "outputs": [
    {
     "data": {
      "text/plain": "[1.1, 2.2, 1.3, 1.4, 2.5]"
     },
     "execution_count": 148,
     "metadata": {},
     "output_type": "execute_result"
    }
   ],
   "source": [
    "result"
   ],
   "metadata": {
    "collapsed": false,
    "ExecuteTime": {
     "end_time": "2024-03-08T06:22:43.359861800Z",
     "start_time": "2024-03-08T06:22:40.317362500Z"
    }
   },
   "id": "e3692d07d91bf3c4"
  },
  {
   "cell_type": "code",
   "execution_count": 149,
   "outputs": [
    {
     "data": {
      "text/plain": "array([1.1, 2.2, 1.3, 1.4, 2.5])"
     },
     "execution_count": 149,
     "metadata": {},
     "output_type": "execute_result"
    }
   ],
   "source": [
    "np.where(cond, xarr, yarr)"
   ],
   "metadata": {
    "collapsed": false,
    "ExecuteTime": {
     "end_time": "2024-03-08T06:22:43.359861800Z",
     "start_time": "2024-03-08T06:22:40.330612900Z"
    }
   },
   "id": "432db3ff9c49c314"
  },
  {
   "cell_type": "markdown",
   "source": [
    "np.where的第二个和第三个参数不必是数组，它们都可以是标量值。在数据分析工作中，where通常用于根据另一个数组而产生一个新的数组。假设有一个由随机数据组成的矩阵，你希望将所有正值替换为2，将所有负值替换为－2。若利用np.where，则会非常简单："
   ],
   "metadata": {
    "collapsed": false
   },
   "id": "4c820a0f77ba9ce"
  },
  {
   "cell_type": "code",
   "execution_count": 150,
   "outputs": [],
   "source": [
    "arr = np.random.randn(4, 4)"
   ],
   "metadata": {
    "collapsed": false,
    "ExecuteTime": {
     "end_time": "2024-03-08T06:22:43.361189700Z",
     "start_time": "2024-03-08T06:22:40.339302200Z"
    }
   },
   "id": "167973a705cc3a7c"
  },
  {
   "cell_type": "code",
   "execution_count": 151,
   "outputs": [
    {
     "data": {
      "text/plain": "array([[-1.47070816,  2.16444509, -0.2191402 , -0.35747752],\n       [ 0.61589274,  1.04755519,  0.73072166, -0.83175123],\n       [-0.62396032, -0.48987085,  2.17575535,  0.75031611],\n       [ 1.05936183, -0.58924912, -1.66930713,  1.28632148]])"
     },
     "execution_count": 151,
     "metadata": {},
     "output_type": "execute_result"
    }
   ],
   "source": [
    "arr"
   ],
   "metadata": {
    "collapsed": false,
    "ExecuteTime": {
     "end_time": "2024-03-08T06:22:43.361189700Z",
     "start_time": "2024-03-08T06:22:40.345822500Z"
    }
   },
   "id": "7dd9b0eab0b9be92"
  },
  {
   "cell_type": "code",
   "execution_count": 152,
   "outputs": [
    {
     "data": {
      "text/plain": "array([[False,  True, False, False],\n       [ True,  True,  True, False],\n       [False, False,  True,  True],\n       [ True, False, False,  True]])"
     },
     "execution_count": 152,
     "metadata": {},
     "output_type": "execute_result"
    }
   ],
   "source": [
    "arr>0"
   ],
   "metadata": {
    "collapsed": false,
    "ExecuteTime": {
     "end_time": "2024-03-08T06:22:43.362536200Z",
     "start_time": "2024-03-08T06:22:40.353817400Z"
    }
   },
   "id": "ef62e7bdfcb115c0"
  },
  {
   "cell_type": "code",
   "execution_count": 153,
   "outputs": [
    {
     "data": {
      "text/plain": "array([[-2,  2, -2, -2],\n       [ 2,  2,  2, -2],\n       [-2, -2,  2,  2],\n       [ 2, -2, -2,  2]])"
     },
     "execution_count": 153,
     "metadata": {},
     "output_type": "execute_result"
    }
   ],
   "source": [
    "np.where(arr>0,2,-2)"
   ],
   "metadata": {
    "collapsed": false,
    "ExecuteTime": {
     "end_time": "2024-03-08T06:22:43.362536200Z",
     "start_time": "2024-03-08T06:22:40.360358Z"
    }
   },
   "id": "96c7870a269d3688"
  },
  {
   "cell_type": "code",
   "execution_count": 154,
   "outputs": [],
   "source": [
    "arr = np.random.randn(5, 4)"
   ],
   "metadata": {
    "collapsed": false,
    "ExecuteTime": {
     "end_time": "2024-03-08T06:22:43.362536200Z",
     "start_time": "2024-03-08T06:22:40.367683300Z"
    }
   },
   "id": "9a99b24d631458dd"
  },
  {
   "cell_type": "code",
   "execution_count": 155,
   "outputs": [
    {
     "data": {
      "text/plain": "array([[-0.84859059,  0.60140719, -0.37832597,  0.74703037],\n       [ 1.78359978,  1.3269192 ,  0.81340695,  0.81524522],\n       [-0.50518501, -0.95168525, -0.99402132, -0.37375534],\n       [ 0.16958261,  0.12139152, -0.86752459, -0.4857791 ],\n       [ 1.1619135 ,  2.1608185 , -1.30106552,  0.52836377]])"
     },
     "execution_count": 155,
     "metadata": {},
     "output_type": "execute_result"
    }
   ],
   "source": [
    "arr"
   ],
   "metadata": {
    "collapsed": false,
    "ExecuteTime": {
     "end_time": "2024-03-08T06:22:43.362536200Z",
     "start_time": "2024-03-08T06:22:40.373162900Z"
    }
   },
   "id": "db017bf25cb62f0d"
  },
  {
   "cell_type": "code",
   "execution_count": 156,
   "outputs": [
    {
     "data": {
      "text/plain": "0.17618729646981707"
     },
     "execution_count": 156,
     "metadata": {},
     "output_type": "execute_result"
    }
   ],
   "source": [
    "arr.mean()"
   ],
   "metadata": {
    "collapsed": false,
    "ExecuteTime": {
     "end_time": "2024-03-08T06:22:43.363532800Z",
     "start_time": "2024-03-08T06:22:40.381049500Z"
    }
   },
   "id": "d3f430e827751f61"
  },
  {
   "cell_type": "markdown",
   "source": [
    "求算数平均值"
   ],
   "metadata": {
    "collapsed": false
   },
   "id": "d8575aea499b79c9"
  },
  {
   "cell_type": "code",
   "execution_count": 157,
   "outputs": [
    {
     "data": {
      "text/plain": "0.17618729646981707"
     },
     "execution_count": 157,
     "metadata": {},
     "output_type": "execute_result"
    }
   ],
   "source": [
    "np.mean(arr)"
   ],
   "metadata": {
    "collapsed": false,
    "ExecuteTime": {
     "end_time": "2024-03-08T06:22:43.363532800Z",
     "start_time": "2024-03-08T06:22:40.388090800Z"
    }
   },
   "id": "7834e72314de32cc"
  },
  {
   "cell_type": "code",
   "execution_count": 158,
   "outputs": [
    {
     "data": {
      "text/plain": "3.5237459293963416"
     },
     "execution_count": 158,
     "metadata": {},
     "output_type": "execute_result"
    }
   ],
   "source": [
    "arr.sum()"
   ],
   "metadata": {
    "collapsed": false,
    "ExecuteTime": {
     "end_time": "2024-03-08T06:22:43.363532800Z",
     "start_time": "2024-03-08T06:22:40.394977200Z"
    }
   },
   "id": "b82fee856a3edaba"
  },
  {
   "cell_type": "markdown",
   "source": [
    "默认是取所有元素的和，加入axis=可以取对应维度的和，如axis=0,则取每一行的和"
   ],
   "metadata": {
    "collapsed": false
   },
   "id": "89b79b9a59e61065"
  },
  {
   "cell_type": "code",
   "execution_count": 159,
   "outputs": [
    {
     "data": {
      "text/plain": "array([ 0.03038025,  1.18479279, -0.70616173, -0.26558239,  0.63750756])"
     },
     "execution_count": 159,
     "metadata": {},
     "output_type": "execute_result"
    }
   ],
   "source": [
    "arr.mean(axis=1)"
   ],
   "metadata": {
    "collapsed": false,
    "ExecuteTime": {
     "end_time": "2024-03-08T06:22:43.363532800Z",
     "start_time": "2024-03-08T06:22:40.400956400Z"
    }
   },
   "id": "bec8cb3098a93286"
  },
  {
   "cell_type": "code",
   "execution_count": 160,
   "outputs": [
    {
     "data": {
      "text/plain": "array([ 1.76132029,  3.25885116, -2.72753045,  1.23110493])"
     },
     "execution_count": 160,
     "metadata": {},
     "output_type": "execute_result"
    }
   ],
   "source": [
    "arr.sum(axis=0)"
   ],
   "metadata": {
    "collapsed": false,
    "ExecuteTime": {
     "end_time": "2024-03-08T06:22:43.365141400Z",
     "start_time": "2024-03-08T06:22:40.409131900Z"
    }
   },
   "id": "ea1c8d0f1a3b2f9b"
  },
  {
   "cell_type": "markdown",
   "source": [
    "这里，arr.mean(1)是“计算行的平均值”，arr.sum(0)是“计算每列的和”。"
   ],
   "metadata": {
    "collapsed": false
   },
   "id": "e644b4f1bfb41476"
  },
  {
   "cell_type": "code",
   "execution_count": 161,
   "outputs": [],
   "source": [
    "arr = np.array([0, 1, 2, 3, 4, 5, 6, 7])"
   ],
   "metadata": {
    "collapsed": false,
    "ExecuteTime": {
     "end_time": "2024-03-08T06:22:43.366160400Z",
     "start_time": "2024-03-08T06:22:40.415953400Z"
    }
   },
   "id": "d40c3baf2dc9d33d"
  },
  {
   "cell_type": "code",
   "execution_count": 162,
   "outputs": [
    {
     "data": {
      "text/plain": "array([0, 1, 2, 3, 4, 5, 6, 7])"
     },
     "execution_count": 162,
     "metadata": {},
     "output_type": "execute_result"
    }
   ],
   "source": [
    "arr"
   ],
   "metadata": {
    "collapsed": false,
    "ExecuteTime": {
     "end_time": "2024-03-08T06:22:43.366160400Z",
     "start_time": "2024-03-08T06:22:40.421348400Z"
    }
   },
   "id": "d1634bf7c08a9028"
  },
  {
   "cell_type": "code",
   "execution_count": 163,
   "outputs": [
    {
     "data": {
      "text/plain": "array([ 0,  1,  3,  6, 10, 15, 21, 28])"
     },
     "execution_count": 163,
     "metadata": {},
     "output_type": "execute_result"
    }
   ],
   "source": [
    "arr.cumsum(axis=0)"
   ],
   "metadata": {
    "collapsed": false,
    "ExecuteTime": {
     "end_time": "2024-03-08T06:22:43.367161900Z",
     "start_time": "2024-03-08T06:22:40.429545400Z"
    }
   },
   "id": "8c9f440a2ca943d0"
  },
  {
   "cell_type": "markdown",
   "source": [
    "递增n"
   ],
   "metadata": {
    "collapsed": false
   },
   "id": "c6662a48329a0508"
  },
  {
   "cell_type": "code",
   "execution_count": 164,
   "outputs": [],
   "source": [
    "arr = np.array([[0, 1, 2], [3, 4, 5], [6, 7, 8]])"
   ],
   "metadata": {
    "collapsed": false,
    "ExecuteTime": {
     "end_time": "2024-03-08T06:22:43.367161900Z",
     "start_time": "2024-03-08T06:22:40.436463700Z"
    }
   },
   "id": "5a85e5cdee47e8e8"
  },
  {
   "cell_type": "code",
   "execution_count": 165,
   "outputs": [
    {
     "data": {
      "text/plain": "array([[0, 1, 2],\n       [3, 4, 5],\n       [6, 7, 8]])"
     },
     "execution_count": 165,
     "metadata": {},
     "output_type": "execute_result"
    }
   ],
   "source": [
    "arr"
   ],
   "metadata": {
    "collapsed": false,
    "ExecuteTime": {
     "end_time": "2024-03-08T06:22:43.367161900Z",
     "start_time": "2024-03-08T06:22:40.441970800Z"
    }
   },
   "id": "838f9a922f66b3a"
  },
  {
   "cell_type": "code",
   "execution_count": 166,
   "outputs": [
    {
     "data": {
      "text/plain": "array([[ 0,  1,  2],\n       [ 3,  5,  7],\n       [ 9, 12, 15]])"
     },
     "execution_count": 166,
     "metadata": {},
     "output_type": "execute_result"
    }
   ],
   "source": [
    "arr.cumsum(axis=0)"
   ],
   "metadata": {
    "collapsed": false,
    "ExecuteTime": {
     "end_time": "2024-03-08T06:22:43.367161900Z",
     "start_time": "2024-03-08T06:22:40.449607900Z"
    }
   },
   "id": "b46e21871eed740e"
  },
  {
   "cell_type": "code",
   "execution_count": 167,
   "outputs": [
    {
     "data": {
      "text/plain": "array([[  0,   0,   0],\n       [  3,  12,  60],\n       [  6,  42, 336]])"
     },
     "execution_count": 167,
     "metadata": {},
     "output_type": "execute_result"
    }
   ],
   "source": [
    "arr.cumprod(axis=1)"
   ],
   "metadata": {
    "collapsed": false,
    "ExecuteTime": {
     "end_time": "2024-03-08T06:22:43.368159Z",
     "start_time": "2024-03-08T06:22:40.457569100Z"
    }
   },
   "id": "f4a672bb822b69db"
  },
  {
   "cell_type": "markdown",
   "source": [
    "comsum()所有元素的累计和\n",
    "comprod()所有元素累计积"
   ],
   "metadata": {
    "collapsed": false
   },
   "id": "f2ea7803ddd9514a"
  },
  {
   "cell_type": "code",
   "execution_count": 172,
   "outputs": [],
   "source": [
    "arr = np.random.randn(100)"
   ],
   "metadata": {
    "collapsed": false,
    "ExecuteTime": {
     "end_time": "2024-03-08T06:26:37.683870100Z",
     "start_time": "2024-03-08T06:26:37.578663600Z"
    }
   },
   "id": "7fe55e518adcbdc3"
  },
  {
   "cell_type": "code",
   "execution_count": 173,
   "outputs": [
    {
     "data": {
      "text/plain": "56"
     },
     "execution_count": 173,
     "metadata": {},
     "output_type": "execute_result"
    }
   ],
   "source": [
    "(arr>0).sum()"
   ],
   "metadata": {
    "collapsed": false,
    "ExecuteTime": {
     "end_time": "2024-03-08T06:26:51.966867500Z",
     "start_time": "2024-03-08T06:26:51.900032400Z"
    }
   },
   "id": "be8779a647dc6b95"
  },
  {
   "cell_type": "markdown",
   "source": [
    "输出所有正值数量"
   ],
   "metadata": {
    "collapsed": false
   },
   "id": "3ee95411ac176c6e"
  },
  {
   "cell_type": "code",
   "execution_count": 174,
   "outputs": [],
   "source": [
    "bools  = np.array([False,True,True,False])"
   ],
   "metadata": {
    "collapsed": false,
    "ExecuteTime": {
     "end_time": "2024-03-08T06:28:09.493012700Z",
     "start_time": "2024-03-08T06:28:09.274265500Z"
    }
   },
   "id": "f0350ecab446e128"
  },
  {
   "cell_type": "code",
   "execution_count": 175,
   "outputs": [
    {
     "data": {
      "text/plain": "True"
     },
     "execution_count": 175,
     "metadata": {},
     "output_type": "execute_result"
    }
   ],
   "source": [
    "bools.any()"
   ],
   "metadata": {
    "collapsed": false,
    "ExecuteTime": {
     "end_time": "2024-03-08T06:28:17.498597200Z",
     "start_time": "2024-03-08T06:28:17.303654100Z"
    }
   },
   "id": "958497c8398ce715"
  },
  {
   "cell_type": "code",
   "execution_count": 176,
   "outputs": [
    {
     "data": {
      "text/plain": "False"
     },
     "execution_count": 176,
     "metadata": {},
     "output_type": "execute_result"
    }
   ],
   "source": [
    "bools.all()"
   ],
   "metadata": {
    "collapsed": false,
    "ExecuteTime": {
     "end_time": "2024-03-08T06:28:24.026382Z",
     "start_time": "2024-03-08T06:28:23.831099Z"
    }
   },
   "id": "c0c4ca62ea55b8a9"
  },
  {
   "cell_type": "code",
   "execution_count": 177,
   "outputs": [
    {
     "data": {
      "text/plain": "array([ 0.01739617,  0.17719772, -2.18119654,  0.33862564, -0.77924742,\n        2.23407967,  0.25998947, -0.19095462, -0.47075369,  2.2010548 ,\n       -0.65399737,  0.82760863,  1.71471286,  1.19174561, -0.53430962,\n        0.45088887, -1.16391574, -1.30270258,  0.39856313,  0.90448176,\n        0.69036425, -0.66578147, -0.77672673,  0.05598345,  0.88073   ,\n        0.5972317 , -0.20482652,  2.69254739,  0.73550058,  0.61395355,\n       -0.74385656,  0.91172662,  0.8538774 , -0.6646526 , -1.3322594 ,\n        0.31984564,  2.04711677, -1.09172653,  0.49854877,  1.09905102,\n       -1.24436797, -0.57062108, -0.55627161, -0.82080381,  1.38474735,\n       -0.16421651, -0.07028296,  0.1671589 ,  0.77981311, -0.72030894,\n        0.34242158, -0.22456396, -0.2960594 , -0.23810972,  1.60810554,\n        0.62158821, -1.80096909, -0.22809622, -0.33725747,  0.27720209,\n       -2.01901786, -0.3878166 ,  0.33094533,  1.37471209, -1.6784218 ,\n        0.54060731,  0.23316582,  0.48316789,  0.83093496,  1.07402265,\n       -0.35570159,  0.04484563,  0.4181028 , -1.00789194, -1.00648527,\n        1.16647158,  0.38126709, -0.27934394, -2.69891312, -0.42462859,\n        1.05246923,  1.00365674, -1.69776418,  1.12389897,  0.31610263,\n        0.77696614,  2.21437892,  0.46263353,  1.6549592 , -1.23631913,\n       -1.10435974,  0.06338971, -2.32776573, -0.06351747,  0.73820281,\n       -2.28635695, -0.95974693,  2.08108012,  0.16167782,  0.17010047])"
     },
     "execution_count": 177,
     "metadata": {},
     "output_type": "execute_result"
    }
   ],
   "source": [
    "arr"
   ],
   "metadata": {
    "collapsed": false,
    "ExecuteTime": {
     "end_time": "2024-03-08T06:28:40.264972700Z",
     "start_time": "2024-03-08T06:28:40.080759300Z"
    }
   },
   "id": "1fe5548878f2d098"
  },
  {
   "cell_type": "code",
   "execution_count": 183,
   "outputs": [
    {
     "ename": "AxisError",
     "evalue": "axis 1 is out of bounds for array of dimension 1",
     "output_type": "error",
     "traceback": [
      "\u001B[1;31m---------------------------------------------------------------------------\u001B[0m",
      "\u001B[1;31mAxisError\u001B[0m                                 Traceback (most recent call last)",
      "Cell \u001B[1;32mIn[183], line 1\u001B[0m\n\u001B[1;32m----> 1\u001B[0m arr\u001B[38;5;241m.\u001B[39msort(\u001B[38;5;241m1\u001B[39m)\n",
      "\u001B[1;31mAxisError\u001B[0m: axis 1 is out of bounds for array of dimension 1"
     ]
    }
   ],
   "source": [
    "arr.sort()"
   ],
   "metadata": {
    "collapsed": false,
    "ExecuteTime": {
     "end_time": "2024-03-08T06:30:47.938103900Z",
     "start_time": "2024-03-08T06:30:47.815933Z"
    }
   },
   "id": "1e3977175ab18dee"
  },
  {
   "cell_type": "code",
   "execution_count": 184,
   "outputs": [
    {
     "data": {
      "text/plain": "array([-2.69891312, -2.32776573, -2.28635695, -2.18119654, -2.01901786,\n       -1.80096909, -1.69776418, -1.6784218 , -1.3322594 , -1.30270258,\n       -1.24436797, -1.23631913, -1.16391574, -1.10435974, -1.09172653,\n       -1.00789194, -1.00648527, -0.95974693, -0.82080381, -0.77924742,\n       -0.77672673, -0.74385656, -0.72030894, -0.66578147, -0.6646526 ,\n       -0.65399737, -0.57062108, -0.55627161, -0.53430962, -0.47075369,\n       -0.42462859, -0.3878166 , -0.35570159, -0.33725747, -0.2960594 ,\n       -0.27934394, -0.23810972, -0.22809622, -0.22456396, -0.20482652,\n       -0.19095462, -0.16421651, -0.07028296, -0.06351747,  0.01739617,\n        0.04484563,  0.05598345,  0.06338971,  0.16167782,  0.1671589 ,\n        0.17010047,  0.17719772,  0.23316582,  0.25998947,  0.27720209,\n        0.31610263,  0.31984564,  0.33094533,  0.33862564,  0.34242158,\n        0.38126709,  0.39856313,  0.4181028 ,  0.45088887,  0.46263353,\n        0.48316789,  0.49854877,  0.54060731,  0.5972317 ,  0.61395355,\n        0.62158821,  0.69036425,  0.73550058,  0.73820281,  0.77696614,\n        0.77981311,  0.82760863,  0.83093496,  0.8538774 ,  0.88073   ,\n        0.90448176,  0.91172662,  1.00365674,  1.05246923,  1.07402265,\n        1.09905102,  1.12389897,  1.16647158,  1.19174561,  1.37471209,\n        1.38474735,  1.60810554,  1.6549592 ,  1.71471286,  2.04711677,\n        2.08108012,  2.2010548 ,  2.21437892,  2.23407967,  2.69254739])"
     },
     "execution_count": 184,
     "metadata": {},
     "output_type": "execute_result"
    }
   ],
   "source": [
    "arr"
   ],
   "metadata": {
    "collapsed": false,
    "ExecuteTime": {
     "end_time": "2024-03-08T06:30:51.942475700Z",
     "start_time": "2024-03-08T06:30:51.873236500Z"
    }
   },
   "id": "efc39ab09651323d"
  },
  {
   "cell_type": "code",
   "execution_count": 185,
   "outputs": [],
   "source": [
    "arr=np.arange(10)"
   ],
   "metadata": {
    "collapsed": false,
    "ExecuteTime": {
     "end_time": "2024-03-08T06:32:36.058563300Z",
     "start_time": "2024-03-08T06:32:35.871192300Z"
    }
   },
   "id": "7a62014f31dd7e9f"
  },
  {
   "cell_type": "code",
   "execution_count": 187,
   "outputs": [],
   "source": [
    "np.save('some_array', arr)"
   ],
   "metadata": {
    "collapsed": false,
    "ExecuteTime": {
     "end_time": "2024-03-08T06:35:05.331563900Z",
     "start_time": "2024-03-08T06:35:05.282299800Z"
    }
   },
   "id": "dc35c8d61764942"
  },
  {
   "cell_type": "code",
   "execution_count": 188,
   "outputs": [
    {
     "data": {
      "text/plain": "array([0, 1, 2, 3, 4, 5, 6, 7, 8, 9])"
     },
     "execution_count": 188,
     "metadata": {},
     "output_type": "execute_result"
    }
   ],
   "source": [
    "np.load('some_array.npy')"
   ],
   "metadata": {
    "collapsed": false,
    "ExecuteTime": {
     "end_time": "2024-03-08T06:36:07.919423100Z",
     "start_time": "2024-03-08T06:36:07.685997400Z"
    }
   },
   "id": "16365c9dd7c4998e"
  },
  {
   "cell_type": "code",
   "execution_count": 189,
   "outputs": [],
   "source": [
    "np.savez('array_archive.npz', a=arr, b=arr)"
   ],
   "metadata": {
    "collapsed": false,
    "ExecuteTime": {
     "end_time": "2024-03-08T06:36:55.120773Z",
     "start_time": "2024-03-08T06:36:54.920805500Z"
    }
   },
   "id": "7c114127ad21b7be"
  },
  {
   "cell_type": "markdown",
   "source": [
    "通过np.savez可以将多个数组保存到一个未压缩文件中，将数组以关键字参数的形式传入即可："
   ],
   "metadata": {
    "collapsed": false
   },
   "id": "dcfe42581142c379"
  },
  {
   "cell_type": "code",
   "execution_count": 191,
   "outputs": [
    {
     "data": {
      "text/plain": "array([0, 1, 2, 3, 4, 5, 6, 7, 8, 9])"
     },
     "execution_count": 191,
     "metadata": {},
     "output_type": "execute_result"
    }
   ],
   "source": [
    "arch = np.load('array_archive.npz')\n",
    "arch['b']"
   ],
   "metadata": {
    "collapsed": false,
    "ExecuteTime": {
     "end_time": "2024-03-08T06:38:13.823539100Z",
     "start_time": "2024-03-08T06:38:13.779483400Z"
    }
   },
   "id": "9b7f5ef1dd1e1666"
  },
  {
   "cell_type": "markdown",
   "source": [
    "如果要将数据压缩，可以使用numpy.savez_compressed："
   ],
   "metadata": {
    "collapsed": false
   },
   "id": "6b4696dd034b3e8f"
  },
  {
   "cell_type": "code",
   "execution_count": 192,
   "outputs": [],
   "source": [
    "np.savez_compressed('arrays_compressed.npz', a=arr, b=arr)"
   ],
   "metadata": {
    "collapsed": false,
    "ExecuteTime": {
     "end_time": "2024-03-08T06:39:05.550671100Z",
     "start_time": "2024-03-08T06:39:05.373603900Z"
    }
   },
   "id": "7e01ee89f5bdaf4c"
  },
  {
   "cell_type": "code",
   "execution_count": 193,
   "outputs": [],
   "source": [
    "from numpy.linalg import inv,qr"
   ],
   "metadata": {
    "collapsed": false,
    "ExecuteTime": {
     "end_time": "2024-03-08T06:41:33.705504200Z",
     "start_time": "2024-03-08T06:41:33.517725900Z"
    }
   },
   "id": "857b70b95122d820"
  },
  {
   "cell_type": "code",
   "execution_count": 194,
   "outputs": [],
   "source": [
    "X = np.random.randn(5,5)"
   ],
   "metadata": {
    "collapsed": false,
    "ExecuteTime": {
     "end_time": "2024-03-08T06:42:06.454559700Z",
     "start_time": "2024-03-08T06:42:06.302234500Z"
    }
   },
   "id": "2416ab6257171ab4"
  },
  {
   "cell_type": "code",
   "execution_count": 195,
   "outputs": [
    {
     "data": {
      "text/plain": "array([[ 0.44027037, -1.29396873,  1.19985867, -0.54555825, -0.77289779],\n       [ 0.36533987,  2.04217931,  1.48560543, -0.48145268,  1.29565456],\n       [ 1.06321577,  1.53842355, -1.34459761, -0.46823303,  0.93991401],\n       [ 0.71217152, -0.67559336, -0.68111464, -1.02089223, -0.27232041],\n       [ 0.51494999,  0.50671058, -0.89033367,  0.33406078,  0.55854466]])"
     },
     "execution_count": 195,
     "metadata": {},
     "output_type": "execute_result"
    }
   ],
   "source": [
    "X"
   ],
   "metadata": {
    "collapsed": false,
    "ExecuteTime": {
     "end_time": "2024-03-08T06:42:08.202983300Z",
     "start_time": "2024-03-08T06:42:08.001420700Z"
    }
   },
   "id": "ed6b20cd19df3c68"
  },
  {
   "cell_type": "code",
   "execution_count": 196,
   "outputs": [],
   "source": [
    "mat=X.T.dot(X)"
   ],
   "metadata": {
    "collapsed": false,
    "ExecuteTime": {
     "end_time": "2024-03-08T06:42:28.309435500Z",
     "start_time": "2024-03-08T06:42:26.878518700Z"
    }
   },
   "id": "9d1e8540e611656e"
  },
  {
   "cell_type": "code",
   "execution_count": 197,
   "outputs": [
    {
     "data": {
      "text/plain": "array([[ 2.23010075,  1.59186188, -1.30213204, -1.4689455 ,  1.2260854 ],\n       [ 1.59186188,  8.92478043, -0.57825253, -0.13863797,  5.55904871],\n       [-1.30213204, -0.57825253,  6.71123823, -0.34233741, -0.57815249],\n       [-1.4689455 , -0.13863797, -0.34233741,  1.90249021, -0.17763672],\n       [ 1.2260854 ,  5.55904871, -0.57815249, -0.17763672,  3.54566062]])"
     },
     "execution_count": 197,
     "metadata": {},
     "output_type": "execute_result"
    }
   ],
   "source": [
    "mat"
   ],
   "metadata": {
    "collapsed": false,
    "ExecuteTime": {
     "end_time": "2024-03-08T06:42:31.371061400Z",
     "start_time": "2024-03-08T06:42:31.171632700Z"
    }
   },
   "id": "bfcee748ebf5f8c5"
  },
  {
   "cell_type": "code",
   "execution_count": 198,
   "outputs": [
    {
     "data": {
      "text/plain": "array([[  2.9277581 ,   2.47400799,   0.48214134,   2.08802165,\n         -4.70805122],\n       [  2.47400799,   7.66494103,   0.10449215,   1.2932698 ,\n        -12.79112296],\n       [  0.48214134,   0.10449215,   0.24866858,   0.39942063,\n         -0.26999292],\n       [  2.08802165,   1.2932698 ,   0.39942063,   2.06293138,\n         -2.58120143],\n       [ -4.70805122, -12.79112296,  -0.26999292,  -2.58120143,\n         21.79123819]])"
     },
     "execution_count": 198,
     "metadata": {},
     "output_type": "execute_result"
    }
   ],
   "source": [
    "inv(mat)"
   ],
   "metadata": {
    "collapsed": false,
    "ExecuteTime": {
     "end_time": "2024-03-08T06:42:45.101923700Z",
     "start_time": "2024-03-08T06:42:44.911795300Z"
    }
   },
   "id": "99e169b2ab2d7f5b"
  },
  {
   "cell_type": "code",
   "execution_count": 199,
   "outputs": [
    {
     "data": {
      "text/plain": "array([[ 1.00000000e+00,  1.77635684e-15, -1.66533454e-16,\n         8.88178420e-16,  0.00000000e+00],\n       [-3.55271368e-15,  1.00000000e+00, -4.44089210e-16,\n         0.00000000e+00,  1.42108547e-14],\n       [ 0.00000000e+00,  0.00000000e+00,  1.00000000e+00,\n         2.22044605e-16,  1.77635684e-15],\n       [-5.55111512e-16, -1.33226763e-15,  9.71445147e-17,\n         1.00000000e+00,  4.44089210e-15],\n       [ 0.00000000e+00,  0.00000000e+00,  0.00000000e+00,\n         1.77635684e-15,  1.00000000e+00]])"
     },
     "execution_count": 199,
     "metadata": {},
     "output_type": "execute_result"
    }
   ],
   "source": [
    "mat.dot(inv(mat))"
   ],
   "metadata": {
    "collapsed": false,
    "ExecuteTime": {
     "end_time": "2024-03-08T06:43:29.878236Z",
     "start_time": "2024-03-08T06:43:29.480406900Z"
    }
   },
   "id": "db826f6e5473081a"
  },
  {
   "cell_type": "code",
   "execution_count": 200,
   "outputs": [],
   "source": [
    "q,r=qr(mat)"
   ],
   "metadata": {
    "collapsed": false,
    "ExecuteTime": {
     "end_time": "2024-03-08T06:44:17.773210200Z",
     "start_time": "2024-03-08T06:44:17.580079900Z"
    }
   },
   "id": "927bc503c99da349"
  },
  {
   "cell_type": "code",
   "execution_count": 201,
   "outputs": [
    {
     "data": {
      "text/plain": "array([[-0.62177941,  0.35767406, -0.24597843, -0.62589198, -0.18224564],\n       [-0.44383059, -0.72768739,  0.00243183,  0.16828472, -0.49513616],\n       [ 0.36305037, -0.25316988, -0.88311595, -0.15523025, -0.01045125],\n       [ 0.40956   , -0.35043694,  0.39919742, -0.73492356, -0.09991665],\n       [-0.34184763, -0.39451147, -0.01537312, -0.12542095,  0.84352484]])"
     },
     "execution_count": 201,
     "metadata": {},
     "output_type": "execute_result"
    }
   ],
   "source": [
    "q"
   ],
   "metadata": {
    "collapsed": false,
    "ExecuteTime": {
     "end_time": "2024-03-08T06:44:21.451063500Z",
     "start_time": "2024-03-08T06:44:21.270287200Z"
    }
   },
   "id": "ddab392e2c17690e"
  },
  {
   "cell_type": "code",
   "execution_count": 202,
   "outputs": [
    {
     "data": {
      "text/plain": "array([[-3.58664296, -7.11794052,  3.56023491,  1.69051471, -4.7243576 ],\n       [ 0.        , -7.92321094, -1.39597971, -0.93447219, -4.79689321],\n       [ 0.        ,  0.        , -5.73568354,  1.42551542,  0.09708376],\n       [ 0.        ,  0.        ,  0.        , -0.42669384, -0.05629803],\n       [ 0.        ,  0.        ,  0.        ,  0.        ,  0.03870936]])"
     },
     "execution_count": 202,
     "metadata": {},
     "output_type": "execute_result"
    }
   ],
   "source": [
    "r"
   ],
   "metadata": {
    "collapsed": false,
    "ExecuteTime": {
     "end_time": "2024-03-08T06:44:23.893199900Z",
     "start_time": "2024-03-08T06:44:23.696517700Z"
    }
   },
   "id": "18b478d4effb52fa"
  },
  {
   "cell_type": "markdown",
   "source": [
    "# 随机数生成"
   ],
   "metadata": {
    "collapsed": false
   },
   "id": "849ce55ab858033c"
  },
  {
   "cell_type": "code",
   "execution_count": 203,
   "outputs": [],
   "source": [
    "samples =np.random.normal(size=(4,4))"
   ],
   "metadata": {
    "collapsed": false,
    "ExecuteTime": {
     "end_time": "2024-03-08T06:46:00.659824700Z",
     "start_time": "2024-03-08T06:46:00.502436300Z"
    }
   },
   "id": "94372cea41cdbbc1"
  },
  {
   "cell_type": "code",
   "execution_count": 204,
   "outputs": [
    {
     "data": {
      "text/plain": "array([[ 0.74768775,  0.9338292 ,  1.03304833,  0.93330539],\n       [-0.13810478,  2.53309279, -0.87543558,  0.04758182],\n       [-0.41513925,  0.49107815, -1.46462446, -0.90720693],\n       [-0.50707057,  0.74308764, -1.12508264,  1.82882792]])"
     },
     "execution_count": 204,
     "metadata": {},
     "output_type": "execute_result"
    }
   ],
   "source": [
    "samples"
   ],
   "metadata": {
    "collapsed": false,
    "ExecuteTime": {
     "end_time": "2024-03-08T06:46:05.769215300Z",
     "start_time": "2024-03-08T06:46:05.562995400Z"
    }
   },
   "id": "5c212569fd238f95"
  },
  {
   "cell_type": "code",
   "execution_count": 205,
   "outputs": [],
   "source": [
    "from random import normalvariate"
   ],
   "metadata": {
    "collapsed": false,
    "ExecuteTime": {
     "end_time": "2024-03-08T06:46:47.489634600Z",
     "start_time": "2024-03-08T06:46:47.259913300Z"
    }
   },
   "id": "bffb0d065421deba"
  },
  {
   "cell_type": "code",
   "execution_count": 206,
   "outputs": [],
   "source": [
    "N = 1000000"
   ],
   "metadata": {
    "collapsed": false,
    "ExecuteTime": {
     "end_time": "2024-03-08T06:46:58.050625600Z",
     "start_time": "2024-03-08T06:46:57.812823300Z"
    }
   },
   "id": "e0e097fdb4825fe0"
  },
  {
   "cell_type": "code",
   "execution_count": 208,
   "outputs": [
    {
     "name": "stdout",
     "output_type": "stream",
     "text": [
      "938 ms ± 138 ms per loop (mean ± std. dev. of 7 runs, 1 loop each)\n"
     ]
    }
   ],
   "source": [
    "%timeit samples = [normalvariate(0, 1) for _ in range(N)]"
   ],
   "metadata": {
    "collapsed": false,
    "ExecuteTime": {
     "end_time": "2024-03-08T06:49:16.108321200Z",
     "start_time": "2024-03-08T06:49:07.937601200Z"
    }
   },
   "id": "cbe7847faa091272"
  },
  {
   "cell_type": "code",
   "execution_count": 209,
   "outputs": [
    {
     "name": "stdout",
     "output_type": "stream",
     "text": [
      "38.2 ms ± 10.2 ms per loop (mean ± std. dev. of 7 runs, 10 loops each)\n"
     ]
    }
   ],
   "source": [
    "%timeit np.random.normal(size=N)"
   ],
   "metadata": {
    "collapsed": false,
    "ExecuteTime": {
     "end_time": "2024-03-08T06:49:38.150785300Z",
     "start_time": "2024-03-08T06:49:35.105415800Z"
    }
   },
   "id": "96d613661d7b6b53"
  },
  {
   "cell_type": "code",
   "execution_count": 210,
   "outputs": [],
   "source": [
    "import random\n",
    "position = 0\n",
    "walk = [position]\n",
    "steps = 1000\n",
    "for i in range(steps):\n",
    "    step = 1 if random.randint(0, 1) else -1\n",
    "    position += step\n",
    "    walk.append(position)"
   ],
   "metadata": {
    "collapsed": false,
    "ExecuteTime": {
     "end_time": "2024-03-08T06:51:47.784274700Z",
     "start_time": "2024-03-08T06:51:47.596330400Z"
    }
   },
   "id": "3534b7670b8ac667"
  },
  {
   "cell_type": "code",
   "execution_count": 211,
   "outputs": [
    {
     "data": {
      "text/plain": "[<matplotlib.lines.Line2D at 0x289489a7290>]"
     },
     "execution_count": 211,
     "metadata": {},
     "output_type": "execute_result"
    },
    {
     "data": {
      "text/plain": "<Figure size 640x480 with 1 Axes>",
      "image/png": "[encoded data removed]"
     },
     "metadata": {},
     "output_type": "display_data"
    }
   ],
   "source": [
    "plt.plot(walk[:100])"
   ],
   "metadata": {
    "collapsed": false,
    "ExecuteTime": {
     "end_time": "2024-03-08T06:52:07.156063Z",
     "start_time": "2024-03-08T06:52:06.759494800Z"
    }
   },
   "id": "1d7c3ca5cea536dd"
  },
  {
   "cell_type": "code",
   "execution_count": 212,
   "outputs": [],
   "source": [
    "nsteps = 1000"
   ],
   "metadata": {
    "collapsed": false,
    "ExecuteTime": {
     "end_time": "2024-03-08T06:53:36.698932100Z",
     "start_time": "2024-03-08T06:53:36.490117600Z"
    }
   },
   "id": "a77a2ac3983a8810"
  },
  {
   "cell_type": "code",
   "execution_count": 216,
   "outputs": [
    {
     "data": {
      "text/plain": "array([0, 0, 1, 0, 1, 1, 1, 1, 1, 0, 0, 0, 0, 0, 1, 1, 0, 1, 1, 0, 0, 1,\n       0, 0, 1, 1, 1, 0, 1, 0, 0, 1, 1, 1, 1, 1, 1, 0, 1, 0, 1, 0, 0, 1,\n       0, 1, 1, 1, 0, 0, 0, 1, 0, 1, 0, 1, 1, 1, 0, 1, 0, 0, 1, 0, 0, 0,\n       1, 0, 1, 0, 1, 0, 1, 1, 1, 0, 0, 0, 0, 0, 0, 0, 1, 0, 1, 1, 0, 0,\n       1, 0, 0, 0, 1, 0, 1, 1, 1, 1, 1, 0, 1, 1, 1, 0, 0, 1, 0, 0, 1, 1,\n       0, 1, 1, 1, 0, 1, 1, 0, 1, 1, 0, 1, 1, 0, 1, 1, 1, 1, 1, 0, 1, 0,\n       1, 1, 0, 0, 0, 0, 1, 0, 0, 0, 1, 0, 1, 0, 0, 1, 0, 0, 0, 0, 1, 0,\n       0, 0, 0, 1, 0, 0, 0, 0, 0, 0, 1, 0, 1, 1, 1, 1, 1, 0, 1, 1, 0, 0,\n       1, 0, 1, 1, 1, 0, 1, 1, 1, 1, 0, 1, 0, 1, 1, 0, 1, 1, 0, 1, 1, 1,\n       0, 0, 0, 1, 0, 0, 1, 1, 0, 1, 1, 1, 1, 1, 0, 1, 0, 0, 0, 0, 0, 1,\n       0, 0, 1, 1, 0, 1, 1, 0, 1, 0, 0, 1, 1, 1, 0, 0, 1, 1, 0, 0, 0, 0,\n       0, 1, 1, 0, 1, 0, 1, 1, 1, 0, 0, 0, 1, 1, 0, 1, 1, 0, 1, 0, 1, 1,\n       1, 1, 1, 0, 0, 1, 1, 0, 0, 0, 1, 0, 0, 0, 1, 1, 1, 1, 0, 0, 1, 0,\n       1, 1, 1, 0, 0, 0, 0, 1, 1, 1, 1, 0, 0, 1, 0, 0, 1, 0, 0, 1, 1, 0,\n       1, 0, 0, 0, 0, 1, 1, 1, 1, 0, 0, 1, 1, 1, 0, 1, 1, 0, 0, 0, 1, 1,\n       1, 1, 0, 1, 1, 0, 0, 1, 0, 1, 0, 0, 0, 1, 0, 1, 1, 0, 0, 1, 1, 0,\n       0, 1, 0, 1, 0, 0, 1, 1, 0, 0, 1, 1, 0, 0, 1, 0, 0, 1, 1, 0, 0, 0,\n       0, 0, 0, 1, 1, 1, 0, 1, 0, 0, 1, 1, 0, 1, 0, 0, 0, 0, 0, 0, 1, 0,\n       1, 1, 1, 0, 0, 0, 0, 1, 1, 0, 0, 0, 1, 0, 0, 0, 0, 0, 1, 1, 1, 1,\n       1, 0, 1, 1, 1, 0, 0, 0, 0, 0, 1, 1, 1, 1, 1, 1, 1, 0, 0, 0, 1, 1,\n       1, 0, 0, 1, 1, 0, 0, 0, 1, 0, 0, 1, 1, 1, 1, 1, 1, 1, 0, 0, 0, 0,\n       1, 1, 0, 0, 0, 0, 0, 0, 0, 0, 0, 1, 1, 0, 0, 0, 0, 0, 0, 1, 1, 1,\n       0, 1, 1, 0, 0, 1, 1, 0, 1, 1, 0, 0, 0, 0, 0, 0, 1, 1, 1, 0, 1, 0,\n       1, 1, 1, 1, 1, 1, 0, 0, 0, 1, 1, 1, 1, 1, 1, 1, 0, 1, 1, 0, 1, 1,\n       0, 1, 1, 1, 0, 0, 1, 1, 0, 1, 0, 0, 0, 0, 0, 1, 1, 1, 1, 1, 0, 0,\n       1, 0, 1, 0, 0, 1, 0, 0, 0, 1, 1, 0, 1, 1, 1, 0, 0, 0, 0, 0, 0, 1,\n       1, 0, 1, 0, 0, 1, 0, 1, 0, 0, 0, 1, 1, 1, 0, 1, 0, 1, 1, 1, 1, 0,\n       1, 1, 0, 1, 0, 1, 0, 1, 0, 0, 0, 1, 0, 1, 0, 1, 0, 0, 1, 0, 0, 0,\n       0, 1, 0, 0, 0, 0, 1, 0, 0, 0, 1, 1, 0, 1, 0, 1, 1, 1, 1, 1, 1, 1,\n       0, 0, 1, 0, 0, 1, 0, 1, 0, 1, 0, 1, 0, 1, 1, 1, 1, 0, 0, 0, 1, 1,\n       0, 1, 1, 0, 0, 1, 1, 1, 0, 0, 0, 0, 1, 0, 1, 1, 0, 0, 1, 0, 1, 1,\n       1, 0, 1, 1, 1, 1, 0, 0, 0, 1, 1, 1, 1, 1, 1, 0, 0, 0, 0, 1, 1, 0,\n       1, 1, 1, 1, 1, 1, 0, 1, 1, 0, 0, 0, 1, 0, 0, 0, 1, 1, 0, 0, 1, 1,\n       0, 1, 1, 1, 0, 1, 1, 1, 1, 0, 1, 1, 0, 0, 1, 1, 1, 1, 0, 1, 1, 0,\n       1, 1, 1, 0, 1, 0, 1, 1, 1, 1, 0, 0, 0, 0, 1, 0, 0, 0, 0, 1, 1, 1,\n       1, 0, 0, 1, 1, 0, 0, 1, 0, 1, 0, 0, 1, 0, 0, 1, 0, 0, 1, 0, 0, 0,\n       1, 1, 1, 1, 1, 0, 0, 1, 1, 0, 0, 1, 0, 0, 0, 0, 0, 1, 1, 0, 0, 0,\n       1, 0, 0, 1, 0, 0, 1, 0, 1, 1, 1, 1, 0, 1, 1, 1, 0, 0, 0, 1, 0, 0,\n       1, 1, 0, 0, 1, 0, 1, 0, 1, 1, 0, 0, 0, 1, 0, 1, 1, 1, 0, 0, 1, 1,\n       0, 0, 1, 1, 0, 1, 1, 0, 1, 1, 0, 1, 0, 0, 1, 1, 1, 0, 1, 0, 1, 1,\n       0, 0, 0, 0, 1, 1, 0, 1, 0, 0, 0, 1, 1, 1, 1, 1, 1, 1, 0, 0, 1, 0,\n       0, 1, 0, 0, 1, 0, 1, 1, 0, 1, 0, 1, 0, 0, 1, 1, 1, 0, 1, 0, 1, 1,\n       0, 1, 0, 1, 1, 1, 0, 1, 0, 0, 1, 1, 1, 0, 0, 1, 1, 0, 1, 0, 1, 0,\n       0, 0, 1, 1, 1, 1, 0, 0, 1, 1, 1, 0, 0, 1, 0, 1, 1, 1, 0, 0, 0, 0,\n       0, 0, 1, 0, 0, 0, 0, 0, 0, 1, 1, 1, 1, 1, 0, 1, 1, 0, 0, 1, 1, 1,\n       0, 0, 0, 0, 0, 0, 0, 1, 0, 1])"
     },
     "execution_count": 216,
     "metadata": {},
     "output_type": "execute_result"
    }
   ],
   "source": [
    "draws = np.random.randint(0,2,size=nsteps)\n",
    "draws"
   ],
   "metadata": {
    "collapsed": false,
    "ExecuteTime": {
     "end_time": "2024-03-08T06:55:20.418423300Z",
     "start_time": "2024-03-08T06:55:20.335606800Z"
    }
   },
   "id": "d3834d67ea5ffeff"
  },
  {
   "cell_type": "code",
   "execution_count": 220,
   "outputs": [
    {
     "data": {
      "text/plain": "array([-1, -1,  1, -1,  1,  1,  1,  1,  1, -1, -1, -1, -1, -1,  1,  1, -1,\n        1,  1, -1, -1,  1, -1, -1,  1,  1,  1, -1,  1, -1, -1,  1,  1,  1,\n        1,  1,  1, -1,  1, -1,  1, -1, -1,  1, -1,  1,  1,  1, -1, -1, -1,\n        1, -1,  1, -1,  1,  1,  1, -1,  1, -1, -1,  1, -1, -1, -1,  1, -1,\n        1, -1,  1, -1,  1,  1,  1, -1, -1, -1, -1, -1, -1, -1,  1, -1,  1,\n        1, -1, -1,  1, -1, -1, -1,  1, -1,  1,  1,  1,  1,  1, -1,  1,  1,\n        1, -1, -1,  1, -1, -1,  1,  1, -1,  1,  1,  1, -1,  1,  1, -1,  1,\n        1, -1,  1,  1, -1,  1,  1,  1,  1,  1, -1,  1, -1,  1,  1, -1, -1,\n       -1, -1,  1, -1, -1, -1,  1, -1,  1, -1, -1,  1, -1, -1, -1, -1,  1,\n       -1, -1, -1, -1,  1, -1, -1, -1, -1, -1, -1,  1, -1,  1,  1,  1,  1,\n        1, -1,  1,  1, -1, -1,  1, -1,  1,  1,  1, -1,  1,  1,  1,  1, -1,\n        1, -1,  1,  1, -1,  1,  1, -1,  1,  1,  1, -1, -1, -1,  1, -1, -1,\n        1,  1, -1,  1,  1,  1,  1,  1, -1,  1, -1, -1, -1, -1, -1,  1, -1,\n       -1,  1,  1, -1,  1,  1, -1,  1, -1, -1,  1,  1,  1, -1, -1,  1,  1,\n       -1, -1, -1, -1, -1,  1,  1, -1,  1, -1,  1,  1,  1, -1, -1, -1,  1,\n        1, -1,  1,  1, -1,  1, -1,  1,  1,  1,  1,  1, -1, -1,  1,  1, -1,\n       -1, -1,  1, -1, -1, -1,  1,  1,  1,  1, -1, -1,  1, -1,  1,  1,  1,\n       -1, -1, -1, -1,  1,  1,  1,  1, -1, -1,  1, -1, -1,  1, -1, -1,  1,\n        1, -1,  1, -1, -1, -1, -1,  1,  1,  1,  1, -1, -1,  1,  1,  1, -1,\n        1,  1, -1, -1, -1,  1,  1,  1,  1, -1,  1,  1, -1, -1,  1, -1,  1,\n       -1, -1, -1,  1, -1,  1,  1, -1, -1,  1,  1, -1, -1,  1, -1,  1, -1,\n       -1,  1,  1, -1, -1,  1,  1, -1, -1,  1, -1, -1,  1,  1, -1, -1, -1,\n       -1, -1, -1,  1,  1,  1, -1,  1, -1, -1,  1,  1, -1,  1, -1, -1, -1,\n       -1, -1, -1,  1, -1,  1,  1,  1, -1, -1, -1, -1,  1,  1, -1, -1, -1,\n        1, -1, -1, -1, -1, -1,  1,  1,  1,  1,  1, -1,  1,  1,  1, -1, -1,\n       -1, -1, -1,  1,  1,  1,  1,  1,  1,  1, -1, -1, -1,  1,  1,  1, -1,\n       -1,  1,  1, -1, -1, -1,  1, -1, -1,  1,  1,  1,  1,  1,  1,  1, -1,\n       -1, -1, -1,  1,  1, -1, -1, -1, -1, -1, -1, -1, -1, -1,  1,  1, -1,\n       -1, -1, -1, -1, -1,  1,  1,  1, -1,  1,  1, -1, -1,  1,  1, -1,  1,\n        1, -1, -1, -1, -1, -1, -1,  1,  1,  1, -1,  1, -1,  1,  1,  1,  1,\n        1,  1, -1, -1, -1,  1,  1,  1,  1,  1,  1,  1, -1,  1,  1, -1,  1,\n        1, -1,  1,  1,  1, -1, -1,  1,  1, -1,  1, -1, -1, -1, -1, -1,  1,\n        1,  1,  1,  1, -1, -1,  1, -1,  1, -1, -1,  1, -1, -1, -1,  1,  1,\n       -1,  1,  1,  1, -1, -1, -1, -1, -1, -1,  1,  1, -1,  1, -1, -1,  1,\n       -1,  1, -1, -1, -1,  1,  1,  1, -1,  1, -1,  1,  1,  1,  1, -1,  1,\n        1, -1,  1, -1,  1, -1,  1, -1, -1, -1,  1, -1,  1, -1,  1, -1, -1,\n        1, -1, -1, -1, -1,  1, -1, -1, -1, -1,  1, -1, -1, -1,  1,  1, -1,\n        1, -1,  1,  1,  1,  1,  1,  1,  1, -1, -1,  1, -1, -1,  1, -1,  1,\n       -1,  1, -1,  1, -1,  1,  1,  1,  1, -1, -1, -1,  1,  1, -1,  1,  1,\n       -1, -1,  1,  1,  1, -1, -1, -1, -1,  1, -1,  1,  1, -1, -1,  1, -1,\n        1,  1,  1, -1,  1,  1,  1,  1, -1, -1, -1,  1,  1,  1,  1,  1,  1,\n       -1, -1, -1, -1,  1,  1, -1,  1,  1,  1,  1,  1,  1, -1,  1,  1, -1,\n       -1, -1,  1, -1, -1, -1,  1,  1, -1, -1,  1,  1, -1,  1,  1,  1, -1,\n        1,  1,  1,  1, -1,  1,  1, -1, -1,  1,  1,  1,  1, -1,  1,  1, -1,\n        1,  1,  1, -1,  1, -1,  1,  1,  1,  1, -1, -1, -1, -1,  1, -1, -1,\n       -1, -1,  1,  1,  1,  1, -1, -1,  1,  1, -1, -1,  1, -1,  1, -1, -1,\n        1, -1, -1,  1, -1, -1,  1, -1, -1, -1,  1,  1,  1,  1,  1, -1, -1,\n        1,  1, -1, -1,  1, -1, -1, -1, -1, -1,  1,  1, -1, -1, -1,  1, -1,\n       -1,  1, -1, -1,  1, -1,  1,  1,  1,  1, -1,  1,  1,  1, -1, -1, -1,\n        1, -1, -1,  1,  1, -1, -1,  1, -1,  1, -1,  1,  1, -1, -1, -1,  1,\n       -1,  1,  1,  1, -1, -1,  1,  1, -1, -1,  1,  1, -1,  1,  1, -1,  1,\n        1, -1,  1, -1, -1,  1,  1,  1, -1,  1, -1,  1,  1, -1, -1, -1, -1,\n        1,  1, -1,  1, -1, -1, -1,  1,  1,  1,  1,  1,  1,  1, -1, -1,  1,\n       -1, -1,  1, -1, -1,  1, -1,  1,  1, -1,  1, -1,  1, -1, -1,  1,  1,\n        1, -1,  1, -1,  1,  1, -1,  1, -1,  1,  1,  1, -1,  1, -1, -1,  1,\n        1,  1, -1, -1,  1,  1, -1,  1, -1,  1, -1, -1, -1,  1,  1,  1,  1,\n       -1, -1,  1,  1,  1, -1, -1,  1, -1,  1,  1,  1, -1, -1, -1, -1, -1,\n       -1,  1, -1, -1, -1, -1, -1, -1,  1,  1,  1,  1,  1, -1,  1,  1, -1,\n       -1,  1,  1,  1, -1, -1, -1, -1, -1, -1, -1,  1, -1,  1])"
     },
     "execution_count": 220,
     "metadata": {},
     "output_type": "execute_result"
    }
   ],
   "source": [
    "steps = np.where(draws>0,1,-1)\n",
    "steps"
   ],
   "metadata": {
    "collapsed": false,
    "ExecuteTime": {
     "end_time": "2024-03-08T06:56:22.739917600Z",
     "start_time": "2024-03-08T06:56:22.621749300Z"
    }
   },
   "id": "8dee11375040b70f"
  },
  {
   "cell_type": "code",
   "execution_count": 221,
   "outputs": [
    {
     "data": {
      "text/plain": "array([ -1,  -2,  -1,  -2,  -1,   0,   1,   2,   3,   2,   1,   0,  -1,\n        -2,  -1,   0,  -1,   0,   1,   0,  -1,   0,  -1,  -2,  -1,   0,\n         1,   0,   1,   0,  -1,   0,   1,   2,   3,   4,   5,   4,   5,\n         4,   5,   4,   3,   4,   3,   4,   5,   6,   5,   4,   3,   4,\n         3,   4,   3,   4,   5,   6,   5,   6,   5,   4,   5,   4,   3,\n         2,   3,   2,   3,   2,   3,   2,   3,   4,   5,   4,   3,   2,\n         1,   0,  -1,  -2,  -1,  -2,  -1,   0,  -1,  -2,  -1,  -2,  -3,\n        -4,  -3,  -4,  -3,  -2,  -1,   0,   1,   0,   1,   2,   3,   2,\n         1,   2,   1,   0,   1,   2,   1,   2,   3,   4,   3,   4,   5,\n         4,   5,   6,   5,   6,   7,   6,   7,   8,   9,  10,  11,  10,\n        11,  10,  11,  12,  11,  10,   9,   8,   9,   8,   7,   6,   7,\n         6,   7,   6,   5,   6,   5,   4,   3,   2,   3,   2,   1,   0,\n        -1,   0,  -1,  -2,  -3,  -4,  -5,  -6,  -5,  -6,  -5,  -4,  -3,\n        -2,  -1,  -2,  -1,   0,  -1,  -2,  -1,  -2,  -1,   0,   1,   0,\n         1,   2,   3,   4,   3,   4,   3,   4,   5,   4,   5,   6,   5,\n         6,   7,   8,   7,   6,   5,   6,   5,   4,   5,   6,   5,   6,\n         7,   8,   9,  10,   9,  10,   9,   8,   7,   6,   5,   6,   5,\n         4,   5,   6,   5,   6,   7,   6,   7,   6,   5,   6,   7,   8,\n         7,   6,   7,   8,   7,   6,   5,   4,   3,   4,   5,   4,   5,\n         4,   5,   6,   7,   6,   5,   4,   5,   6,   5,   6,   7,   6,\n         7,   6,   7,   8,   9,  10,  11,  10,   9,  10,  11,  10,   9,\n         8,   9,   8,   7,   6,   7,   8,   9,  10,   9,   8,   9,   8,\n         9,  10,  11,  10,   9,   8,   7,   8,   9,  10,  11,  10,   9,\n        10,   9,   8,   9,   8,   7,   8,   9,   8,   9,   8,   7,   6,\n         5,   6,   7,   8,   9,   8,   7,   8,   9,  10,   9,  10,  11,\n        10,   9,   8,   9,  10,  11,  12,  11,  12,  13,  12,  11,  12,\n        11,  12,  11,  10,   9,  10,   9,  10,  11,  10,   9,  10,  11,\n        10,   9,  10,   9,  10,   9,   8,   9,  10,   9,   8,   9,  10,\n         9,   8,   9,   8,   7,   8,   9,   8,   7,   6,   5,   4,   3,\n         4,   5,   6,   5,   6,   5,   4,   5,   6,   5,   6,   5,   4,\n         3,   2,   1,   0,   1,   0,   1,   2,   3,   2,   1,   0,  -1,\n         0,   1,   0,  -1,  -2,  -1,  -2,  -3,  -4,  -5,  -6,  -5,  -4,\n        -3,  -2,  -1,  -2,  -1,   0,   1,   0,  -1,  -2,  -3,  -4,  -3,\n        -2,  -1,   0,   1,   2,   3,   2,   1,   0,   1,   2,   3,   2,\n         1,   2,   3,   2,   1,   0,   1,   0,  -1,   0,   1,   2,   3,\n         4,   5,   6,   5,   4,   3,   2,   3,   4,   3,   2,   1,   0,\n        -1,  -2,  -3,  -4,  -5,  -4,  -3,  -4,  -5,  -6,  -7,  -8,  -9,\n        -8,  -7,  -6,  -7,  -6,  -5,  -6,  -7,  -6,  -5,  -6,  -5,  -4,\n        -5,  -6,  -7,  -8,  -9, -10,  -9,  -8,  -7,  -8,  -7,  -8,  -7,\n        -6,  -5,  -4,  -3,  -2,  -3,  -4,  -5,  -4,  -3,  -2,  -1,   0,\n         1,   2,   1,   2,   3,   2,   3,   4,   3,   4,   5,   6,   5,\n         4,   5,   6,   5,   6,   5,   4,   3,   2,   1,   2,   3,   4,\n         5,   6,   5,   4,   5,   4,   5,   4,   3,   4,   3,   2,   1,\n         2,   3,   2,   3,   4,   5,   4,   3,   2,   1,   0,  -1,   0,\n         1,   0,   1,   0,  -1,   0,  -1,   0,  -1,  -2,  -3,  -2,  -1,\n         0,  -1,   0,  -1,   0,   1,   2,   3,   2,   3,   4,   3,   4,\n         3,   4,   3,   4,   3,   2,   1,   2,   1,   2,   1,   2,   1,\n         0,   1,   0,  -1,  -2,  -3,  -2,  -3,  -4,  -5,  -6,  -5,  -6,\n        -7,  -8,  -7,  -6,  -7,  -6,  -7,  -6,  -5,  -4,  -3,  -2,  -1,\n         0,  -1,  -2,  -1,  -2,  -3,  -2,  -3,  -2,  -3,  -2,  -3,  -2,\n        -3,  -2,  -1,   0,   1,   0,  -1,  -2,  -1,   0,  -1,   0,   1,\n         0,  -1,   0,   1,   2,   1,   0,  -1,  -2,  -1,  -2,  -1,   0,\n        -1,  -2,  -1,  -2,  -1,   0,   1,   0,   1,   2,   3,   4,   3,\n         2,   1,   2,   3,   4,   5,   6,   7,   6,   5,   4,   3,   4,\n         5,   4,   5,   6,   7,   8,   9,  10,   9,  10,  11,  10,   9,\n         8,   9,   8,   7,   6,   7,   8,   7,   6,   7,   8,   7,   8,\n         9,  10,   9,  10,  11,  12,  13,  12,  13,  14,  13,  12,  13,\n        14,  15,  16,  15,  16,  17,  16,  17,  18,  19,  18,  19,  18,\n        19,  20,  21,  22,  21,  20,  19,  18,  19,  18,  17,  16,  15,\n        16,  17,  18,  19,  18,  17,  18,  19,  18,  17,  18,  17,  18,\n        17,  16,  17,  16,  15,  16,  15,  14,  15,  14,  13,  12,  13,\n        14,  15,  16,  17,  16,  15,  16,  17,  16,  15,  16,  15,  14,\n        13,  12,  11,  12,  13,  12,  11,  10,  11,  10,   9,  10,   9,\n         8,   9,   8,   9,  10,  11,  12,  11,  12,  13,  14,  13,  12,\n        11,  12,  11,  10,  11,  12,  11,  10,  11,  10,  11,  10,  11,\n        12,  11,  10,   9,  10,   9,  10,  11,  12,  11,  10,  11,  12,\n        11,  10,  11,  12,  11,  12,  13,  12,  13,  14,  13,  14,  13,\n        12,  13,  14,  15,  14,  15,  14,  15,  16,  15,  14,  13,  12,\n        13,  14,  13,  14,  13,  12,  11,  12,  13,  14,  15,  16,  17,\n        18,  17,  16,  17,  16,  15,  16,  15,  14,  15,  14,  15,  16,\n        15,  16,  15,  16,  15,  14,  15,  16,  17,  16,  17,  16,  17,\n        18,  17,  18,  17,  18,  19,  20,  19,  20,  19,  18,  19,  20,\n        21,  20,  19,  20,  21,  20,  21,  20,  21,  20,  19,  18,  19,\n        20,  21,  22,  21,  20,  21,  22,  23,  22,  21,  22,  21,  22,\n        23,  24,  23,  22,  21,  20,  19,  18,  19,  18,  17,  16,  15,\n        14,  13,  14,  15,  16,  17,  18,  17,  18,  19,  18,  17,  18,\n        19,  20,  19,  18,  17,  16,  15,  14,  13,  14,  13,  14])"
     },
     "execution_count": 221,
     "metadata": {},
     "output_type": "execute_result"
    }
   ],
   "source": [
    "walk = steps.cumsum()\n",
    "walk"
   ],
   "metadata": {
    "collapsed": false,
    "ExecuteTime": {
     "end_time": "2024-03-08T07:08:39.867273800Z",
     "start_time": "2024-03-08T07:08:39.773169400Z"
    }
   },
   "id": "5fd63a839326fcaf"
  },
  {
   "cell_type": "code",
   "execution_count": 218,
   "outputs": [
    {
     "data": {
      "text/plain": "-7"
     },
     "execution_count": 218,
     "metadata": {},
     "output_type": "execute_result"
    }
   ],
   "source": [
    "walk.min()"
   ],
   "metadata": {
    "collapsed": false,
    "ExecuteTime": {
     "end_time": "2024-03-08T06:56:02.554528200Z",
     "start_time": "2024-03-08T06:56:02.368614Z"
    }
   },
   "id": "aa294cff42c5dc62"
  },
  {
   "cell_type": "code",
   "execution_count": 219,
   "outputs": [
    {
     "data": {
      "text/plain": "17"
     },
     "execution_count": 219,
     "metadata": {},
     "output_type": "execute_result"
    }
   ],
   "source": [
    "walk.max()"
   ],
   "metadata": {
    "collapsed": false,
    "ExecuteTime": {
     "end_time": "2024-03-08T06:56:10.543552400Z",
     "start_time": "2024-03-08T06:56:10.324298800Z"
    }
   },
   "id": "7920462a4f71ac4f"
  },
  {
   "cell_type": "code",
   "execution_count": null,
   "outputs": [],
   "source": [],
   "metadata": {
    "collapsed": false
   },
   "id": "de075e26ac0683d8"
  }
 ],
 "metadata": {
  "kernelspec": {
   "display_name": "Python 3",
   "language": "python",
   "name": "python3"
  },
  "language_info": {
   "codemirror_mode": {
    "name": "ipython",
    "version": 2
   },
   "file_extension": ".py",
   "mimetype": "text/x-python",
   "name": "python",
   "nbconvert_exporter": "python",
   "pygments_lexer": "ipython2",
   "version": "2.7.6"
  }
 },
 "nbformat": 4,
 "nbformat_minor": 5
}
