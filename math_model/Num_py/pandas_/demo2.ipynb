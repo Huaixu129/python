{
 "cells": [
  {
   "cell_type": "code",
   "execution_count": 1,
   "outputs": [],
   "source": [
    "import numpy as np\n",
    "\n",
    "import pandas as pd"
   ],
   "metadata": {
    "collapsed": false,
    "ExecuteTime": {
     "end_time": "2024-03-12T03:13:40.911535800Z",
     "start_time": "2024-03-12T03:13:39.989474200Z"
    }
   },
   "id": "d1593262ab1d721d"
  },
  {
   "cell_type": "code",
   "execution_count": 2,
   "outputs": [
    {
     "data": {
      "text/plain": "0    1.0\n1    3.0\n2    5.0\n3    NaN\n4    6.0\n5    8.0\ndtype: float64"
     },
     "execution_count": 2,
     "metadata": {},
     "output_type": "execute_result"
    }
   ],
   "source": [
    "s = pd.Series([1, 3, 5, np.nan, 6, 8])\n",
    "s"
   ],
   "metadata": {
    "collapsed": false,
    "ExecuteTime": {
     "end_time": "2024-03-12T03:15:04.739189200Z",
     "start_time": "2024-03-12T03:15:04.718497900Z"
    }
   },
   "id": "9ad8ca92a978077c"
  },
  {
   "cell_type": "code",
   "execution_count": 13,
   "outputs": [
    {
     "data": {
      "text/plain": "DatetimeIndex(['2024-03-12', '2024-03-13', '2024-03-14', '2024-03-15',\n               '2024-03-16', '2024-03-17'],\n              dtype='datetime64[ns]', freq='D')"
     },
     "execution_count": 13,
     "metadata": {},
     "output_type": "execute_result"
    }
   ],
   "source": [
    "dates = pd.date_range(\"20240312\", periods=6)\n",
    "dates"
   ],
   "metadata": {
    "collapsed": false,
    "ExecuteTime": {
     "end_time": "2024-03-12T03:21:34.554016800Z",
     "start_time": "2024-03-12T03:21:34.543403300Z"
    }
   },
   "id": "43d320b78df84f25"
  },
  {
   "cell_type": "code",
   "execution_count": 17,
   "outputs": [],
   "source": [
    "df = pd.DataFrame(np.random.randn(6, 4), index=dates, columns=list(\"ABCD\"))"
   ],
   "metadata": {
    "collapsed": false,
    "ExecuteTime": {
     "end_time": "2024-03-12T03:22:02.856545500Z",
     "start_time": "2024-03-12T03:22:02.833103Z"
    }
   },
   "id": "23b754a33f5529a4"
  },
  {
   "cell_type": "code",
   "execution_count": 18,
   "outputs": [
    {
     "data": {
      "text/plain": "                   A         B         C         D\n2024-03-12 -0.046239  1.243203 -1.060020  0.628050\n2024-03-13 -1.166643 -1.679515 -0.155174 -1.521557\n2024-03-14 -0.211367 -1.088267 -0.235095 -1.255681\n2024-03-15  0.073596  1.838516 -0.081573  0.168612\n2024-03-16 -0.228173  0.767253 -0.317219 -0.770247\n2024-03-17 -0.688245 -0.895570 -0.300741 -2.279563",
      "text/html": "<div>\n<style scoped>\n    .dataframe tbody tr th:only-of-type {\n        vertical-align: middle;\n    }\n\n    .dataframe tbody tr th {\n        vertical-align: top;\n    }\n\n    .dataframe thead th {\n        text-align: right;\n    }\n</style>\n<table border=\"1\" class=\"dataframe\">\n  <thead>\n    <tr style=\"text-align: right;\">\n      <th></th>\n      <th>A</th>\n      <th>B</th>\n      <th>C</th>\n      <th>D</th>\n    </tr>\n  </thead>\n  <tbody>\n    <tr>\n      <th>2024-03-12</th>\n      <td>-0.046239</td>\n      <td>1.243203</td>\n      <td>-1.060020</td>\n      <td>0.628050</td>\n    </tr>\n    <tr>\n      <th>2024-03-13</th>\n      <td>-1.166643</td>\n      <td>-1.679515</td>\n      <td>-0.155174</td>\n      <td>-1.521557</td>\n    </tr>\n    <tr>\n      <th>2024-03-14</th>\n      <td>-0.211367</td>\n      <td>-1.088267</td>\n      <td>-0.235095</td>\n      <td>-1.255681</td>\n    </tr>\n    <tr>\n      <th>2024-03-15</th>\n      <td>0.073596</td>\n      <td>1.838516</td>\n      <td>-0.081573</td>\n      <td>0.168612</td>\n    </tr>\n    <tr>\n      <th>2024-03-16</th>\n      <td>-0.228173</td>\n      <td>0.767253</td>\n      <td>-0.317219</td>\n      <td>-0.770247</td>\n    </tr>\n    <tr>\n      <th>2024-03-17</th>\n      <td>-0.688245</td>\n      <td>-0.895570</td>\n      <td>-0.300741</td>\n      <td>-2.279563</td>\n    </tr>\n  </tbody>\n</table>\n</div>"
     },
     "execution_count": 18,
     "metadata": {},
     "output_type": "execute_result"
    }
   ],
   "source": [
    "df"
   ],
   "metadata": {
    "collapsed": false,
    "ExecuteTime": {
     "end_time": "2024-03-12T03:22:06.733003200Z",
     "start_time": "2024-03-12T03:22:06.704704800Z"
    }
   },
   "id": "75e7bd5d576841a7"
  },
  {
   "cell_type": "code",
   "execution_count": 25,
   "outputs": [],
   "source": [
    "df2 = pd.DataFrame(\n",
    "\n",
    "    {\n",
    "\n",
    "        \"A\": 1.0,\n",
    "\n",
    "        \"B\": pd.Timestamp(\"20130102\"),\n",
    "\n",
    "        \"C\": pd.Series(1, index=list(range(4)), dtype=\"float32\"),\n",
    "\n",
    "        \"D\": np.array([3] * 4, dtype=\"int32\"),\n",
    "\n",
    "        \"E\": pd.Categorical([\"test\", \"train\", \"test\", \"train\"]),\n",
    "\n",
    "        \"F\": \"foo\",\n",
    "\n",
    "    }\n",
    "\n",
    ")"
   ],
   "metadata": {
    "collapsed": false,
    "ExecuteTime": {
     "end_time": "2024-03-12T03:23:44.621008800Z",
     "start_time": "2024-03-12T03:23:44.571914800Z"
    }
   },
   "id": "f738f9848a0f49a2"
  },
  {
   "cell_type": "code",
   "execution_count": 26,
   "outputs": [
    {
     "data": {
      "text/plain": "     A          B    C   D      E    F\n0  1.0 2013-01-02  1.0  34   test  foo\n1  1.0 2013-01-02  1.0  34  train  foo\n2  1.0 2013-01-02  1.0  34   test  foo\n3  1.0 2013-01-02  1.0  34  train  foo",
      "text/html": "<div>\n<style scoped>\n    .dataframe tbody tr th:only-of-type {\n        vertical-align: middle;\n    }\n\n    .dataframe tbody tr th {\n        vertical-align: top;\n    }\n\n    .dataframe thead th {\n        text-align: right;\n    }\n</style>\n<table border=\"1\" class=\"dataframe\">\n  <thead>\n    <tr style=\"text-align: right;\">\n      <th></th>\n      <th>A</th>\n      <th>B</th>\n      <th>C</th>\n      <th>D</th>\n      <th>E</th>\n      <th>F</th>\n    </tr>\n  </thead>\n  <tbody>\n    <tr>\n      <th>0</th>\n      <td>1.0</td>\n      <td>2013-01-02</td>\n      <td>1.0</td>\n      <td>34</td>\n      <td>test</td>\n      <td>foo</td>\n    </tr>\n    <tr>\n      <th>1</th>\n      <td>1.0</td>\n      <td>2013-01-02</td>\n      <td>1.0</td>\n      <td>34</td>\n      <td>train</td>\n      <td>foo</td>\n    </tr>\n    <tr>\n      <th>2</th>\n      <td>1.0</td>\n      <td>2013-01-02</td>\n      <td>1.0</td>\n      <td>34</td>\n      <td>test</td>\n      <td>foo</td>\n    </tr>\n    <tr>\n      <th>3</th>\n      <td>1.0</td>\n      <td>2013-01-02</td>\n      <td>1.0</td>\n      <td>34</td>\n      <td>train</td>\n      <td>foo</td>\n    </tr>\n  </tbody>\n</table>\n</div>"
     },
     "execution_count": 26,
     "metadata": {},
     "output_type": "execute_result"
    }
   ],
   "source": [
    "df2"
   ],
   "metadata": {
    "collapsed": false,
    "ExecuteTime": {
     "end_time": "2024-03-12T03:23:45.363984500Z",
     "start_time": "2024-03-12T03:23:45.344052300Z"
    }
   },
   "id": "22a6208e34508dba"
  },
  {
   "cell_type": "code",
   "execution_count": 31,
   "outputs": [
    {
     "data": {
      "text/plain": "<bound method NDFrame.bool of      A          B    C   D      E    F\n0  1.0 2013-01-02  1.0  34   test  foo\n1  1.0 2013-01-02  1.0  34  train  foo\n2  1.0 2013-01-02  1.0  34   test  foo\n3  1.0 2013-01-02  1.0  34  train  foo>"
     },
     "execution_count": 31,
     "metadata": {},
     "output_type": "execute_result"
    }
   ],
   "source": [],
   "metadata": {
    "collapsed": false,
    "ExecuteTime": {
     "end_time": "2024-03-12T03:27:37.267127300Z",
     "start_time": "2024-03-12T03:27:37.211229Z"
    }
   },
   "id": "58467ccb7ac526d5"
  },
  {
   "cell_type": "code",
   "execution_count": 35,
   "outputs": [
    {
     "data": {
      "text/plain": "                   A         B         C         D\n2024-03-12 -0.046239  1.243203 -1.060020  0.628050\n2024-03-13 -1.166643 -1.679515 -0.155174 -1.521557\n2024-03-14 -0.211367 -1.088267 -0.235095 -1.255681\n2024-03-15  0.073596  1.838516 -0.081573  0.168612\n2024-03-16 -0.228173  0.767253 -0.317219 -0.770247",
      "text/html": "<div>\n<style scoped>\n    .dataframe tbody tr th:only-of-type {\n        vertical-align: middle;\n    }\n\n    .dataframe tbody tr th {\n        vertical-align: top;\n    }\n\n    .dataframe thead th {\n        text-align: right;\n    }\n</style>\n<table border=\"1\" class=\"dataframe\">\n  <thead>\n    <tr style=\"text-align: right;\">\n      <th></th>\n      <th>A</th>\n      <th>B</th>\n      <th>C</th>\n      <th>D</th>\n    </tr>\n  </thead>\n  <tbody>\n    <tr>\n      <th>2024-03-12</th>\n      <td>-0.046239</td>\n      <td>1.243203</td>\n      <td>-1.060020</td>\n      <td>0.628050</td>\n    </tr>\n    <tr>\n      <th>2024-03-13</th>\n      <td>-1.166643</td>\n      <td>-1.679515</td>\n      <td>-0.155174</td>\n      <td>-1.521557</td>\n    </tr>\n    <tr>\n      <th>2024-03-14</th>\n      <td>-0.211367</td>\n      <td>-1.088267</td>\n      <td>-0.235095</td>\n      <td>-1.255681</td>\n    </tr>\n    <tr>\n      <th>2024-03-15</th>\n      <td>0.073596</td>\n      <td>1.838516</td>\n      <td>-0.081573</td>\n      <td>0.168612</td>\n    </tr>\n    <tr>\n      <th>2024-03-16</th>\n      <td>-0.228173</td>\n      <td>0.767253</td>\n      <td>-0.317219</td>\n      <td>-0.770247</td>\n    </tr>\n  </tbody>\n</table>\n</div>"
     },
     "execution_count": 35,
     "metadata": {},
     "output_type": "execute_result"
    }
   ],
   "source": [
    "df.head()   # 括号中参数默认是5"
   ],
   "metadata": {
    "collapsed": false,
    "ExecuteTime": {
     "end_time": "2024-03-12T03:30:21.225909600Z",
     "start_time": "2024-03-12T03:30:21.184572400Z"
    }
   },
   "id": "e8069addb1bd67c5"
  },
  {
   "cell_type": "code",
   "execution_count": 33,
   "outputs": [
    {
     "data": {
      "text/plain": "                   A         B         C         D\n2024-03-15  0.073596  1.838516 -0.081573  0.168612\n2024-03-16 -0.228173  0.767253 -0.317219 -0.770247\n2024-03-17 -0.688245 -0.895570 -0.300741 -2.279563",
      "text/html": "<div>\n<style scoped>\n    .dataframe tbody tr th:only-of-type {\n        vertical-align: middle;\n    }\n\n    .dataframe tbody tr th {\n        vertical-align: top;\n    }\n\n    .dataframe thead th {\n        text-align: right;\n    }\n</style>\n<table border=\"1\" class=\"dataframe\">\n  <thead>\n    <tr style=\"text-align: right;\">\n      <th></th>\n      <th>A</th>\n      <th>B</th>\n      <th>C</th>\n      <th>D</th>\n    </tr>\n  </thead>\n  <tbody>\n    <tr>\n      <th>2024-03-15</th>\n      <td>0.073596</td>\n      <td>1.838516</td>\n      <td>-0.081573</td>\n      <td>0.168612</td>\n    </tr>\n    <tr>\n      <th>2024-03-16</th>\n      <td>-0.228173</td>\n      <td>0.767253</td>\n      <td>-0.317219</td>\n      <td>-0.770247</td>\n    </tr>\n    <tr>\n      <th>2024-03-17</th>\n      <td>-0.688245</td>\n      <td>-0.895570</td>\n      <td>-0.300741</td>\n      <td>-2.279563</td>\n    </tr>\n  </tbody>\n</table>\n</div>"
     },
     "execution_count": 33,
     "metadata": {},
     "output_type": "execute_result"
    }
   ],
   "source": [
    "df.tail(3)"
   ],
   "metadata": {
    "collapsed": false,
    "ExecuteTime": {
     "end_time": "2024-03-12T03:29:53.697324100Z",
     "start_time": "2024-03-12T03:29:53.626551100Z"
    }
   },
   "id": "13eeb3c0275c98f9"
  },
  {
   "cell_type": "code",
   "execution_count": 36,
   "outputs": [
    {
     "data": {
      "text/plain": "DatetimeIndex(['2024-03-12', '2024-03-13', '2024-03-14', '2024-03-15',\n               '2024-03-16', '2024-03-17'],\n              dtype='datetime64[ns]', freq='D')"
     },
     "execution_count": 36,
     "metadata": {},
     "output_type": "execute_result"
    }
   ],
   "source": [
    "df.index"
   ],
   "metadata": {
    "collapsed": false,
    "ExecuteTime": {
     "end_time": "2024-03-12T03:31:02.068609100Z",
     "start_time": "2024-03-12T03:31:02.020995300Z"
    }
   },
   "id": "5b3a903c14f9bfca"
  },
  {
   "cell_type": "code",
   "execution_count": 37,
   "outputs": [
    {
     "data": {
      "text/plain": "Index(['A', 'B', 'C', 'D'], dtype='object')"
     },
     "execution_count": 37,
     "metadata": {},
     "output_type": "execute_result"
    }
   ],
   "source": [
    "df.columns"
   ],
   "metadata": {
    "collapsed": false,
    "ExecuteTime": {
     "end_time": "2024-03-12T03:31:11.337463600Z",
     "start_time": "2024-03-12T03:31:11.264342400Z"
    }
   },
   "id": "559329a875a17b55"
  },
  {
   "cell_type": "code",
   "execution_count": 38,
   "outputs": [
    {
     "data": {
      "text/plain": "array([[-0.04623855,  1.24320264, -1.06002033,  0.62804954],\n       [-1.16664293, -1.67951513, -0.15517367, -1.52155683],\n       [-0.21136734, -1.08826686, -0.23509521, -1.25568069],\n       [ 0.07359575,  1.8385158 , -0.08157262,  0.16861235],\n       [-0.22817262,  0.76725314, -0.31721864, -0.77024672],\n       [-0.68824527, -0.89557039, -0.30074079, -2.2795632 ]])"
     },
     "execution_count": 38,
     "metadata": {},
     "output_type": "execute_result"
    }
   ],
   "source": [
    "df.to_numpy()"
   ],
   "metadata": {
    "collapsed": false,
    "ExecuteTime": {
     "end_time": "2024-03-12T03:31:24.128686300Z",
     "start_time": "2024-03-12T03:31:24.083820800Z"
    }
   },
   "id": "39181a526131296"
  },
  {
   "cell_type": "code",
   "execution_count": 39,
   "outputs": [
    {
     "data": {
      "text/plain": "A           float64\nB    datetime64[ns]\nC           float32\nD             int32\nE          category\nF            object\ndtype: object"
     },
     "execution_count": 39,
     "metadata": {},
     "output_type": "execute_result"
    }
   ],
   "source": [
    "df2.dtypes"
   ],
   "metadata": {
    "collapsed": false,
    "ExecuteTime": {
     "end_time": "2024-03-12T03:33:07.811660400Z",
     "start_time": "2024-03-12T03:33:07.800427300Z"
    }
   },
   "id": "89c80188ca42f714"
  },
  {
   "cell_type": "code",
   "execution_count": 40,
   "outputs": [
    {
     "data": {
      "text/plain": "array([[1.0, Timestamp('2013-01-02 00:00:00'), 1.0, 34, 'test', 'foo'],\n       [1.0, Timestamp('2013-01-02 00:00:00'), 1.0, 34, 'train', 'foo'],\n       [1.0, Timestamp('2013-01-02 00:00:00'), 1.0, 34, 'test', 'foo'],\n       [1.0, Timestamp('2013-01-02 00:00:00'), 1.0, 34, 'train', 'foo']],\n      dtype=object)"
     },
     "execution_count": 40,
     "metadata": {},
     "output_type": "execute_result"
    }
   ],
   "source": [
    "df2.to_numpy()"
   ],
   "metadata": {
    "collapsed": false,
    "ExecuteTime": {
     "end_time": "2024-03-12T03:33:21.028503600Z",
     "start_time": "2024-03-12T03:33:21.001599700Z"
    }
   },
   "id": "77996a2bae2201dd"
  },
  {
   "cell_type": "code",
   "execution_count": 42,
   "outputs": [
    {
     "data": {
      "text/plain": "              A         B         C         D\ncount  6.000000  6.000000  6.000000  6.000000\nmean  -0.377845  0.030937 -0.358304 -0.838398\nstd    0.465280  1.436368  0.355086  1.085078\nmin   -1.166643 -1.679515 -1.060020 -2.279563\n25%   -0.573227 -1.040093 -0.313099 -1.455088\n50%   -0.219770 -0.064159 -0.267918 -1.012964\n75%   -0.087521  1.124215 -0.175154 -0.066102\nmax    0.073596  1.838516 -0.081573  0.628050",
      "text/html": "<div>\n<style scoped>\n    .dataframe tbody tr th:only-of-type {\n        vertical-align: middle;\n    }\n\n    .dataframe tbody tr th {\n        vertical-align: top;\n    }\n\n    .dataframe thead th {\n        text-align: right;\n    }\n</style>\n<table border=\"1\" class=\"dataframe\">\n  <thead>\n    <tr style=\"text-align: right;\">\n      <th></th>\n      <th>A</th>\n      <th>B</th>\n      <th>C</th>\n      <th>D</th>\n    </tr>\n  </thead>\n  <tbody>\n    <tr>\n      <th>count</th>\n      <td>6.000000</td>\n      <td>6.000000</td>\n      <td>6.000000</td>\n      <td>6.000000</td>\n    </tr>\n    <tr>\n      <th>mean</th>\n      <td>-0.377845</td>\n      <td>0.030937</td>\n      <td>-0.358304</td>\n      <td>-0.838398</td>\n    </tr>\n    <tr>\n      <th>std</th>\n      <td>0.465280</td>\n      <td>1.436368</td>\n      <td>0.355086</td>\n      <td>1.085078</td>\n    </tr>\n    <tr>\n      <th>min</th>\n      <td>-1.166643</td>\n      <td>-1.679515</td>\n      <td>-1.060020</td>\n      <td>-2.279563</td>\n    </tr>\n    <tr>\n      <th>25%</th>\n      <td>-0.573227</td>\n      <td>-1.040093</td>\n      <td>-0.313099</td>\n      <td>-1.455088</td>\n    </tr>\n    <tr>\n      <th>50%</th>\n      <td>-0.219770</td>\n      <td>-0.064159</td>\n      <td>-0.267918</td>\n      <td>-1.012964</td>\n    </tr>\n    <tr>\n      <th>75%</th>\n      <td>-0.087521</td>\n      <td>1.124215</td>\n      <td>-0.175154</td>\n      <td>-0.066102</td>\n    </tr>\n    <tr>\n      <th>max</th>\n      <td>0.073596</td>\n      <td>1.838516</td>\n      <td>-0.081573</td>\n      <td>0.628050</td>\n    </tr>\n  </tbody>\n</table>\n</div>"
     },
     "execution_count": 42,
     "metadata": {},
     "output_type": "execute_result"
    }
   ],
   "source": [
    "df.describe()"
   ],
   "metadata": {
    "collapsed": false,
    "ExecuteTime": {
     "end_time": "2024-03-12T03:34:35.316679300Z",
     "start_time": "2024-03-12T03:34:35.270600100Z"
    }
   },
   "id": "95ec40d0397eb467"
  },
  {
   "cell_type": "markdown",
   "source": [
    "count（计数）：每列的非空值数量。\n",
    "mean（均值）：每列的平均值。\n",
    "std（标准差）：每列的标准差。\n",
    "min（最小值）：每列的最小值。\n",
    "25%、50%、75%（分位数）：每列的第 25%、50%（中位数）、75% 位置的值。\n",
    "max（最大值）：每列的最大值。"
   ],
   "metadata": {
    "collapsed": false
   },
   "id": "ba87393f155d2e69"
  },
  {
   "cell_type": "code",
   "execution_count": null,
   "outputs": [],
   "source": [],
   "metadata": {
    "collapsed": false
   },
   "id": "ccbc275ab9c6a619"
  }
 ],
 "metadata": {
  "kernelspec": {
   "display_name": "Python 3",
   "language": "python",
   "name": "python3"
  },
  "language_info": {
   "codemirror_mode": {
    "name": "ipython",
    "version": 2
   },
   "file_extension": ".py",
   "mimetype": "text/x-python",
   "name": "python",
   "nbconvert_exporter": "python",
   "pygments_lexer": "ipython2",
   "version": "2.7.6"
  }
 },
 "nbformat": 4,
 "nbformat_minor": 5
}
