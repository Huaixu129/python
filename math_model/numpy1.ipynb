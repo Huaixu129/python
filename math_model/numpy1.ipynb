{
 "cells": [
  {
   "cell_type": "code",
   "execution_count": 2,
   "outputs": [],
   "source": [
    "import numpy as np"
   ],
   "metadata": {
    "collapsed": false,
    "ExecuteTime": {
     "end_time": "2024-01-31T05:59:11.285459700Z",
     "start_time": "2024-01-31T05:59:11.180401900Z"
    }
   },
   "id": "cae9b0c38a8d344a"
  },
  {
   "cell_type": "code",
   "execution_count": 6,
   "outputs": [
    {
     "data": {
      "text/plain": "'1.24.3'"
     },
     "execution_count": 6,
     "metadata": {},
     "output_type": "execute_result"
    }
   ],
   "source": [
    "np.__version__"
   ],
   "metadata": {
    "collapsed": false,
    "ExecuteTime": {
     "end_time": "2024-01-31T06:02:38.501834Z",
     "start_time": "2024-01-31T06:02:38.492313800Z"
    }
   },
   "id": "a95ba0fa57a687c5"
  },
  {
   "cell_type": "code",
   "execution_count": 7,
   "outputs": [
    {
     "data": {
      "text/plain": "array([1, 2, 3])"
     },
     "execution_count": 7,
     "metadata": {},
     "output_type": "execute_result"
    }
   ],
   "source": [
    "data = [1, 2, 3]\n",
    "nd = np.array(data)\n",
    "nd"
   ],
   "metadata": {
    "collapsed": false,
    "ExecuteTime": {
     "end_time": "2024-01-31T06:03:24.625880700Z",
     "start_time": "2024-01-31T06:03:24.611771500Z"
    }
   },
   "id": "ac7cd2dc2ae2c450"
  },
  {
   "cell_type": "code",
   "execution_count": 8,
   "outputs": [
    {
     "data": {
      "text/plain": "array([1, 2, 3])"
     },
     "execution_count": 8,
     "metadata": {},
     "output_type": "execute_result"
    }
   ],
   "source": [
    "np.array([1, 2, 3])"
   ],
   "metadata": {
    "collapsed": false,
    "ExecuteTime": {
     "end_time": "2024-01-31T06:04:37.030397Z",
     "start_time": "2024-01-31T06:04:37.002406700Z"
    }
   },
   "id": "f6b50fed9da4f8b6"
  },
  {
   "cell_type": "code",
   "execution_count": 9,
   "outputs": [
    {
     "data": {
      "text/plain": "(list, numpy.ndarray)"
     },
     "execution_count": 9,
     "metadata": {},
     "output_type": "execute_result"
    }
   ],
   "source": [
    "type(data),type(nd)"
   ],
   "metadata": {
    "collapsed": false,
    "ExecuteTime": {
     "end_time": "2024-01-31T06:05:14.166977600Z",
     "start_time": "2024-01-31T06:05:14.144534800Z"
    }
   },
   "id": "a14d7320fe43472e"
  },
  {
   "cell_type": "code",
   "execution_count": 10,
   "outputs": [
    {
     "data": {
      "text/plain": "dtype('int32')"
     },
     "execution_count": 10,
     "metadata": {},
     "output_type": "execute_result"
    }
   ],
   "source": [
    "# 查看nd中的元素的类型\n",
    "nd.dtype"
   ],
   "metadata": {
    "collapsed": false,
    "ExecuteTime": {
     "end_time": "2024-01-31T06:05:41.629422Z",
     "start_time": "2024-01-31T06:05:41.607482600Z"
    }
   },
   "id": "645e545173c352e"
  },
  {
   "cell_type": "code",
   "execution_count": 11,
   "outputs": [
    {
     "data": {
      "text/plain": "array(['1', '3', '4.6', 'fdsaf', 'True'], dtype='<U32')"
     },
     "execution_count": 11,
     "metadata": {},
     "output_type": "execute_result"
    }
   ],
   "source": [
    "nd2 = np.array([1,3,4.6,\"fdsaf\",True])\n",
    "nd2"
   ],
   "metadata": {
    "collapsed": false,
    "ExecuteTime": {
     "end_time": "2024-01-31T06:06:03.590352900Z",
     "start_time": "2024-01-31T06:06:03.568653100Z"
    }
   },
   "id": "246b454afb405d0"
  },
  {
   "cell_type": "code",
   "execution_count": 12,
   "outputs": [
    {
     "data": {
      "text/plain": "dtype('<U32')"
     },
     "execution_count": 12,
     "metadata": {},
     "output_type": "execute_result"
    }
   ],
   "source": [
    "nd2.dtype"
   ],
   "metadata": {
    "collapsed": false,
    "ExecuteTime": {
     "end_time": "2024-01-31T06:06:29.106111300Z",
     "start_time": "2024-01-31T06:06:29.099768400Z"
    }
   },
   "id": "350be85fd711bf24"
  },
  {
   "cell_type": "code",
   "execution_count": 13,
   "outputs": [],
   "source": [
    "# 注：图片在numpy中也是一个数组\n",
    "# 导入一张图片\n",
    "import matplotlib.pyplot as plt\n",
    "# 这个工具是数据可视化分析工具，在这里我用来导入图片"
   ],
   "metadata": {
    "collapsed": false,
    "ExecuteTime": {
     "end_time": "2024-01-31T06:07:33.682684500Z",
     "start_time": "2024-01-31T06:07:33.200561700Z"
    }
   },
   "id": "a0d68e588cdeaee5"
  },
  {
   "cell_type": "code",
   "execution_count": 16,
   "outputs": [
    {
     "data": {
      "text/plain": "numpy.ndarray"
     },
     "execution_count": 16,
     "metadata": {},
     "output_type": "execute_result"
    }
   ],
   "source": [
    "image = plt.imread(\"F:\\\\flie\\Snipaste_2024-01-30_12-22-02.png\")\n",
    "type(image) # 图片导入后是array类型的数组"
   ],
   "metadata": {
    "collapsed": false,
    "ExecuteTime": {
     "end_time": "2024-01-31T06:12:51.406462800Z",
     "start_time": "2024-01-31T06:12:51.393625400Z"
    }
   },
   "id": "8b67b1630e218a71"
  },
  {
   "cell_type": "code",
   "execution_count": 17,
   "outputs": [
    {
     "data": {
      "text/plain": "(432, 438, 3)"
     },
     "execution_count": 17,
     "metadata": {},
     "output_type": "execute_result"
    }
   ],
   "source": [
    "# 查看数据形状\n",
    "image.shape\n",
    "# 元组的每一个数据表示其在各个维度的元素个数"
   ],
   "metadata": {
    "collapsed": false,
    "ExecuteTime": {
     "end_time": "2024-01-31T06:13:26.415471600Z",
     "start_time": "2024-01-31T06:13:26.404643100Z"
    }
   },
   "id": "e5d44105d9939d2d"
  },
  {
   "cell_type": "code",
   "execution_count": 18,
   "outputs": [
    {
     "data": {
      "text/plain": "array([[[0.9411765 , 0.9411765 , 0.9411765 ],\n        [0.9411765 , 0.9411765 , 0.9411765 ],\n        [0.9411765 , 0.9411765 , 0.9411765 ],\n        ...,\n        [0.9411765 , 0.9411765 , 0.9411765 ],\n        [0.9411765 , 0.9411765 , 0.9411765 ],\n        [0.9411765 , 0.9411765 , 0.9411765 ]],\n\n       [[0.9411765 , 0.9411765 , 0.9411765 ],\n        [0.9411765 , 0.9411765 , 0.9411765 ],\n        [0.9411765 , 0.9411765 , 0.9411765 ],\n        ...,\n        [0.9411765 , 0.9411765 , 0.9411765 ],\n        [0.9411765 , 0.9411765 , 0.9411765 ],\n        [0.9411765 , 0.9411765 , 0.9411765 ]],\n\n       [[0.67058825, 0.67058825, 0.67058825],\n        [0.67058825, 0.67058825, 0.67058825],\n        [0.67058825, 0.67058825, 0.67058825],\n        ...,\n        [0.67058825, 0.67058825, 0.67058825],\n        [0.67058825, 0.67058825, 0.67058825],\n        [0.67058825, 0.67058825, 0.67058825]],\n\n       ...,\n\n       [[1.        , 1.        , 1.        ],\n        [1.        , 1.        , 1.        ],\n        [1.        , 1.        , 1.        ],\n        ...,\n        [1.        , 1.        , 1.        ],\n        [1.        , 1.        , 1.        ],\n        [1.        , 1.        , 1.        ]],\n\n       [[1.        , 1.        , 1.        ],\n        [1.        , 1.        , 1.        ],\n        [1.        , 1.        , 1.        ],\n        ...,\n        [1.        , 1.        , 1.        ],\n        [1.        , 1.        , 1.        ],\n        [1.        , 1.        , 1.        ]],\n\n       [[1.        , 1.        , 1.        ],\n        [1.        , 1.        , 1.        ],\n        [1.        , 1.        , 1.        ],\n        ...,\n        [1.        , 1.        , 1.        ],\n        [1.        , 1.        , 1.        ],\n        [1.        , 1.        , 1.        ]]], dtype=float32)"
     },
     "execution_count": 18,
     "metadata": {},
     "output_type": "execute_result"
    }
   ],
   "source": [
    "image"
   ],
   "metadata": {
    "collapsed": false,
    "ExecuteTime": {
     "end_time": "2024-01-31T06:15:03.553492600Z",
     "start_time": "2024-01-31T06:15:03.544833400Z"
    }
   },
   "id": "dcc9d6fae6c7f25c"
  },
  {
   "cell_type": "code",
   "execution_count": 22,
   "outputs": [
    {
     "data": {
      "text/plain": "array([[[0.5  , 0.5  , 0.6  ],\n        [0.8  , 0.8  , 0.2  ],\n        [0.6  , 0.9  , 0.5  ]],\n\n       [[0.12 , 0.32 , 0.435],\n        [0.22 , 0.45 , 0.9  ],\n        [0.1  , 0.2  , 0.3  ]],\n\n       [[0.12 , 0.32 , 0.435],\n        [0.12 , 0.32 , 0.435],\n        [0.12 , 0.32 , 0.435]],\n\n       [[0.12 , 0.32 , 0.435],\n        [0.12 , 0.32 , 0.435],\n        [0.12 , 0.32 , 0.435]]])"
     },
     "execution_count": 22,
     "metadata": {},
     "output_type": "execute_result"
    }
   ],
   "source": [
    "# 创建一张图片\n",
    "# 创建一张图片\n",
    "boy = np.array([[[0.5,0.5,0.6],[0.8,0.8,0.2],[0.6,0.9,0.5]],\n",
    "                [[0.12,0.32,0.435],[0.22,0.45,0.9],[0.1,0.2,0.3]],\n",
    "                [[0.12,0.32,0.435],[0.12,0.32,0.435],[0.12,0.32,0.435]],\n",
    "                [[0.12,0.32,0.435],[0.12,0.32,0.435],[0.12,0.32,0.435]]])\n",
    "boy"
   ],
   "metadata": {
    "collapsed": false,
    "ExecuteTime": {
     "end_time": "2024-01-31T06:17:09.152849900Z",
     "start_time": "2024-01-31T06:17:09.143299600Z"
    }
   },
   "id": "ed5677f37b09b6b5"
  },
  {
   "cell_type": "code",
   "execution_count": 23,
   "outputs": [
    {
     "data": {
      "text/plain": "<Figure size 640x480 with 1 Axes>",
      "image/png": "[encoded data removed]"
     },
     "metadata": {},
     "output_type": "display_data"
    }
   ],
   "source": [
    "plt.imshow(boy)\n",
    "plt.show()"
   ],
   "metadata": {
    "collapsed": false,
    "ExecuteTime": {
     "end_time": "2024-01-31T06:17:13.006040100Z",
     "start_time": "2024-01-31T06:17:12.909279500Z"
    }
   },
   "id": "550da6453254e59e"
  },
  {
   "cell_type": "code",
   "execution_count": null,
   "outputs": [],
   "source": [],
   "metadata": {
    "collapsed": false
   },
   "id": "824ddd118dcbca6d"
  }
 ],
 "metadata": {
  "kernelspec": {
   "display_name": "Python 3",
   "language": "python",
   "name": "python3"
  },
  "language_info": {
   "codemirror_mode": {
    "name": "ipython",
    "version": 2
   },
   "file_extension": ".py",
   "mimetype": "text/x-python",
   "name": "python",
   "nbconvert_exporter": "python",
   "pygments_lexer": "ipython2",
   "version": "2.7.6"
  }
 },
 "nbformat": 4,
 "nbformat_minor": 5
}
